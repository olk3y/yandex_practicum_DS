{
 "cells": [
  {
   "cell_type": "markdown",
   "metadata": {},
   "source": [
    "# Отток клиентов"
   ]
  },
  {
   "cell_type": "markdown",
   "metadata": {},
   "source": [
    "Из «Бета-Банка» стали уходить клиенты. Каждый месяц. Немного, но заметно. Банковские маркетологи посчитали: сохранять текущих клиентов дешевле, чем привлекать новых.\n",
    "\n",
    "Нужно спрогнозировать, уйдёт клиент из банка в ближайшее время или нет. Предоставлены исторические данные о поведении клиентов и расторжении договоров с банком. \n",
    "\n",
    "\n",
    "Дополнительно измерим *AUC-ROC*, сравнивая её значение с *F1*-мерой.\n",
    "\n",
    "Источник данных: [https://www.kaggle.com/barelydedicated/bank-customer-churn-modeling](https://www.kaggle.com/barelydedicated/bank-customer-churn-modeling)"
   ]
  },
  {
   "cell_type": "markdown",
   "metadata": {},
   "source": [
    "<h1>Содержание<span class=\"tocSkip\"></span></h1>\n",
    "<div class=\"toc\"><ul class=\"toc-item\"><li><span><a href=\"#Подготовка-данных\" data-toc-modified-id=\"Подготовка-данных-1\"><span class=\"toc-item-num\">1&nbsp;&nbsp;</span>Подготовка данных</a></span></li><li><span><a href=\"#Исследование-задачи\" data-toc-modified-id=\"Исследование-задачи-2\"><span class=\"toc-item-num\">2&nbsp;&nbsp;</span>Исследование задачи</a></span></li><li><span><a href=\"#Борьба-с-дисбалансом\" data-toc-modified-id=\"Борьба-с-дисбалансом-3\"><span class=\"toc-item-num\">3&nbsp;&nbsp;</span>Борьба с дисбалансом</a></span></li><li><span><a href=\"#Тестирование-моделей\" data-toc-modified-id=\"Тестирование-моделей-4\"><span class=\"toc-item-num\">4&nbsp;&nbsp;</span>Тестирование моделей</a></span></li><li><span><a href=\"#Чек-лист-готовности-проекта\" data-toc-modified-id=\"Чек-лист-готовности-проекта-5\"><span class=\"toc-item-num\">5&nbsp;&nbsp;</span>Чек-лист готовности проекта</a></span></li></ul></div>"
   ]
  },
  {
   "cell_type": "markdown",
   "metadata": {},
   "source": [
    "План работы:\n",
    "1) Загрузить и изучить данные\n",
    "\n",
    "2) Подготовка данных\n",
    "\n",
    "3) Обучить несколько моделей и выбрать лучшую\n",
    "\n",
    "4) Сделать тесты модели"
   ]
  },
  {
   "cell_type": "markdown",
   "metadata": {},
   "source": [
    "## Подготовка данных"
   ]
  },
  {
   "cell_type": "markdown",
   "metadata": {},
   "source": [
    "**1.1 Загрузка и изучение данных**"
   ]
  },
  {
   "cell_type": "code",
   "execution_count": 1,
   "metadata": {},
   "outputs": [],
   "source": [
    "import pandas as pd\n",
    "import matplotlib.pyplot as plt\n",
    "import numpy as np\n",
    "from sklearn.model_selection import train_test_split\n",
    "from sklearn.tree import DecisionTreeClassifier\n",
    "from sklearn.ensemble import RandomForestClassifier\n",
    "from sklearn.linear_model import LogisticRegression\n",
    "from sklearn.preprocessing import StandardScaler\n",
    "from sklearn.preprocessing import OrdinalEncoder\n",
    "from sklearn.metrics import f1_score\n",
    "from sklearn.metrics import roc_curve\n",
    "from sklearn.metrics import roc_auc_score\n",
    "from sklearn.metrics import recall_score\n",
    "from sklearn.metrics import precision_score\n",
    "from sklearn.utils import shuffle\n",
    "from sklearn.model_selection import GridSearchCV\n",
    "\n",
    "import warnings\n",
    "warnings.filterwarnings(\"ignore\")"
   ]
  },
  {
   "cell_type": "code",
   "execution_count": 2,
   "metadata": {},
   "outputs": [
    {
     "name": "stdout",
     "output_type": "stream",
     "text": [
      "<class 'pandas.core.frame.DataFrame'>\n",
      "RangeIndex: 10000 entries, 0 to 9999\n",
      "Data columns (total 14 columns):\n",
      " #   Column           Non-Null Count  Dtype  \n",
      "---  ------           --------------  -----  \n",
      " 0   RowNumber        10000 non-null  int64  \n",
      " 1   CustomerId       10000 non-null  int64  \n",
      " 2   Surname          10000 non-null  object \n",
      " 3   CreditScore      10000 non-null  int64  \n",
      " 4   Geography        10000 non-null  object \n",
      " 5   Gender           10000 non-null  object \n",
      " 6   Age              10000 non-null  int64  \n",
      " 7   Tenure           9091 non-null   float64\n",
      " 8   Balance          10000 non-null  float64\n",
      " 9   NumOfProducts    10000 non-null  int64  \n",
      " 10  HasCrCard        10000 non-null  int64  \n",
      " 11  IsActiveMember   10000 non-null  int64  \n",
      " 12  EstimatedSalary  10000 non-null  float64\n",
      " 13  Exited           10000 non-null  int64  \n",
      "dtypes: float64(3), int64(8), object(3)\n",
      "memory usage: 1.1+ MB\n"
     ]
    }
   ],
   "source": [
    "data = pd.read_csv('https://code.s3.yandex.net/datasets/Churn.csv')\n",
    "\n",
    "data.info()"
   ]
  },
  {
   "cell_type": "markdown",
   "metadata": {},
   "source": [
    "Как мы видим из общей информации о данных - в датасете 10 000 строк, также у нас есть 13 признаков и 1 целевой признак."
   ]
  },
  {
   "cell_type": "code",
   "execution_count": 3,
   "metadata": {},
   "outputs": [
    {
     "data": {
      "text/html": [
       "<div>\n",
       "<style scoped>\n",
       "    .dataframe tbody tr th:only-of-type {\n",
       "        vertical-align: middle;\n",
       "    }\n",
       "\n",
       "    .dataframe tbody tr th {\n",
       "        vertical-align: top;\n",
       "    }\n",
       "\n",
       "    .dataframe thead th {\n",
       "        text-align: right;\n",
       "    }\n",
       "</style>\n",
       "<table border=\"1\" class=\"dataframe\">\n",
       "  <thead>\n",
       "    <tr style=\"text-align: right;\">\n",
       "      <th></th>\n",
       "      <th>RowNumber</th>\n",
       "      <th>CustomerId</th>\n",
       "      <th>Surname</th>\n",
       "      <th>CreditScore</th>\n",
       "      <th>Geography</th>\n",
       "      <th>Gender</th>\n",
       "      <th>Age</th>\n",
       "      <th>Tenure</th>\n",
       "      <th>Balance</th>\n",
       "      <th>NumOfProducts</th>\n",
       "      <th>HasCrCard</th>\n",
       "      <th>IsActiveMember</th>\n",
       "      <th>EstimatedSalary</th>\n",
       "      <th>Exited</th>\n",
       "    </tr>\n",
       "  </thead>\n",
       "  <tbody>\n",
       "    <tr>\n",
       "      <th>0</th>\n",
       "      <td>1</td>\n",
       "      <td>15634602</td>\n",
       "      <td>Hargrave</td>\n",
       "      <td>619</td>\n",
       "      <td>France</td>\n",
       "      <td>Female</td>\n",
       "      <td>42</td>\n",
       "      <td>2.0</td>\n",
       "      <td>0.00</td>\n",
       "      <td>1</td>\n",
       "      <td>1</td>\n",
       "      <td>1</td>\n",
       "      <td>101348.88</td>\n",
       "      <td>1</td>\n",
       "    </tr>\n",
       "    <tr>\n",
       "      <th>1</th>\n",
       "      <td>2</td>\n",
       "      <td>15647311</td>\n",
       "      <td>Hill</td>\n",
       "      <td>608</td>\n",
       "      <td>Spain</td>\n",
       "      <td>Female</td>\n",
       "      <td>41</td>\n",
       "      <td>1.0</td>\n",
       "      <td>83807.86</td>\n",
       "      <td>1</td>\n",
       "      <td>0</td>\n",
       "      <td>1</td>\n",
       "      <td>112542.58</td>\n",
       "      <td>0</td>\n",
       "    </tr>\n",
       "    <tr>\n",
       "      <th>2</th>\n",
       "      <td>3</td>\n",
       "      <td>15619304</td>\n",
       "      <td>Onio</td>\n",
       "      <td>502</td>\n",
       "      <td>France</td>\n",
       "      <td>Female</td>\n",
       "      <td>42</td>\n",
       "      <td>8.0</td>\n",
       "      <td>159660.80</td>\n",
       "      <td>3</td>\n",
       "      <td>1</td>\n",
       "      <td>0</td>\n",
       "      <td>113931.57</td>\n",
       "      <td>1</td>\n",
       "    </tr>\n",
       "    <tr>\n",
       "      <th>3</th>\n",
       "      <td>4</td>\n",
       "      <td>15701354</td>\n",
       "      <td>Boni</td>\n",
       "      <td>699</td>\n",
       "      <td>France</td>\n",
       "      <td>Female</td>\n",
       "      <td>39</td>\n",
       "      <td>1.0</td>\n",
       "      <td>0.00</td>\n",
       "      <td>2</td>\n",
       "      <td>0</td>\n",
       "      <td>0</td>\n",
       "      <td>93826.63</td>\n",
       "      <td>0</td>\n",
       "    </tr>\n",
       "    <tr>\n",
       "      <th>4</th>\n",
       "      <td>5</td>\n",
       "      <td>15737888</td>\n",
       "      <td>Mitchell</td>\n",
       "      <td>850</td>\n",
       "      <td>Spain</td>\n",
       "      <td>Female</td>\n",
       "      <td>43</td>\n",
       "      <td>2.0</td>\n",
       "      <td>125510.82</td>\n",
       "      <td>1</td>\n",
       "      <td>1</td>\n",
       "      <td>1</td>\n",
       "      <td>79084.10</td>\n",
       "      <td>0</td>\n",
       "    </tr>\n",
       "  </tbody>\n",
       "</table>\n",
       "</div>"
      ],
      "text/plain": [
       "   RowNumber  CustomerId   Surname  CreditScore Geography  Gender  Age  \\\n",
       "0          1    15634602  Hargrave          619    France  Female   42   \n",
       "1          2    15647311      Hill          608     Spain  Female   41   \n",
       "2          3    15619304      Onio          502    France  Female   42   \n",
       "3          4    15701354      Boni          699    France  Female   39   \n",
       "4          5    15737888  Mitchell          850     Spain  Female   43   \n",
       "\n",
       "   Tenure    Balance  NumOfProducts  HasCrCard  IsActiveMember  \\\n",
       "0     2.0       0.00              1          1               1   \n",
       "1     1.0   83807.86              1          0               1   \n",
       "2     8.0  159660.80              3          1               0   \n",
       "3     1.0       0.00              2          0               0   \n",
       "4     2.0  125510.82              1          1               1   \n",
       "\n",
       "   EstimatedSalary  Exited  \n",
       "0        101348.88       1  \n",
       "1        112542.58       0  \n",
       "2        113931.57       1  \n",
       "3         93826.63       0  \n",
       "4         79084.10       0  "
      ]
     },
     "execution_count": 3,
     "metadata": {},
     "output_type": "execute_result"
    }
   ],
   "source": [
    "data.head()"
   ]
  },
  {
   "cell_type": "code",
   "execution_count": 4,
   "metadata": {},
   "outputs": [
    {
     "data": {
      "text/plain": [
       "RowNumber            0\n",
       "CustomerId           0\n",
       "Surname              0\n",
       "CreditScore          0\n",
       "Geography            0\n",
       "Gender               0\n",
       "Age                  0\n",
       "Tenure             909\n",
       "Balance              0\n",
       "NumOfProducts        0\n",
       "HasCrCard            0\n",
       "IsActiveMember       0\n",
       "EstimatedSalary      0\n",
       "Exited               0\n",
       "dtype: int64"
      ]
     },
     "execution_count": 4,
     "metadata": {},
     "output_type": "execute_result"
    }
   ],
   "source": [
    "data.isna().sum()"
   ]
  },
  {
   "cell_type": "code",
   "execution_count": 5,
   "metadata": {},
   "outputs": [
    {
     "data": {
      "text/plain": [
       "0"
      ]
     },
     "execution_count": 5,
     "metadata": {},
     "output_type": "execute_result"
    }
   ],
   "source": [
    "data.duplicated().sum()"
   ]
  },
  {
   "cell_type": "markdown",
   "metadata": {},
   "source": [
    "**Итог:** В данных есть ненужные столбцы, которые можно удалить. Также есть пропуски в колонке \"Tenure\" (сколько лет человек является клиентом банка), это может означать, что у клиента нет недвижимости. Значит можно просто заменить эти пропуски на значение \"-1\" и перевести в целочисленный тип данных. Дубликаты в датасете не обнаружены."
   ]
  },
  {
   "cell_type": "markdown",
   "metadata": {},
   "source": [
    "**1.2 Подготовка данных**"
   ]
  },
  {
   "cell_type": "code",
   "execution_count": 6,
   "metadata": {},
   "outputs": [],
   "source": [
    "# Заполним пропуски в колонке Tenure и преобразуем в целелочисленный тип данных\n",
    "\n",
    "data['Tenure'] = data['Tenure'].fillna(data['Tenure'].median()).astype('int64')"
   ]
  },
  {
   "cell_type": "code",
   "execution_count": 7,
   "metadata": {},
   "outputs": [
    {
     "data": {
      "text/plain": [
       "RowNumber          0\n",
       "CustomerId         0\n",
       "Surname            0\n",
       "CreditScore        0\n",
       "Geography          0\n",
       "Gender             0\n",
       "Age                0\n",
       "Tenure             0\n",
       "Balance            0\n",
       "NumOfProducts      0\n",
       "HasCrCard          0\n",
       "IsActiveMember     0\n",
       "EstimatedSalary    0\n",
       "Exited             0\n",
       "dtype: int64"
      ]
     },
     "execution_count": 7,
     "metadata": {},
     "output_type": "execute_result"
    }
   ],
   "source": [
    "# Проверим заполнение ячеек\n",
    "\n",
    "data.isna().sum()"
   ]
  },
  {
   "cell_type": "code",
   "execution_count": 8,
   "metadata": {},
   "outputs": [],
   "source": [
    "# Удалим ненужные колонки \n",
    "\n",
    "drop=['EstimatedSalary','CustomerId','Surname', 'RowNumber']\n",
    "data=data.drop(drop,axis=1)"
   ]
  },
  {
   "cell_type": "code",
   "execution_count": 9,
   "metadata": {},
   "outputs": [
    {
     "name": "stdout",
     "output_type": "stream",
     "text": [
      "<class 'pandas.core.frame.DataFrame'>\n",
      "RangeIndex: 10000 entries, 0 to 9999\n",
      "Data columns (total 10 columns):\n",
      " #   Column          Non-Null Count  Dtype  \n",
      "---  ------          --------------  -----  \n",
      " 0   CreditScore     10000 non-null  int64  \n",
      " 1   Geography       10000 non-null  object \n",
      " 2   Gender          10000 non-null  object \n",
      " 3   Age             10000 non-null  int64  \n",
      " 4   Tenure          10000 non-null  int64  \n",
      " 5   Balance         10000 non-null  float64\n",
      " 6   NumOfProducts   10000 non-null  int64  \n",
      " 7   HasCrCard       10000 non-null  int64  \n",
      " 8   IsActiveMember  10000 non-null  int64  \n",
      " 9   Exited          10000 non-null  int64  \n",
      "dtypes: float64(1), int64(7), object(2)\n",
      "memory usage: 781.4+ KB\n"
     ]
    }
   ],
   "source": [
    "# Проверим удаление\n",
    "\n",
    "data.info()"
   ]
  },
  {
   "cell_type": "markdown",
   "metadata": {},
   "source": [
    "## Исследование задачи"
   ]
  },
  {
   "cell_type": "markdown",
   "metadata": {},
   "source": [
    "**2.1 Проверим корреляцию и построим графики соотношения признаков**"
   ]
  },
  {
   "cell_type": "code",
   "execution_count": 10,
   "metadata": {
    "scrolled": false
   },
   "outputs": [
    {
     "data": {
      "text/html": [
       "<div>\n",
       "<style scoped>\n",
       "    .dataframe tbody tr th:only-of-type {\n",
       "        vertical-align: middle;\n",
       "    }\n",
       "\n",
       "    .dataframe tbody tr th {\n",
       "        vertical-align: top;\n",
       "    }\n",
       "\n",
       "    .dataframe thead th {\n",
       "        text-align: right;\n",
       "    }\n",
       "</style>\n",
       "<table border=\"1\" class=\"dataframe\">\n",
       "  <thead>\n",
       "    <tr style=\"text-align: right;\">\n",
       "      <th></th>\n",
       "      <th>CreditScore</th>\n",
       "      <th>Age</th>\n",
       "      <th>Tenure</th>\n",
       "      <th>Balance</th>\n",
       "      <th>NumOfProducts</th>\n",
       "      <th>HasCrCard</th>\n",
       "      <th>IsActiveMember</th>\n",
       "      <th>Exited</th>\n",
       "    </tr>\n",
       "  </thead>\n",
       "  <tbody>\n",
       "    <tr>\n",
       "      <th>CreditScore</th>\n",
       "      <td>1.000000</td>\n",
       "      <td>-0.003965</td>\n",
       "      <td>-0.000060</td>\n",
       "      <td>0.006268</td>\n",
       "      <td>0.012238</td>\n",
       "      <td>-0.005458</td>\n",
       "      <td>0.025651</td>\n",
       "      <td>-0.027094</td>\n",
       "    </tr>\n",
       "    <tr>\n",
       "      <th>Age</th>\n",
       "      <td>-0.003965</td>\n",
       "      <td>1.000000</td>\n",
       "      <td>-0.012606</td>\n",
       "      <td>0.028308</td>\n",
       "      <td>-0.030680</td>\n",
       "      <td>-0.011721</td>\n",
       "      <td>0.085472</td>\n",
       "      <td>0.285323</td>\n",
       "    </tr>\n",
       "    <tr>\n",
       "      <th>Tenure</th>\n",
       "      <td>-0.000060</td>\n",
       "      <td>-0.012606</td>\n",
       "      <td>1.000000</td>\n",
       "      <td>-0.007535</td>\n",
       "      <td>0.011409</td>\n",
       "      <td>0.025979</td>\n",
       "      <td>-0.030681</td>\n",
       "      <td>-0.015989</td>\n",
       "    </tr>\n",
       "    <tr>\n",
       "      <th>Balance</th>\n",
       "      <td>0.006268</td>\n",
       "      <td>0.028308</td>\n",
       "      <td>-0.007535</td>\n",
       "      <td>1.000000</td>\n",
       "      <td>-0.304180</td>\n",
       "      <td>-0.014858</td>\n",
       "      <td>-0.010084</td>\n",
       "      <td>0.118533</td>\n",
       "    </tr>\n",
       "    <tr>\n",
       "      <th>NumOfProducts</th>\n",
       "      <td>0.012238</td>\n",
       "      <td>-0.030680</td>\n",
       "      <td>0.011409</td>\n",
       "      <td>-0.304180</td>\n",
       "      <td>1.000000</td>\n",
       "      <td>0.003183</td>\n",
       "      <td>0.009612</td>\n",
       "      <td>-0.047820</td>\n",
       "    </tr>\n",
       "    <tr>\n",
       "      <th>HasCrCard</th>\n",
       "      <td>-0.005458</td>\n",
       "      <td>-0.011721</td>\n",
       "      <td>0.025979</td>\n",
       "      <td>-0.014858</td>\n",
       "      <td>0.003183</td>\n",
       "      <td>1.000000</td>\n",
       "      <td>-0.011866</td>\n",
       "      <td>-0.007138</td>\n",
       "    </tr>\n",
       "    <tr>\n",
       "      <th>IsActiveMember</th>\n",
       "      <td>0.025651</td>\n",
       "      <td>0.085472</td>\n",
       "      <td>-0.030681</td>\n",
       "      <td>-0.010084</td>\n",
       "      <td>0.009612</td>\n",
       "      <td>-0.011866</td>\n",
       "      <td>1.000000</td>\n",
       "      <td>-0.156128</td>\n",
       "    </tr>\n",
       "    <tr>\n",
       "      <th>Exited</th>\n",
       "      <td>-0.027094</td>\n",
       "      <td>0.285323</td>\n",
       "      <td>-0.015989</td>\n",
       "      <td>0.118533</td>\n",
       "      <td>-0.047820</td>\n",
       "      <td>-0.007138</td>\n",
       "      <td>-0.156128</td>\n",
       "      <td>1.000000</td>\n",
       "    </tr>\n",
       "  </tbody>\n",
       "</table>\n",
       "</div>"
      ],
      "text/plain": [
       "                CreditScore       Age    Tenure   Balance  NumOfProducts  \\\n",
       "CreditScore        1.000000 -0.003965 -0.000060  0.006268       0.012238   \n",
       "Age               -0.003965  1.000000 -0.012606  0.028308      -0.030680   \n",
       "Tenure            -0.000060 -0.012606  1.000000 -0.007535       0.011409   \n",
       "Balance            0.006268  0.028308 -0.007535  1.000000      -0.304180   \n",
       "NumOfProducts      0.012238 -0.030680  0.011409 -0.304180       1.000000   \n",
       "HasCrCard         -0.005458 -0.011721  0.025979 -0.014858       0.003183   \n",
       "IsActiveMember     0.025651  0.085472 -0.030681 -0.010084       0.009612   \n",
       "Exited            -0.027094  0.285323 -0.015989  0.118533      -0.047820   \n",
       "\n",
       "                HasCrCard  IsActiveMember    Exited  \n",
       "CreditScore     -0.005458        0.025651 -0.027094  \n",
       "Age             -0.011721        0.085472  0.285323  \n",
       "Tenure           0.025979       -0.030681 -0.015989  \n",
       "Balance         -0.014858       -0.010084  0.118533  \n",
       "NumOfProducts    0.003183        0.009612 -0.047820  \n",
       "HasCrCard        1.000000       -0.011866 -0.007138  \n",
       "IsActiveMember  -0.011866        1.000000 -0.156128  \n",
       "Exited          -0.007138       -0.156128  1.000000  "
      ]
     },
     "execution_count": 10,
     "metadata": {},
     "output_type": "execute_result"
    }
   ],
   "source": [
    "#сразу проверим корреляцию по всем признакам\n",
    "\n",
    "data.corr()"
   ]
  },
  {
   "cell_type": "markdown",
   "metadata": {},
   "source": [
    "Как видно из таблицы все признаки имеют не сильную корреляцию с целевым признаком."
   ]
  },
  {
   "cell_type": "code",
   "execution_count": 11,
   "metadata": {
    "scrolled": false
   },
   "outputs": [
    {
     "data": {
      "image/png": "[encoded data removed]",
      "text/plain": [
       "<Figure size 648x288 with 1 Axes>"
      ]
     },
     "metadata": {
      "needs_background": "light"
     },
     "output_type": "display_data"
    },
    {
     "data": {
      "image/png": "[encoded data removed]",
      "text/plain": [
       "<Figure size 432x288 with 1 Axes>"
      ]
     },
     "metadata": {
      "needs_background": "light"
     },
     "output_type": "display_data"
    },
    {
     "data": {
      "image/png": "[encoded data removed]",
      "text/plain": [
       "<Figure size 576x288 with 1 Axes>"
      ]
     },
     "metadata": {
      "needs_background": "light"
     },
     "output_type": "display_data"
    }
   ],
   "source": [
    "# Проверим зависимости через гистограммы\n",
    "\n",
    "# Как зависит наличие недвижимости и отток клиентов. \n",
    "# Заодно исключим из результатов раннее заполненные значения в колонке кол-ва недвижимости у клиента.\n",
    "# Т.к. данных по таким клиентам нет.\n",
    "\n",
    "data = data.query('Tenure >= 0')\n",
    "data.groupby('Tenure')['Exited'].count().plot(figsize=(9,4),kind='bar',title='Наличие недвижимости и отток')\n",
    "plt.show()\n",
    "\n",
    "# Зависимость наличия медианы ДС на балансе у клиента и оттока \n",
    "data.groupby('Exited')['Balance'].median().plot(kind='bar',title='Наличие ДС и отток')\n",
    "plt.show()\n",
    "\n",
    "# Как зависит отток и оставшиеся клиенты\n",
    "data['Exited'].value_counts().plot(kind='bar',figsize=(8,4),title='Зависимость оттока и оставшиеся клиенты')\n",
    "plt.show()"
   ]
  },
  {
   "cell_type": "markdown",
   "metadata": {},
   "source": [
    "На гистограмме зависимости оттока и оставшихся клиентов мы видим соотношение 1 к 4, что говорит нам о дисбалансе"
   ]
  },
  {
   "cell_type": "markdown",
   "metadata": {},
   "source": [
    "**2.1 Подготовка данных для машинного обучения**"
   ]
  },
  {
   "cell_type": "code",
   "execution_count": 12,
   "metadata": {},
   "outputs": [],
   "source": [
    "# Избавимся от категориальных признаков методом OHE, создадим новый датасет\n",
    "\n",
    "data_ohe=pd.get_dummies(data,drop_first=True)"
   ]
  },
  {
   "cell_type": "code",
   "execution_count": 13,
   "metadata": {},
   "outputs": [],
   "source": [
    "# Выделим признаки и целевой признак\n",
    "\n",
    "features = data_ohe.drop(['Exited'], axis=1)\n",
    "target = data_ohe['Exited']"
   ]
  },
  {
   "cell_type": "code",
   "execution_count": 14,
   "metadata": {},
   "outputs": [
    {
     "name": "stdout",
     "output_type": "stream",
     "text": [
      "(2500, 10)\n",
      "(7500, 10)\n"
     ]
    }
   ],
   "source": [
    "# Формируем несколько выборок (валидационную и обучающую)\n",
    "\n",
    "features_train, features_valid, target_train, target_valid = train_test_split(features, target, train_size=0.25, random_state=12345)\n",
    "\n",
    "print(features_train.shape)\n",
    "print(features_valid.shape)\n"
   ]
  },
  {
   "cell_type": "code",
   "execution_count": 15,
   "metadata": {},
   "outputs": [
    {
     "data": {
      "text/html": [
       "<div>\n",
       "<style scoped>\n",
       "    .dataframe tbody tr th:only-of-type {\n",
       "        vertical-align: middle;\n",
       "    }\n",
       "\n",
       "    .dataframe tbody tr th {\n",
       "        vertical-align: top;\n",
       "    }\n",
       "\n",
       "    .dataframe thead th {\n",
       "        text-align: right;\n",
       "    }\n",
       "</style>\n",
       "<table border=\"1\" class=\"dataframe\">\n",
       "  <thead>\n",
       "    <tr style=\"text-align: right;\">\n",
       "      <th></th>\n",
       "      <th>CreditScore</th>\n",
       "      <th>Age</th>\n",
       "      <th>Tenure</th>\n",
       "      <th>Balance</th>\n",
       "      <th>NumOfProducts</th>\n",
       "      <th>HasCrCard</th>\n",
       "      <th>IsActiveMember</th>\n",
       "      <th>Geography_Germany</th>\n",
       "      <th>Geography_Spain</th>\n",
       "      <th>Gender_Male</th>\n",
       "    </tr>\n",
       "  </thead>\n",
       "  <tbody>\n",
       "    <tr>\n",
       "      <th>7072</th>\n",
       "      <td>686</td>\n",
       "      <td>37</td>\n",
       "      <td>9</td>\n",
       "      <td>134560.62</td>\n",
       "      <td>1</td>\n",
       "      <td>1</td>\n",
       "      <td>0</td>\n",
       "      <td>0</td>\n",
       "      <td>0</td>\n",
       "      <td>1</td>\n",
       "    </tr>\n",
       "    <tr>\n",
       "      <th>5028</th>\n",
       "      <td>478</td>\n",
       "      <td>38</td>\n",
       "      <td>4</td>\n",
       "      <td>171913.87</td>\n",
       "      <td>1</td>\n",
       "      <td>1</td>\n",
       "      <td>0</td>\n",
       "      <td>0</td>\n",
       "      <td>0</td>\n",
       "      <td>0</td>\n",
       "    </tr>\n",
       "    <tr>\n",
       "      <th>4509</th>\n",
       "      <td>572</td>\n",
       "      <td>35</td>\n",
       "      <td>5</td>\n",
       "      <td>139979.07</td>\n",
       "      <td>1</td>\n",
       "      <td>1</td>\n",
       "      <td>0</td>\n",
       "      <td>1</td>\n",
       "      <td>0</td>\n",
       "      <td>0</td>\n",
       "    </tr>\n",
       "    <tr>\n",
       "      <th>5151</th>\n",
       "      <td>774</td>\n",
       "      <td>35</td>\n",
       "      <td>3</td>\n",
       "      <td>121418.62</td>\n",
       "      <td>1</td>\n",
       "      <td>1</td>\n",
       "      <td>1</td>\n",
       "      <td>0</td>\n",
       "      <td>0</td>\n",
       "      <td>0</td>\n",
       "    </tr>\n",
       "    <tr>\n",
       "      <th>1443</th>\n",
       "      <td>556</td>\n",
       "      <td>43</td>\n",
       "      <td>5</td>\n",
       "      <td>0.00</td>\n",
       "      <td>3</td>\n",
       "      <td>0</td>\n",
       "      <td>0</td>\n",
       "      <td>0</td>\n",
       "      <td>0</td>\n",
       "      <td>0</td>\n",
       "    </tr>\n",
       "  </tbody>\n",
       "</table>\n",
       "</div>"
      ],
      "text/plain": [
       "      CreditScore  Age  Tenure    Balance  NumOfProducts  HasCrCard  \\\n",
       "7072          686   37       9  134560.62              1          1   \n",
       "5028          478   38       4  171913.87              1          1   \n",
       "4509          572   35       5  139979.07              1          1   \n",
       "5151          774   35       3  121418.62              1          1   \n",
       "1443          556   43       5       0.00              3          0   \n",
       "\n",
       "      IsActiveMember  Geography_Germany  Geography_Spain  Gender_Male  \n",
       "7072               0                  0                0            1  \n",
       "5028               0                  0                0            0  \n",
       "4509               0                  1                0            0  \n",
       "5151               1                  0                0            0  \n",
       "1443               0                  0                0            0  "
      ]
     },
     "execution_count": 15,
     "metadata": {},
     "output_type": "execute_result"
    }
   ],
   "source": [
    "features_train.head()"
   ]
  },
  {
   "cell_type": "code",
   "execution_count": 16,
   "metadata": {},
   "outputs": [],
   "source": [
    "# Масштабируем обучающую и валидационную выборку, т.к есть значения и маленькие и очень большие\n",
    "\n",
    "numeric=['CreditScore','Age','Tenure','Balance','NumOfProducts','HasCrCard','IsActiveMember']\n",
    "scaler=StandardScaler()\n",
    "scaler.fit(features_train[numeric])\n",
    "features_train[numeric]=scaler.transform(features_train[numeric])\n",
    "features_valid[numeric]=scaler.transform(features_valid[numeric])"
   ]
  },
  {
   "cell_type": "code",
   "execution_count": 17,
   "metadata": {},
   "outputs": [
    {
     "data": {
      "text/html": [
       "<div>\n",
       "<style scoped>\n",
       "    .dataframe tbody tr th:only-of-type {\n",
       "        vertical-align: middle;\n",
       "    }\n",
       "\n",
       "    .dataframe tbody tr th {\n",
       "        vertical-align: top;\n",
       "    }\n",
       "\n",
       "    .dataframe thead th {\n",
       "        text-align: right;\n",
       "    }\n",
       "</style>\n",
       "<table border=\"1\" class=\"dataframe\">\n",
       "  <thead>\n",
       "    <tr style=\"text-align: right;\">\n",
       "      <th></th>\n",
       "      <th>CreditScore</th>\n",
       "      <th>Age</th>\n",
       "      <th>Tenure</th>\n",
       "      <th>Balance</th>\n",
       "      <th>NumOfProducts</th>\n",
       "      <th>HasCrCard</th>\n",
       "      <th>IsActiveMember</th>\n",
       "    </tr>\n",
       "  </thead>\n",
       "  <tbody>\n",
       "    <tr>\n",
       "      <th>7072</th>\n",
       "      <td>0.346342</td>\n",
       "      <td>-0.203699</td>\n",
       "      <td>1.432784</td>\n",
       "      <td>0.906693</td>\n",
       "      <td>-0.884121</td>\n",
       "      <td>0.640964</td>\n",
       "      <td>-1.046689</td>\n",
       "    </tr>\n",
       "    <tr>\n",
       "      <th>5028</th>\n",
       "      <td>-1.829329</td>\n",
       "      <td>-0.108655</td>\n",
       "      <td>-0.391768</td>\n",
       "      <td>1.509168</td>\n",
       "      <td>-0.884121</td>\n",
       "      <td>0.640964</td>\n",
       "      <td>-1.046689</td>\n",
       "    </tr>\n",
       "    <tr>\n",
       "      <th>4509</th>\n",
       "      <td>-0.846093</td>\n",
       "      <td>-0.393789</td>\n",
       "      <td>-0.026857</td>\n",
       "      <td>0.994088</td>\n",
       "      <td>-0.884121</td>\n",
       "      <td>0.640964</td>\n",
       "      <td>-1.046689</td>\n",
       "    </tr>\n",
       "    <tr>\n",
       "      <th>5151</th>\n",
       "      <td>1.266818</td>\n",
       "      <td>-0.393789</td>\n",
       "      <td>-0.756678</td>\n",
       "      <td>0.694725</td>\n",
       "      <td>-0.884121</td>\n",
       "      <td>0.640964</td>\n",
       "      <td>0.955394</td>\n",
       "    </tr>\n",
       "    <tr>\n",
       "      <th>1443</th>\n",
       "      <td>-1.013453</td>\n",
       "      <td>0.366568</td>\n",
       "      <td>-0.026857</td>\n",
       "      <td>-1.263649</td>\n",
       "      <td>2.487814</td>\n",
       "      <td>-1.560149</td>\n",
       "      <td>-1.046689</td>\n",
       "    </tr>\n",
       "  </tbody>\n",
       "</table>\n",
       "</div>"
      ],
      "text/plain": [
       "      CreditScore       Age    Tenure   Balance  NumOfProducts  HasCrCard  \\\n",
       "7072     0.346342 -0.203699  1.432784  0.906693      -0.884121   0.640964   \n",
       "5028    -1.829329 -0.108655 -0.391768  1.509168      -0.884121   0.640964   \n",
       "4509    -0.846093 -0.393789 -0.026857  0.994088      -0.884121   0.640964   \n",
       "5151     1.266818 -0.393789 -0.756678  0.694725      -0.884121   0.640964   \n",
       "1443    -1.013453  0.366568 -0.026857 -1.263649       2.487814  -1.560149   \n",
       "\n",
       "      IsActiveMember  \n",
       "7072       -1.046689  \n",
       "5028       -1.046689  \n",
       "4509       -1.046689  \n",
       "5151        0.955394  \n",
       "1443       -1.046689  "
      ]
     },
     "execution_count": 17,
     "metadata": {},
     "output_type": "execute_result"
    }
   ],
   "source": [
    "features_train[numeric].head()"
   ]
  },
  {
   "cell_type": "code",
   "execution_count": 18,
   "metadata": {},
   "outputs": [
    {
     "data": {
      "text/html": [
       "<div>\n",
       "<style scoped>\n",
       "    .dataframe tbody tr th:only-of-type {\n",
       "        vertical-align: middle;\n",
       "    }\n",
       "\n",
       "    .dataframe tbody tr th {\n",
       "        vertical-align: top;\n",
       "    }\n",
       "\n",
       "    .dataframe thead th {\n",
       "        text-align: right;\n",
       "    }\n",
       "</style>\n",
       "<table border=\"1\" class=\"dataframe\">\n",
       "  <thead>\n",
       "    <tr style=\"text-align: right;\">\n",
       "      <th></th>\n",
       "      <th>CreditScore</th>\n",
       "      <th>Age</th>\n",
       "      <th>Tenure</th>\n",
       "      <th>Balance</th>\n",
       "      <th>NumOfProducts</th>\n",
       "      <th>HasCrCard</th>\n",
       "      <th>IsActiveMember</th>\n",
       "    </tr>\n",
       "  </thead>\n",
       "  <tbody>\n",
       "    <tr>\n",
       "      <th>7867</th>\n",
       "      <td>-0.134816</td>\n",
       "      <td>0.651701</td>\n",
       "      <td>-0.756678</td>\n",
       "      <td>-1.263649</td>\n",
       "      <td>-0.884121</td>\n",
       "      <td>0.640964</td>\n",
       "      <td>0.955394</td>\n",
       "    </tr>\n",
       "    <tr>\n",
       "      <th>1402</th>\n",
       "      <td>1.088999</td>\n",
       "      <td>-0.964056</td>\n",
       "      <td>1.067874</td>\n",
       "      <td>0.838078</td>\n",
       "      <td>-0.884121</td>\n",
       "      <td>0.640964</td>\n",
       "      <td>-1.046689</td>\n",
       "    </tr>\n",
       "    <tr>\n",
       "      <th>8606</th>\n",
       "      <td>1.611997</td>\n",
       "      <td>0.271523</td>\n",
       "      <td>-0.026857</td>\n",
       "      <td>-1.263649</td>\n",
       "      <td>0.801846</td>\n",
       "      <td>0.640964</td>\n",
       "      <td>0.955394</td>\n",
       "    </tr>\n",
       "    <tr>\n",
       "      <th>8885</th>\n",
       "      <td>0.158063</td>\n",
       "      <td>0.556657</td>\n",
       "      <td>-0.391768</td>\n",
       "      <td>0.389362</td>\n",
       "      <td>0.801846</td>\n",
       "      <td>0.640964</td>\n",
       "      <td>0.955394</td>\n",
       "    </tr>\n",
       "    <tr>\n",
       "      <th>6494</th>\n",
       "      <td>0.482321</td>\n",
       "      <td>-1.059100</td>\n",
       "      <td>0.702963</td>\n",
       "      <td>-1.263649</td>\n",
       "      <td>0.801846</td>\n",
       "      <td>0.640964</td>\n",
       "      <td>0.955394</td>\n",
       "    </tr>\n",
       "  </tbody>\n",
       "</table>\n",
       "</div>"
      ],
      "text/plain": [
       "      CreditScore       Age    Tenure   Balance  NumOfProducts  HasCrCard  \\\n",
       "7867    -0.134816  0.651701 -0.756678 -1.263649      -0.884121   0.640964   \n",
       "1402     1.088999 -0.964056  1.067874  0.838078      -0.884121   0.640964   \n",
       "8606     1.611997  0.271523 -0.026857 -1.263649       0.801846   0.640964   \n",
       "8885     0.158063  0.556657 -0.391768  0.389362       0.801846   0.640964   \n",
       "6494     0.482321 -1.059100  0.702963 -1.263649       0.801846   0.640964   \n",
       "\n",
       "      IsActiveMember  \n",
       "7867        0.955394  \n",
       "1402       -1.046689  \n",
       "8606        0.955394  \n",
       "8885        0.955394  \n",
       "6494        0.955394  "
      ]
     },
     "execution_count": 18,
     "metadata": {},
     "output_type": "execute_result"
    }
   ],
   "source": [
    "features_valid[numeric].head()"
   ]
  },
  {
   "cell_type": "markdown",
   "metadata": {},
   "source": [
    "**2.2 Построение моделей без учета баланса**"
   ]
  },
  {
   "cell_type": "markdown",
   "metadata": {},
   "source": [
    "**2.2.1 Модель Логистической Регрессии**"
   ]
  },
  {
   "cell_type": "code",
   "execution_count": 19,
   "metadata": {},
   "outputs": [
    {
     "name": "stdout",
     "output_type": "stream",
     "text": [
      "F1: 0.3481894150417827\n"
     ]
    }
   ],
   "source": [
    "model_lgr=LogisticRegression().fit(features_train,target_train)\n",
    "prediction=model_lgr.predict(features_valid)\n",
    "print('F1:',f1_score(target_valid,prediction))"
   ]
  },
  {
   "cell_type": "markdown",
   "metadata": {},
   "source": [
    "**2.2.2 Модель Дерево Решений**"
   ]
  },
  {
   "cell_type": "code",
   "execution_count": 20,
   "metadata": {},
   "outputs": [
    {
     "data": {
      "text/plain": [
       "\"Лучший гиперпараметр {'max_depth': 5}\""
      ]
     },
     "metadata": {},
     "output_type": "display_data"
    },
    {
     "data": {
      "text/plain": [
       "'Метрика F1: -0.5665349143610013'"
      ]
     },
     "metadata": {},
     "output_type": "display_data"
    },
    {
     "data": {
      "text/plain": [
       "'Лучшая модель без борьбы с дисбалансом DecisionTreeClassifier(max_depth=5, random_state=12345)'"
      ]
     },
     "metadata": {},
     "output_type": "display_data"
    }
   ],
   "source": [
    "m_tree = DecisionTreeClassifier(random_state=12345)\n",
    "\n",
    "params = {'max_depth' : range(4, 13)}\n",
    "\n",
    "grid_tree = GridSearchCV(m_tree, params, cv=3, scoring='f1')\n",
    "grid_tree.fit(features_train, target_train)\n",
    "\n",
    "display(f'Лучший гиперпараметр {grid_tree.best_params_}')\n",
    "display(f'Метрика F1: {-grid_tree.best_score_}')\n",
    "\n",
    "m_tree = grid_tree.best_estimator_\n",
    "display(f'Лучшая модель без борьбы с дисбалансом {m_tree}') #m_tree уже обученная модель на всей train выборке,\n",
    "                                                            #это делает оптимизатор сам внутри"
   ]
  },
  {
   "cell_type": "code",
   "execution_count": 21,
   "metadata": {},
   "outputs": [
    {
     "data": {
      "text/plain": [
       "DecisionTreeClassifier(max_depth=5, random_state=12345)"
      ]
     },
     "execution_count": 21,
     "metadata": {},
     "output_type": "execute_result"
    }
   ],
   "source": [
    "m_tree"
   ]
  },
  {
   "cell_type": "markdown",
   "metadata": {},
   "source": [
    "**2.2.3 Модель Случайный лес**"
   ]
  },
  {
   "cell_type": "code",
   "execution_count": 22,
   "metadata": {},
   "outputs": [
    {
     "data": {
      "text/plain": [
       "\"Лучший гиперпараметр {'max_depth': 11, 'n_estimators': 30}\""
      ]
     },
     "metadata": {},
     "output_type": "display_data"
    },
    {
     "data": {
      "text/plain": [
       "'Метрика F1: -0.6057742057302626'"
      ]
     },
     "metadata": {},
     "output_type": "display_data"
    },
    {
     "data": {
      "text/plain": [
       "'Лучшая модель без борьбы с дисбалансом RandomForestClassifier(max_depth=11, n_estimators=30, random_state=12345)'"
      ]
     },
     "metadata": {},
     "output_type": "display_data"
    }
   ],
   "source": [
    "m_forest = RandomForestClassifier(random_state=12345)\n",
    "\n",
    "params = {'max_depth' : range(1, 13),\n",
    "         'n_estimators': range(1, 40)}\n",
    "\n",
    "grid_forest = GridSearchCV(m_forest, params, cv=5, scoring='f1')\n",
    "grid_forest.fit(features_train, target_train)\n",
    "\n",
    "display(f'Лучший гиперпараметр {grid_forest.best_params_}')\n",
    "display(f'Метрика F1: {-grid_forest.best_score_}')\n",
    "\n",
    "m_forest = grid_forest.best_estimator_\n",
    "display(f'Лучшая модель без борьбы с дисбалансом {m_forest}')\n"
   ]
  },
  {
   "cell_type": "code",
   "execution_count": 23,
   "metadata": {},
   "outputs": [
    {
     "data": {
      "text/plain": [
       "RandomForestClassifier(max_depth=11, n_estimators=30, random_state=12345)"
      ]
     },
     "execution_count": 23,
     "metadata": {},
     "output_type": "execute_result"
    }
   ],
   "source": [
    "m_forest"
   ]
  },
  {
   "cell_type": "markdown",
   "metadata": {},
   "source": [
    "**Вывод:** Случайный лес, глубина 23 и кол-во деревьев 41, при этом F1 = 0.585"
   ]
  },
  {
   "cell_type": "markdown",
   "metadata": {},
   "source": [
    "## Борьба с дисбалансом"
   ]
  },
  {
   "cell_type": "markdown",
   "metadata": {},
   "source": [
    "**3.1 Первоначальное распределение**"
   ]
  },
  {
   "cell_type": "code",
   "execution_count": 24,
   "metadata": {},
   "outputs": [
    {
     "data": {
      "text/plain": [
       "0    0.7824\n",
       "1    0.2176\n",
       "Name: Exited, dtype: float64"
      ]
     },
     "execution_count": 24,
     "metadata": {},
     "output_type": "execute_result"
    }
   ],
   "source": [
    "target_train.value_counts(normalize = 1)"
   ]
  },
  {
   "cell_type": "markdown",
   "metadata": {},
   "source": [
    "**3.2 Увеличим кол-во клиентов оттока, через функцию Upsampling**"
   ]
  },
  {
   "cell_type": "code",
   "execution_count": 25,
   "metadata": {},
   "outputs": [],
   "source": [
    "def upslam (features,target,repeat):\n",
    "    features_one = features[target==1]\n",
    "    features_zero = features[target==0]\n",
    "    target_one = target[target==1]\n",
    "    target_zero = target[target==0]\n",
    "\n",
    "    \n",
    "    up_features=pd.concat([features_zero] + [features_one] * repeat)\n",
    "    up_target=pd.concat([target_zero] + [target_one] * repeat)\n",
    "    \n",
    "    up_features,up_target=shuffle(up_features, up_target, random_state=1234)\n",
    "    \n",
    "    return up_features,up_target"
   ]
  },
  {
   "cell_type": "code",
   "execution_count": 26,
   "metadata": {},
   "outputs": [],
   "source": [
    "features_balanceup, target_balanceup=upslam(features_train,target_train,4)"
   ]
  },
  {
   "cell_type": "code",
   "execution_count": 27,
   "metadata": {},
   "outputs": [
    {
     "name": "stdout",
     "output_type": "stream",
     "text": [
      "1    0.526621\n",
      "0    0.473379\n",
      "Name: Exited, dtype: float64\n",
      "(4132,)\n"
     ]
    }
   ],
   "source": [
    "# Проверим распределение теперь:\n",
    "\n",
    "print(target_balanceup.value_counts(normalize = 1))\n",
    "print(target_balanceup.shape)"
   ]
  },
  {
   "cell_type": "markdown",
   "metadata": {},
   "source": [
    "**3.3 Обучим модели на сбалансированных классах**"
   ]
  },
  {
   "cell_type": "markdown",
   "metadata": {},
   "source": [
    "3.3.1. Логистическая регрессия"
   ]
  },
  {
   "cell_type": "code",
   "execution_count": 28,
   "metadata": {},
   "outputs": [
    {
     "name": "stdout",
     "output_type": "stream",
     "text": [
      "F1: 0.4838862559241706\n",
      "CPU times: total: 15.6 ms\n",
      "Wall time: 20.7 ms\n"
     ]
    }
   ],
   "source": [
    "%%time\n",
    "\n",
    "model_logist=LogisticRegression(class_weight='balanced',solver='liblinear').fit(features_balanceup,target_balanceup)\n",
    "prediction=model_logist.predict(features_valid)\n",
    "print('F1:',f1_score(target_valid,prediction))"
   ]
  },
  {
   "cell_type": "markdown",
   "metadata": {},
   "source": [
    "3.3.2. Решающее дерево"
   ]
  },
  {
   "cell_type": "code",
   "execution_count": 29,
   "metadata": {},
   "outputs": [
    {
     "name": "stdout",
     "output_type": "stream",
     "text": [
      "max_depth: 1 F1: 0.48363136176066024\n",
      "max_depth: 2 F1: 0.5127931769722814\n",
      "max_depth: 3 F1: 0.5295601008685906\n",
      "max_depth: 4 F1: 0.5261676983680361\n",
      "max_depth: 5 F1: 0.5692395005675369\n",
      "max_depth: 6 F1: 0.5596305351806575\n",
      "max_depth: 7 F1: 0.5536564864107593\n",
      "max_depth: 8 F1: 0.5481823427582228\n",
      "max_depth: 9 F1: 0.5236737022247576\n",
      "max_depth: 10 F1: 0.4971164936562862\n",
      "max_depth: 11 F1: 0.48513740886146944\n",
      "max_depth: 12 F1: 0.48045359594151005\n",
      "max_depth: 13 F1: 0.48017348203221816\n",
      "max_depth: 14 F1: 0.4752721617418351\n",
      "max_depth: 15 F1: 0.48543689320388345\n",
      "max_depth: 16 F1: 0.4862592951826705\n",
      "max_depth: 17 F1: 0.48156606851549755\n",
      "max_depth: 18 F1: 0.48264571054354943\n",
      "max_depth: 19 F1: 0.48264571054354943\n",
      "CPU times: total: 359 ms\n",
      "Wall time: 323 ms\n"
     ]
    }
   ],
   "source": [
    "%%time\n",
    "\n",
    "for depth in range(1,20,1):\n",
    "    model_tree=DecisionTreeClassifier(class_weight='balanced',max_depth=depth,random_state=1234).fit(features_balanceup,target_balanceup)\n",
    "  \n",
    "    prediction=model_tree.predict(features_valid)\n",
    "    print('max_depth:',depth,'F1:',f1_score(target_valid,prediction))"
   ]
  },
  {
   "cell_type": "markdown",
   "metadata": {},
   "source": [
    "Лучшее значение при глубине равной 5, F1 = 0.5692395005675369"
   ]
  },
  {
   "cell_type": "code",
   "execution_count": 30,
   "metadata": {},
   "outputs": [
    {
     "data": {
      "text/plain": [
       "\"Лучший гиперпараметр {'max_depth': 5}\""
      ]
     },
     "metadata": {},
     "output_type": "display_data"
    },
    {
     "data": {
      "text/plain": [
       "'Метрика F1: -0.5604603141195849'"
      ]
     },
     "metadata": {},
     "output_type": "display_data"
    },
    {
     "data": {
      "text/plain": [
       "\"Лучшая модель без борьбы с дисбалансом DecisionTreeClassifier(class_weight='balanced', max_depth=5, random_state=12345)\""
      ]
     },
     "metadata": {},
     "output_type": "display_data"
    }
   ],
   "source": [
    "clf = DecisionTreeClassifier(random_state=12345, class_weight='balanced')\n",
    "\n",
    "params = {'max_depth' : range(4, 13)}\n",
    "\n",
    "grid1 = GridSearchCV(clf, params, cv=3, scoring='f1')\n",
    "grid1.fit(features_train, target_train)\n",
    "\n",
    "display(f'Лучший гиперпараметр {grid1.best_params_}')\n",
    "display(f'Метрика F1: {-grid1.best_score_}')\n",
    "\n",
    "clf = grid1.best_estimator_\n",
    "display(f'Лучшая модель без борьбы с дисбалансом {clf}')"
   ]
  },
  {
   "cell_type": "code",
   "execution_count": 31,
   "metadata": {},
   "outputs": [],
   "source": [
    "tree=DecisionTreeClassifier(class_weight='balanced', max_depth=5, random_state=12345).fit(features_balanceup,target_balanceup)"
   ]
  },
  {
   "cell_type": "code",
   "execution_count": 32,
   "metadata": {},
   "outputs": [
    {
     "data": {
      "text/plain": [
       "DecisionTreeClassifier(class_weight='balanced', max_depth=5, random_state=12345)"
      ]
     },
     "execution_count": 32,
     "metadata": {},
     "output_type": "execute_result"
    }
   ],
   "source": [
    "tree"
   ]
  },
  {
   "cell_type": "markdown",
   "metadata": {},
   "source": [
    "3.3.3. Случайный лес"
   ]
  },
  {
   "cell_type": "code",
   "execution_count": 33,
   "metadata": {},
   "outputs": [
    {
     "data": {
      "text/plain": [
       "\"Лучший гиперпараметр {'max_depth': 8, 'n_estimators': 39}\""
      ]
     },
     "metadata": {},
     "output_type": "display_data"
    },
    {
     "data": {
      "text/plain": [
       "'Метрика F1: -0.6202205403799793'"
      ]
     },
     "metadata": {},
     "output_type": "display_data"
    }
   ],
   "source": [
    "clf2 = RandomForestClassifier(random_state=12345, class_weight='balanced')\n",
    "\n",
    "parametrs = {'n_estimators': range (1, 40),\n",
    "              'max_depth': range (1, 15)}\n",
    "\n",
    "grid2 = GridSearchCV(clf2, parametrs, cv=5, scoring='f1')\n",
    "grid2.fit(features_train, target_train)\n",
    "\n",
    "grid2.best_params_\n",
    "\n",
    "grid2.best_score_\n",
    "\n",
    "display(f'Лучший гиперпараметр {grid2.best_params_}')\n",
    "display(f'Метрика F1: {-grid2.best_score_}')"
   ]
  },
  {
   "cell_type": "code",
   "execution_count": 34,
   "metadata": {},
   "outputs": [],
   "source": [
    "forest=RandomForestClassifier(class_weight='balanced',max_depth=8,n_estimators=37,random_state=1234).fit(features_balanceup,target_balanceup)"
   ]
  },
  {
   "cell_type": "code",
   "execution_count": 35,
   "metadata": {},
   "outputs": [
    {
     "data": {
      "text/plain": [
       "RandomForestClassifier(class_weight='balanced', max_depth=8, n_estimators=37,\n",
       "                       random_state=1234)"
      ]
     },
     "execution_count": 35,
     "metadata": {},
     "output_type": "execute_result"
    }
   ],
   "source": [
    "forest"
   ]
  },
  {
   "cell_type": "markdown",
   "metadata": {},
   "source": [
    "## Тестирование моделей"
   ]
  },
  {
   "cell_type": "code",
   "execution_count": 36,
   "metadata": {},
   "outputs": [
    {
     "data": {
      "text/plain": [
       "0.8225966780662569"
      ]
     },
     "execution_count": 36,
     "metadata": {},
     "output_type": "execute_result"
    }
   ],
   "source": [
    "#Исследуем AUC-ROC\n",
    "\n",
    "probabilities_tree=tree.predict_proba(features_valid)\n",
    "probabilities_one_tree=probabilities_tree[:,1]\n",
    "fpr_tree,tpr_tree,thresholds=roc_curve(target_valid,probabilities_one_tree)\n",
    "\n",
    "auc_roc_tree=roc_auc_score(target_valid,probabilities_one_tree)\n",
    "\n",
    "auc_roc_tree"
   ]
  },
  {
   "cell_type": "code",
   "execution_count": 37,
   "metadata": {},
   "outputs": [
    {
     "data": {
      "text/plain": [
       "DecisionTreeClassifier(class_weight='balanced', max_depth=19, random_state=1234)"
      ]
     },
     "execution_count": 37,
     "metadata": {},
     "output_type": "execute_result"
    }
   ],
   "source": [
    "model_tree"
   ]
  },
  {
   "cell_type": "code",
   "execution_count": 38,
   "metadata": {},
   "outputs": [
    {
     "data": {
      "text/plain": [
       "0.8505214557118057"
      ]
     },
     "execution_count": 38,
     "metadata": {},
     "output_type": "execute_result"
    }
   ],
   "source": [
    "probabilities_forest=forest.predict_proba(features_valid)\n",
    "probabilities_one_forest=probabilities_forest[:,1]\n",
    "fpr_forest,tpr_forest,thresholds=roc_curve(target_valid,probabilities_one_forest)\n",
    "\n",
    "auc_roc_forest=roc_auc_score(target_valid,probabilities_one_forest)\n",
    "\n",
    "auc_roc_forest"
   ]
  },
  {
   "cell_type": "code",
   "execution_count": 39,
   "metadata": {},
   "outputs": [
    {
     "data": {
      "text/plain": [
       "RandomForestClassifier(class_weight='balanced', max_depth=8, n_estimators=37,\n",
       "                       random_state=1234)"
      ]
     },
     "execution_count": 39,
     "metadata": {},
     "output_type": "execute_result"
    }
   ],
   "source": [
    "forest"
   ]
  },
  {
   "cell_type": "code",
   "execution_count": 40,
   "metadata": {},
   "outputs": [
    {
     "data": {
      "text/plain": [
       "{'max_depth': 8, 'n_estimators': 39}"
      ]
     },
     "metadata": {},
     "output_type": "display_data"
    },
    {
     "data": {
      "text/plain": [
       "'F1: 0.6202205403799793'"
      ]
     },
     "execution_count": 40,
     "metadata": {},
     "output_type": "execute_result"
    }
   ],
   "source": [
    "rfc = RandomForestClassifier(random_state=12345, class_weight='balanced')\n",
    "\n",
    "parametrs = {'n_estimators': range (1, 40),\n",
    "              'max_depth': range (1, 15)}\n",
    "\n",
    "grid_rfc = GridSearchCV(rfc, parametrs, cv=5, scoring='f1')\n",
    "grid_rfc.fit(features_train, target_train)\n",
    "\n",
    "display(grid_rfc.best_params_)\n",
    "f'F1: {grid_rfc.best_score_}'"
   ]
  },
  {
   "cell_type": "code",
   "execution_count": 41,
   "metadata": {},
   "outputs": [
    {
     "data": {
      "text/plain": [
       "RandomForestClassifier(class_weight='balanced', max_depth=8, n_estimators=39,\n",
       "                       random_state=12345)"
      ]
     },
     "execution_count": 41,
     "metadata": {},
     "output_type": "execute_result"
    }
   ],
   "source": [
    "grid_rfc.best_estimator_"
   ]
  },
  {
   "cell_type": "code",
   "execution_count": 42,
   "metadata": {},
   "outputs": [],
   "source": [
    "forest_last = RandomForestClassifier(class_weight='balanced', max_depth=8, n_estimators=37,\n",
    "                       random_state=12345)"
   ]
  },
  {
   "cell_type": "code",
   "execution_count": 43,
   "metadata": {},
   "outputs": [
    {
     "data": {
      "text/plain": [
       "0.7620175434977567"
      ]
     },
     "execution_count": 43,
     "metadata": {},
     "output_type": "execute_result"
    }
   ],
   "source": [
    "probabilities_reg=model_logist.predict_proba(features_valid)\n",
    "probabilities_one_lgr=probabilities_reg[:,1]\n",
    "fpr_log,tpr_log,thresholds=roc_curve(target_valid,probabilities_one_lgr)\n",
    "\n",
    "auc_roc_reg=roc_auc_score(target_valid,probabilities_one_lgr)\n",
    "\n",
    "auc_roc_reg"
   ]
  },
  {
   "cell_type": "code",
   "execution_count": 44,
   "metadata": {},
   "outputs": [
    {
     "data": {
      "text/plain": [
       "<Figure size 432x288 with 0 Axes>"
      ]
     },
     "metadata": {},
     "output_type": "display_data"
    },
    {
     "data": {
      "image/png": "[encoded data removed]",
      "text/plain": [
       "<Figure size 1080x720 with 1 Axes>"
      ]
     },
     "metadata": {
      "needs_background": "light"
     },
     "output_type": "display_data"
    }
   ],
   "source": [
    "plt.figure()\n",
    "\n",
    "plt.figure(figsize=(15,10))\n",
    "plt.plot([0, 1], [0, 1], linestyle='--')\n",
    "plt.xlim([0.0, 1.0])\n",
    "plt.ylim([0.0, 1.0])\n",
    "plt.plot(fpr_forest,tpr_forest)\n",
    "plt.title('ROC')\n",
    "plt.legend(('Случайная модель','Случайный лес'),\n",
    "           loc= 'upper right') \n",
    "plt.show()"
   ]
  },
  {
   "cell_type": "code",
   "execution_count": 45,
   "metadata": {},
   "outputs": [
    {
     "data": {
      "text/html": [
       "<div>\n",
       "<style scoped>\n",
       "    .dataframe tbody tr th:only-of-type {\n",
       "        vertical-align: middle;\n",
       "    }\n",
       "\n",
       "    .dataframe tbody tr th {\n",
       "        vertical-align: top;\n",
       "    }\n",
       "\n",
       "    .dataframe thead th {\n",
       "        text-align: right;\n",
       "    }\n",
       "</style>\n",
       "<table border=\"1\" class=\"dataframe\">\n",
       "  <thead>\n",
       "    <tr style=\"text-align: right;\">\n",
       "      <th></th>\n",
       "      <th>Дерево Решения</th>\n",
       "      <th>Случайный лес</th>\n",
       "      <th>Логистическая регрессия</th>\n",
       "    </tr>\n",
       "  </thead>\n",
       "  <tbody>\n",
       "    <tr>\n",
       "      <th>без учета дисбаланса</th>\n",
       "      <td>0.566</td>\n",
       "      <td>0.605</td>\n",
       "      <td>0.348</td>\n",
       "    </tr>\n",
       "    <tr>\n",
       "      <th>с учетом дисбаланса</th>\n",
       "      <td>0.560</td>\n",
       "      <td>0.618</td>\n",
       "      <td>0.483</td>\n",
       "    </tr>\n",
       "  </tbody>\n",
       "</table>\n",
       "</div>"
      ],
      "text/plain": [
       "                      Дерево Решения  Случайный лес  Логистическая регрессия\n",
       "без учета дисбаланса           0.566          0.605                    0.348\n",
       "с учетом дисбаланса            0.560          0.618                    0.483"
      ]
     },
     "execution_count": 45,
     "metadata": {},
     "output_type": "execute_result"
    }
   ],
   "source": [
    "rezult1={'Дерево Решения':np.array([0.566,0.560]),'Случайный лес':np.array([0.605,0.618]),'Логистическая регрессия':np.array([0.348,0.483])}\n",
    "rezult_df=pd.DataFrame(rezult1,index=['без учета дисбаланса','с учетом дисбаланса'])\n",
    "\n",
    "rezult_df"
   ]
  },
  {
   "cell_type": "markdown",
   "metadata": {},
   "source": [
    "Модель \"Случайный лес\" с учетом дисбаланса достигла нужного параметра (F1 > 0.59)\n",
    "\n",
    "С точки зрения бизнеса, полученная модель поможет маркетологам лучше определять клентов, которые могут уйти в ближайшее время. Важно, что модель покрывает большое количество клиентов.\n",
    "\n",
    "Для улучшения модели следует использовать данные, отражающие отношения клиента с банком в динамике."
   ]
  }
 ],
 "metadata": {
  "ExecuteTimeLog": [
   {
    "duration": 40,
    "start_time": "2022-10-24T21:52:25.228Z"
   },
   {
    "duration": 1036,
    "start_time": "2022-10-24T21:52:28.887Z"
   },
   {
    "duration": 80,
    "start_time": "2022-10-24T21:52:29.937Z"
   },
   {
    "duration": 48,
    "start_time": "2022-10-24T21:52:45.802Z"
   },
   {
    "duration": 18,
    "start_time": "2022-10-24T21:52:58.928Z"
   },
   {
    "duration": 7,
    "start_time": "2022-10-24T21:54:43.901Z"
   },
   {
    "duration": 372,
    "start_time": "2022-10-24T21:56:42.511Z"
   },
   {
    "duration": 1497,
    "start_time": "2022-10-25T19:20:04.888Z"
   },
   {
    "duration": 101,
    "start_time": "2022-10-25T19:20:06.388Z"
   },
   {
    "duration": 16,
    "start_time": "2022-10-25T19:20:06.492Z"
   },
   {
    "duration": 7,
    "start_time": "2022-10-25T19:20:06.511Z"
   },
   {
    "duration": 1310,
    "start_time": "2022-10-25T20:01:49.731Z"
   },
   {
    "duration": 50,
    "start_time": "2022-10-25T20:01:51.043Z"
   },
   {
    "duration": 16,
    "start_time": "2022-10-25T20:01:51.094Z"
   },
   {
    "duration": 7,
    "start_time": "2022-10-25T20:01:51.111Z"
   },
   {
    "duration": 12,
    "start_time": "2022-10-25T20:30:52.399Z"
   },
   {
    "duration": 117,
    "start_time": "2022-10-25T21:06:02.120Z"
   },
   {
    "duration": 9,
    "start_time": "2022-10-25T21:06:22.418Z"
   },
   {
    "duration": 5,
    "start_time": "2022-10-25T21:07:06.062Z"
   },
   {
    "duration": 8,
    "start_time": "2022-10-25T21:07:37.450Z"
   },
   {
    "duration": 9,
    "start_time": "2022-10-25T21:10:43.752Z"
   },
   {
    "duration": 5,
    "start_time": "2022-10-25T21:10:50.637Z"
   },
   {
    "duration": 11,
    "start_time": "2022-10-25T21:11:12.419Z"
   },
   {
    "duration": 16,
    "start_time": "2022-10-25T21:12:41.159Z"
   },
   {
    "duration": 13,
    "start_time": "2022-10-25T21:12:58.791Z"
   },
   {
    "duration": 1335,
    "start_time": "2022-10-25T21:13:05.355Z"
   },
   {
    "duration": 53,
    "start_time": "2022-10-25T21:13:06.692Z"
   },
   {
    "duration": 17,
    "start_time": "2022-10-25T21:13:06.746Z"
   },
   {
    "duration": 11,
    "start_time": "2022-10-25T21:13:06.765Z"
   },
   {
    "duration": 15,
    "start_time": "2022-10-25T21:13:06.778Z"
   },
   {
    "duration": 4,
    "start_time": "2022-10-25T21:13:06.795Z"
   },
   {
    "duration": 11,
    "start_time": "2022-10-25T21:13:06.800Z"
   },
   {
    "duration": 21,
    "start_time": "2022-10-25T21:13:06.812Z"
   },
   {
    "duration": 14,
    "start_time": "2022-10-25T21:13:06.835Z"
   },
   {
    "duration": 1279,
    "start_time": "2022-10-25T21:13:21.369Z"
   },
   {
    "duration": 50,
    "start_time": "2022-10-25T21:13:22.650Z"
   },
   {
    "duration": 15,
    "start_time": "2022-10-25T21:13:22.702Z"
   },
   {
    "duration": 7,
    "start_time": "2022-10-25T21:13:22.719Z"
   },
   {
    "duration": 11,
    "start_time": "2022-10-25T21:13:22.727Z"
   },
   {
    "duration": 3,
    "start_time": "2022-10-25T21:13:22.739Z"
   },
   {
    "duration": 12,
    "start_time": "2022-10-25T21:13:22.743Z"
   },
   {
    "duration": 4,
    "start_time": "2022-10-25T21:13:22.756Z"
   },
   {
    "duration": 11,
    "start_time": "2022-10-25T21:13:22.762Z"
   },
   {
    "duration": 3,
    "start_time": "2022-10-25T21:18:45.978Z"
   },
   {
    "duration": 1256,
    "start_time": "2022-10-25T22:10:51.153Z"
   },
   {
    "duration": 50,
    "start_time": "2022-10-25T22:10:52.411Z"
   },
   {
    "duration": 16,
    "start_time": "2022-10-25T22:10:52.463Z"
   },
   {
    "duration": 7,
    "start_time": "2022-10-25T22:10:52.481Z"
   },
   {
    "duration": 13,
    "start_time": "2022-10-25T22:10:52.490Z"
   },
   {
    "duration": 3,
    "start_time": "2022-10-25T22:10:52.505Z"
   },
   {
    "duration": 27,
    "start_time": "2022-10-25T22:10:52.510Z"
   },
   {
    "duration": 5,
    "start_time": "2022-10-25T22:10:52.539Z"
   },
   {
    "duration": 19,
    "start_time": "2022-10-25T22:10:52.545Z"
   },
   {
    "duration": 1672,
    "start_time": "2022-10-26T21:06:30.588Z"
   },
   {
    "duration": 160,
    "start_time": "2022-10-26T21:06:32.262Z"
   },
   {
    "duration": 18,
    "start_time": "2022-10-26T21:06:32.424Z"
   },
   {
    "duration": 7,
    "start_time": "2022-10-26T21:06:32.445Z"
   },
   {
    "duration": 22,
    "start_time": "2022-10-26T21:06:32.454Z"
   },
   {
    "duration": 4,
    "start_time": "2022-10-26T21:06:32.477Z"
   },
   {
    "duration": 12,
    "start_time": "2022-10-26T21:06:32.482Z"
   },
   {
    "duration": 13,
    "start_time": "2022-10-26T21:06:32.495Z"
   },
   {
    "duration": 12,
    "start_time": "2022-10-26T21:06:32.509Z"
   },
   {
    "duration": 27,
    "start_time": "2022-10-26T21:06:32.523Z"
   },
   {
    "duration": 16,
    "start_time": "2022-10-26T21:06:42.708Z"
   },
   {
    "duration": 171,
    "start_time": "2022-10-26T21:14:52.103Z"
   },
   {
    "duration": 266,
    "start_time": "2022-10-26T21:16:21.041Z"
   },
   {
    "duration": 268,
    "start_time": "2022-10-26T21:16:34.462Z"
   },
   {
    "duration": 457,
    "start_time": "2022-10-26T21:19:38.256Z"
   },
   {
    "duration": 373,
    "start_time": "2022-10-26T21:20:54.938Z"
   },
   {
    "duration": 366,
    "start_time": "2022-10-26T21:21:28.982Z"
   },
   {
    "duration": 338,
    "start_time": "2022-10-26T21:21:38.561Z"
   },
   {
    "duration": 439,
    "start_time": "2022-10-26T21:22:04.443Z"
   },
   {
    "duration": 323,
    "start_time": "2022-10-26T21:22:48.137Z"
   },
   {
    "duration": 314,
    "start_time": "2022-10-26T21:24:44.494Z"
   },
   {
    "duration": 347,
    "start_time": "2022-10-26T21:26:45.004Z"
   },
   {
    "duration": 107,
    "start_time": "2022-10-26T21:27:52.478Z"
   },
   {
    "duration": 1340,
    "start_time": "2022-10-26T21:27:59.053Z"
   },
   {
    "duration": 57,
    "start_time": "2022-10-26T21:28:00.395Z"
   },
   {
    "duration": 26,
    "start_time": "2022-10-26T21:28:00.455Z"
   },
   {
    "duration": 19,
    "start_time": "2022-10-26T21:28:00.484Z"
   },
   {
    "duration": 31,
    "start_time": "2022-10-26T21:28:00.505Z"
   },
   {
    "duration": 4,
    "start_time": "2022-10-26T21:28:00.539Z"
   },
   {
    "duration": 36,
    "start_time": "2022-10-26T21:28:00.545Z"
   },
   {
    "duration": 20,
    "start_time": "2022-10-26T21:28:00.582Z"
   },
   {
    "duration": 28,
    "start_time": "2022-10-26T21:28:00.604Z"
   },
   {
    "duration": 17,
    "start_time": "2022-10-26T21:28:00.634Z"
   },
   {
    "duration": 390,
    "start_time": "2022-10-26T21:28:00.652Z"
   },
   {
    "duration": 9,
    "start_time": "2022-10-26T21:29:53.923Z"
   },
   {
    "duration": 5,
    "start_time": "2022-10-26T21:32:38.491Z"
   },
   {
    "duration": 5,
    "start_time": "2022-10-26T21:32:44.068Z"
   },
   {
    "duration": 73,
    "start_time": "2022-10-26T21:41:26.131Z"
   },
   {
    "duration": 98,
    "start_time": "2022-10-26T21:41:35.550Z"
   },
   {
    "duration": 6,
    "start_time": "2022-10-26T21:41:47.835Z"
   },
   {
    "duration": 7,
    "start_time": "2022-10-26T21:44:02.261Z"
   },
   {
    "duration": 10,
    "start_time": "2022-10-26T21:44:03.261Z"
   },
   {
    "duration": 88,
    "start_time": "2022-10-26T21:45:22.338Z"
   },
   {
    "duration": 10,
    "start_time": "2022-10-26T21:46:36.467Z"
   },
   {
    "duration": 7,
    "start_time": "2022-10-26T21:46:57.571Z"
   },
   {
    "duration": 9,
    "start_time": "2022-10-26T21:49:27.924Z"
   },
   {
    "duration": 21,
    "start_time": "2022-10-26T21:49:39.452Z"
   },
   {
    "duration": 10,
    "start_time": "2022-10-26T21:50:13.308Z"
   },
   {
    "duration": 9,
    "start_time": "2022-10-26T21:50:34.927Z"
   },
   {
    "duration": 12,
    "start_time": "2022-10-26T21:50:47.765Z"
   },
   {
    "duration": 13,
    "start_time": "2022-10-26T21:51:02.630Z"
   },
   {
    "duration": 32,
    "start_time": "2022-10-26T21:52:26.607Z"
   },
   {
    "duration": 14,
    "start_time": "2022-10-26T21:52:36.927Z"
   },
   {
    "duration": 97,
    "start_time": "2022-10-26T21:58:50.297Z"
   },
   {
    "duration": 240,
    "start_time": "2022-10-26T22:01:23.245Z"
   },
   {
    "duration": 3445,
    "start_time": "2022-10-26T22:08:10.218Z"
   },
   {
    "duration": 21,
    "start_time": "2022-10-26T22:12:04.002Z"
   },
   {
    "duration": 2785,
    "start_time": "2022-10-26T22:12:17.928Z"
   },
   {
    "duration": 2791,
    "start_time": "2022-10-26T22:12:29.831Z"
   },
   {
    "duration": 1222,
    "start_time": "2022-10-26T22:14:51.952Z"
   },
   {
    "duration": 48,
    "start_time": "2022-10-26T22:14:53.176Z"
   },
   {
    "duration": 15,
    "start_time": "2022-10-26T22:14:53.226Z"
   },
   {
    "duration": 6,
    "start_time": "2022-10-26T22:14:53.243Z"
   },
   {
    "duration": 10,
    "start_time": "2022-10-26T22:14:53.251Z"
   },
   {
    "duration": 4,
    "start_time": "2022-10-26T22:14:53.262Z"
   },
   {
    "duration": 24,
    "start_time": "2022-10-26T22:14:53.267Z"
   },
   {
    "duration": 4,
    "start_time": "2022-10-26T22:14:53.293Z"
   },
   {
    "duration": 11,
    "start_time": "2022-10-26T22:14:53.299Z"
   },
   {
    "duration": 12,
    "start_time": "2022-10-26T22:14:53.312Z"
   },
   {
    "duration": 348,
    "start_time": "2022-10-26T22:14:53.326Z"
   },
   {
    "duration": 18,
    "start_time": "2022-10-26T22:14:53.676Z"
   },
   {
    "duration": 4,
    "start_time": "2022-10-26T22:14:53.695Z"
   },
   {
    "duration": 107,
    "start_time": "2022-10-26T22:14:53.700Z"
   },
   {
    "duration": 0,
    "start_time": "2022-10-26T22:14:53.809Z"
   },
   {
    "duration": 0,
    "start_time": "2022-10-26T22:14:53.810Z"
   },
   {
    "duration": 0,
    "start_time": "2022-10-26T22:14:53.811Z"
   },
   {
    "duration": 0,
    "start_time": "2022-10-26T22:14:53.812Z"
   },
   {
    "duration": 0,
    "start_time": "2022-10-26T22:14:53.813Z"
   },
   {
    "duration": 0,
    "start_time": "2022-10-26T22:14:53.814Z"
   },
   {
    "duration": 0,
    "start_time": "2022-10-26T22:14:53.816Z"
   },
   {
    "duration": 0,
    "start_time": "2022-10-26T22:14:53.816Z"
   },
   {
    "duration": 0,
    "start_time": "2022-10-26T22:14:53.818Z"
   },
   {
    "duration": 0,
    "start_time": "2022-10-26T22:14:53.819Z"
   },
   {
    "duration": 6,
    "start_time": "2022-10-26T22:15:20.858Z"
   },
   {
    "duration": 1335,
    "start_time": "2022-10-26T22:15:26.260Z"
   },
   {
    "duration": 49,
    "start_time": "2022-10-26T22:15:27.597Z"
   },
   {
    "duration": 15,
    "start_time": "2022-10-26T22:15:27.647Z"
   },
   {
    "duration": 12,
    "start_time": "2022-10-26T22:15:27.664Z"
   },
   {
    "duration": 11,
    "start_time": "2022-10-26T22:15:27.677Z"
   },
   {
    "duration": 4,
    "start_time": "2022-10-26T22:15:27.689Z"
   },
   {
    "duration": 7,
    "start_time": "2022-10-26T22:15:27.694Z"
   },
   {
    "duration": 4,
    "start_time": "2022-10-26T22:15:27.703Z"
   },
   {
    "duration": 12,
    "start_time": "2022-10-26T22:15:27.708Z"
   },
   {
    "duration": 15,
    "start_time": "2022-10-26T22:15:27.723Z"
   },
   {
    "duration": 376,
    "start_time": "2022-10-26T22:15:27.740Z"
   },
   {
    "duration": 10,
    "start_time": "2022-10-26T22:15:28.118Z"
   },
   {
    "duration": 5,
    "start_time": "2022-10-26T22:15:28.130Z"
   },
   {
    "duration": 8,
    "start_time": "2022-10-26T22:15:28.136Z"
   },
   {
    "duration": 7,
    "start_time": "2022-10-26T22:15:28.145Z"
   },
   {
    "duration": 41,
    "start_time": "2022-10-26T22:15:28.154Z"
   },
   {
    "duration": 27,
    "start_time": "2022-10-26T22:15:28.197Z"
   },
   {
    "duration": 10,
    "start_time": "2022-10-26T22:15:28.226Z"
   },
   {
    "duration": 10,
    "start_time": "2022-10-26T22:15:28.238Z"
   },
   {
    "duration": 12,
    "start_time": "2022-10-26T22:15:28.250Z"
   },
   {
    "duration": 103,
    "start_time": "2022-10-26T22:15:28.291Z"
   },
   {
    "duration": 437,
    "start_time": "2022-10-26T22:15:28.395Z"
   },
   {
    "duration": 3499,
    "start_time": "2022-10-26T22:15:28.833Z"
   },
   {
    "duration": 2908,
    "start_time": "2022-10-26T22:15:32.333Z"
   },
   {
    "duration": 1422,
    "start_time": "2022-10-27T21:15:50.749Z"
   },
   {
    "duration": 174,
    "start_time": "2022-10-27T21:15:52.172Z"
   },
   {
    "duration": 15,
    "start_time": "2022-10-27T21:15:52.347Z"
   },
   {
    "duration": 6,
    "start_time": "2022-10-27T21:15:52.364Z"
   },
   {
    "duration": 13,
    "start_time": "2022-10-27T21:15:52.371Z"
   },
   {
    "duration": 3,
    "start_time": "2022-10-27T21:15:52.385Z"
   },
   {
    "duration": 7,
    "start_time": "2022-10-27T21:15:52.390Z"
   },
   {
    "duration": 5,
    "start_time": "2022-10-27T21:15:52.399Z"
   },
   {
    "duration": 12,
    "start_time": "2022-10-27T21:15:52.405Z"
   },
   {
    "duration": 11,
    "start_time": "2022-10-27T21:15:52.419Z"
   },
   {
    "duration": 367,
    "start_time": "2022-10-27T21:15:52.432Z"
   },
   {
    "duration": 8,
    "start_time": "2022-10-27T21:15:52.801Z"
   },
   {
    "duration": 4,
    "start_time": "2022-10-27T21:15:52.811Z"
   },
   {
    "duration": 6,
    "start_time": "2022-10-27T21:15:52.817Z"
   },
   {
    "duration": 5,
    "start_time": "2022-10-27T21:15:52.824Z"
   },
   {
    "duration": 11,
    "start_time": "2022-10-27T21:15:52.831Z"
   },
   {
    "duration": 57,
    "start_time": "2022-10-27T21:15:52.844Z"
   },
   {
    "duration": 10,
    "start_time": "2022-10-27T21:15:52.902Z"
   },
   {
    "duration": 12,
    "start_time": "2022-10-27T21:15:52.913Z"
   },
   {
    "duration": 12,
    "start_time": "2022-10-27T21:15:52.927Z"
   },
   {
    "duration": 146,
    "start_time": "2022-10-27T21:15:52.940Z"
   },
   {
    "duration": 430,
    "start_time": "2022-10-27T21:15:53.087Z"
   },
   {
    "duration": 3341,
    "start_time": "2022-10-27T21:15:53.519Z"
   },
   {
    "duration": 2858,
    "start_time": "2022-10-27T21:15:56.862Z"
   },
   {
    "duration": 4,
    "start_time": "2022-10-27T22:09:12.008Z"
   },
   {
    "duration": 4,
    "start_time": "2022-10-27T22:09:38.248Z"
   },
   {
    "duration": 93,
    "start_time": "2022-10-27T22:10:25.925Z"
   },
   {
    "duration": 9,
    "start_time": "2022-10-27T22:10:46.240Z"
   },
   {
    "duration": 4,
    "start_time": "2022-10-27T22:10:49.543Z"
   },
   {
    "duration": 8,
    "start_time": "2022-10-27T22:10:50.383Z"
   },
   {
    "duration": 6,
    "start_time": "2022-10-27T22:12:56.377Z"
   },
   {
    "duration": 6,
    "start_time": "2022-10-27T22:14:49.925Z"
   },
   {
    "duration": 8,
    "start_time": "2022-10-27T22:14:57.094Z"
   },
   {
    "duration": 6,
    "start_time": "2022-10-27T22:14:57.797Z"
   },
   {
    "duration": 7,
    "start_time": "2022-10-27T22:15:03.036Z"
   },
   {
    "duration": 5,
    "start_time": "2022-10-27T22:15:03.761Z"
   },
   {
    "duration": 5,
    "start_time": "2022-10-27T22:15:53.244Z"
   },
   {
    "duration": 24,
    "start_time": "2022-10-27T22:19:48.072Z"
   },
   {
    "duration": 552,
    "start_time": "2022-10-27T22:21:14.091Z"
   },
   {
    "duration": 5763,
    "start_time": "2022-10-27T22:23:00.194Z"
   },
   {
    "duration": 7429,
    "start_time": "2022-10-27T22:24:28.741Z"
   },
   {
    "duration": 254,
    "start_time": "2022-10-27T22:27:36.068Z"
   },
   {
    "duration": 1484,
    "start_time": "2022-10-29T20:41:19.703Z"
   },
   {
    "duration": 158,
    "start_time": "2022-10-29T20:41:21.189Z"
   },
   {
    "duration": 17,
    "start_time": "2022-10-29T20:41:21.348Z"
   },
   {
    "duration": 8,
    "start_time": "2022-10-29T20:41:21.367Z"
   },
   {
    "duration": 11,
    "start_time": "2022-10-29T20:41:21.376Z"
   },
   {
    "duration": 4,
    "start_time": "2022-10-29T20:41:21.388Z"
   },
   {
    "duration": 8,
    "start_time": "2022-10-29T20:41:21.393Z"
   },
   {
    "duration": 15,
    "start_time": "2022-10-29T20:41:21.402Z"
   },
   {
    "duration": 13,
    "start_time": "2022-10-29T20:41:21.418Z"
   },
   {
    "duration": 12,
    "start_time": "2022-10-29T20:41:21.433Z"
   },
   {
    "duration": 335,
    "start_time": "2022-10-29T20:41:21.447Z"
   },
   {
    "duration": 9,
    "start_time": "2022-10-29T20:41:21.784Z"
   },
   {
    "duration": 13,
    "start_time": "2022-10-29T20:41:21.794Z"
   },
   {
    "duration": 7,
    "start_time": "2022-10-29T20:41:21.808Z"
   },
   {
    "duration": 6,
    "start_time": "2022-10-29T20:41:21.816Z"
   },
   {
    "duration": 13,
    "start_time": "2022-10-29T20:41:21.823Z"
   },
   {
    "duration": 30,
    "start_time": "2022-10-29T20:41:21.837Z"
   },
   {
    "duration": 37,
    "start_time": "2022-10-29T20:41:21.869Z"
   },
   {
    "duration": 10,
    "start_time": "2022-10-29T20:41:21.908Z"
   },
   {
    "duration": 19,
    "start_time": "2022-10-29T20:41:21.919Z"
   },
   {
    "duration": 168,
    "start_time": "2022-10-29T20:41:21.939Z"
   },
   {
    "duration": 349,
    "start_time": "2022-10-29T20:41:22.109Z"
   },
   {
    "duration": 3351,
    "start_time": "2022-10-29T20:41:22.460Z"
   },
   {
    "duration": 2834,
    "start_time": "2022-10-29T20:41:25.813Z"
   },
   {
    "duration": 5,
    "start_time": "2022-10-29T20:41:28.649Z"
   },
   {
    "duration": 7,
    "start_time": "2022-10-29T20:41:28.655Z"
   },
   {
    "duration": 9,
    "start_time": "2022-10-29T20:41:28.664Z"
   },
   {
    "duration": 4,
    "start_time": "2022-10-29T20:41:28.676Z"
   },
   {
    "duration": 126,
    "start_time": "2022-10-29T20:41:28.682Z"
   },
   {
    "duration": 641,
    "start_time": "2022-10-29T20:41:28.815Z"
   },
   {
    "duration": 5801,
    "start_time": "2022-10-29T20:41:29.458Z"
   },
   {
    "duration": 7918,
    "start_time": "2022-10-29T20:41:35.261Z"
   },
   {
    "duration": 277,
    "start_time": "2022-10-29T20:41:43.181Z"
   },
   {
    "duration": 73,
    "start_time": "2022-10-29T20:55:56.936Z"
   },
   {
    "duration": 4,
    "start_time": "2022-10-29T20:56:03.609Z"
   },
   {
    "duration": 95,
    "start_time": "2022-10-29T21:12:13.525Z"
   },
   {
    "duration": 6,
    "start_time": "2022-10-29T21:12:34.006Z"
   },
   {
    "duration": 7,
    "start_time": "2022-10-29T21:12:50.808Z"
   },
   {
    "duration": 9,
    "start_time": "2022-10-29T21:12:58.762Z"
   },
   {
    "duration": 30,
    "start_time": "2022-10-29T21:13:47.499Z"
   },
   {
    "duration": 9,
    "start_time": "2022-10-29T21:14:43.704Z"
   },
   {
    "duration": 91,
    "start_time": "2022-10-29T21:17:40.626Z"
   },
   {
    "duration": 162,
    "start_time": "2022-10-29T21:19:50.930Z"
   },
   {
    "duration": 4,
    "start_time": "2022-10-29T21:27:56.632Z"
   },
   {
    "duration": 10,
    "start_time": "2022-10-29T21:28:08.772Z"
   },
   {
    "duration": 8,
    "start_time": "2022-10-29T21:57:10.233Z"
   },
   {
    "duration": 9,
    "start_time": "2022-10-29T21:57:40.541Z"
   },
   {
    "duration": 1307,
    "start_time": "2022-10-29T21:58:31.909Z"
   },
   {
    "duration": 47,
    "start_time": "2022-10-29T21:58:33.218Z"
   },
   {
    "duration": 15,
    "start_time": "2022-10-29T21:58:33.267Z"
   },
   {
    "duration": 6,
    "start_time": "2022-10-29T21:58:33.284Z"
   },
   {
    "duration": 12,
    "start_time": "2022-10-29T21:58:33.291Z"
   },
   {
    "duration": 3,
    "start_time": "2022-10-29T21:58:33.304Z"
   },
   {
    "duration": 10,
    "start_time": "2022-10-29T21:58:33.309Z"
   },
   {
    "duration": 5,
    "start_time": "2022-10-29T21:58:33.321Z"
   },
   {
    "duration": 10,
    "start_time": "2022-10-29T21:58:33.327Z"
   },
   {
    "duration": 13,
    "start_time": "2022-10-29T21:58:33.339Z"
   },
   {
    "duration": 333,
    "start_time": "2022-10-29T21:58:33.353Z"
   },
   {
    "duration": 17,
    "start_time": "2022-10-29T21:58:33.688Z"
   },
   {
    "duration": 5,
    "start_time": "2022-10-29T21:58:33.706Z"
   },
   {
    "duration": 7,
    "start_time": "2022-10-29T21:58:33.712Z"
   },
   {
    "duration": 110,
    "start_time": "2022-10-29T21:58:33.720Z"
   },
   {
    "duration": 0,
    "start_time": "2022-10-29T21:58:33.832Z"
   },
   {
    "duration": 0,
    "start_time": "2022-10-29T21:58:33.833Z"
   },
   {
    "duration": 0,
    "start_time": "2022-10-29T21:58:33.834Z"
   },
   {
    "duration": 0,
    "start_time": "2022-10-29T21:58:33.836Z"
   },
   {
    "duration": 0,
    "start_time": "2022-10-29T21:58:33.837Z"
   },
   {
    "duration": 0,
    "start_time": "2022-10-29T21:58:33.837Z"
   },
   {
    "duration": 0,
    "start_time": "2022-10-29T21:58:33.838Z"
   },
   {
    "duration": 0,
    "start_time": "2022-10-29T21:58:33.839Z"
   },
   {
    "duration": 0,
    "start_time": "2022-10-29T21:58:33.840Z"
   },
   {
    "duration": 0,
    "start_time": "2022-10-29T21:58:33.841Z"
   },
   {
    "duration": 0,
    "start_time": "2022-10-29T21:58:33.842Z"
   },
   {
    "duration": 0,
    "start_time": "2022-10-29T21:58:33.843Z"
   },
   {
    "duration": 0,
    "start_time": "2022-10-29T21:58:33.844Z"
   },
   {
    "duration": 0,
    "start_time": "2022-10-29T21:58:33.845Z"
   },
   {
    "duration": 0,
    "start_time": "2022-10-29T21:58:33.846Z"
   },
   {
    "duration": 1,
    "start_time": "2022-10-29T21:58:33.846Z"
   },
   {
    "duration": 0,
    "start_time": "2022-10-29T21:58:33.847Z"
   },
   {
    "duration": 0,
    "start_time": "2022-10-29T21:58:33.848Z"
   },
   {
    "duration": 0,
    "start_time": "2022-10-29T21:58:33.849Z"
   },
   {
    "duration": 0,
    "start_time": "2022-10-29T21:58:33.850Z"
   },
   {
    "duration": 0,
    "start_time": "2022-10-29T21:58:33.851Z"
   },
   {
    "duration": 0,
    "start_time": "2022-10-29T21:58:33.851Z"
   },
   {
    "duration": 0,
    "start_time": "2022-10-29T21:58:33.853Z"
   },
   {
    "duration": 6,
    "start_time": "2022-10-29T21:59:21.503Z"
   },
   {
    "duration": 1255,
    "start_time": "2022-10-29T21:59:45.736Z"
   },
   {
    "duration": 46,
    "start_time": "2022-10-29T21:59:46.993Z"
   },
   {
    "duration": 15,
    "start_time": "2022-10-29T21:59:47.041Z"
   },
   {
    "duration": 7,
    "start_time": "2022-10-29T21:59:47.057Z"
   },
   {
    "duration": 11,
    "start_time": "2022-10-29T21:59:47.066Z"
   },
   {
    "duration": 5,
    "start_time": "2022-10-29T21:59:47.078Z"
   },
   {
    "duration": 21,
    "start_time": "2022-10-29T21:59:47.085Z"
   },
   {
    "duration": 6,
    "start_time": "2022-10-29T21:59:47.108Z"
   },
   {
    "duration": 13,
    "start_time": "2022-10-29T21:59:47.115Z"
   },
   {
    "duration": 13,
    "start_time": "2022-10-29T21:59:47.131Z"
   },
   {
    "duration": 418,
    "start_time": "2022-10-29T21:59:47.146Z"
   },
   {
    "duration": 9,
    "start_time": "2022-10-29T21:59:47.566Z"
   },
   {
    "duration": 5,
    "start_time": "2022-10-29T21:59:47.576Z"
   },
   {
    "duration": 22,
    "start_time": "2022-10-29T21:59:47.583Z"
   },
   {
    "duration": 9,
    "start_time": "2022-10-29T21:59:47.608Z"
   },
   {
    "duration": 129,
    "start_time": "2022-10-29T21:59:47.620Z"
   },
   {
    "duration": 0,
    "start_time": "2022-10-29T21:59:47.751Z"
   },
   {
    "duration": 0,
    "start_time": "2022-10-29T21:59:47.752Z"
   },
   {
    "duration": 0,
    "start_time": "2022-10-29T21:59:47.753Z"
   },
   {
    "duration": 0,
    "start_time": "2022-10-29T21:59:47.755Z"
   },
   {
    "duration": 0,
    "start_time": "2022-10-29T21:59:47.756Z"
   },
   {
    "duration": 0,
    "start_time": "2022-10-29T21:59:47.757Z"
   },
   {
    "duration": 0,
    "start_time": "2022-10-29T21:59:47.758Z"
   },
   {
    "duration": 0,
    "start_time": "2022-10-29T21:59:47.759Z"
   },
   {
    "duration": 0,
    "start_time": "2022-10-29T21:59:47.759Z"
   },
   {
    "duration": 0,
    "start_time": "2022-10-29T21:59:47.760Z"
   },
   {
    "duration": 0,
    "start_time": "2022-10-29T21:59:47.761Z"
   },
   {
    "duration": 0,
    "start_time": "2022-10-29T21:59:47.763Z"
   },
   {
    "duration": 0,
    "start_time": "2022-10-29T21:59:47.763Z"
   },
   {
    "duration": 0,
    "start_time": "2022-10-29T21:59:47.764Z"
   },
   {
    "duration": 0,
    "start_time": "2022-10-29T21:59:47.765Z"
   },
   {
    "duration": 0,
    "start_time": "2022-10-29T21:59:47.766Z"
   },
   {
    "duration": 0,
    "start_time": "2022-10-29T21:59:47.767Z"
   },
   {
    "duration": 0,
    "start_time": "2022-10-29T21:59:47.769Z"
   },
   {
    "duration": 0,
    "start_time": "2022-10-29T21:59:47.769Z"
   },
   {
    "duration": 0,
    "start_time": "2022-10-29T21:59:47.805Z"
   },
   {
    "duration": 0,
    "start_time": "2022-10-29T21:59:47.806Z"
   },
   {
    "duration": 1255,
    "start_time": "2022-10-29T22:00:10.531Z"
   },
   {
    "duration": 46,
    "start_time": "2022-10-29T22:00:11.788Z"
   },
   {
    "duration": 15,
    "start_time": "2022-10-29T22:00:11.836Z"
   },
   {
    "duration": 6,
    "start_time": "2022-10-29T22:00:11.853Z"
   },
   {
    "duration": 14,
    "start_time": "2022-10-29T22:00:11.861Z"
   },
   {
    "duration": 3,
    "start_time": "2022-10-29T22:00:11.877Z"
   },
   {
    "duration": 28,
    "start_time": "2022-10-29T22:00:11.881Z"
   },
   {
    "duration": 4,
    "start_time": "2022-10-29T22:00:11.911Z"
   },
   {
    "duration": 11,
    "start_time": "2022-10-29T22:00:11.916Z"
   },
   {
    "duration": 13,
    "start_time": "2022-10-29T22:00:11.929Z"
   },
   {
    "duration": 365,
    "start_time": "2022-10-29T22:00:11.943Z"
   },
   {
    "duration": 9,
    "start_time": "2022-10-29T22:00:12.310Z"
   },
   {
    "duration": 5,
    "start_time": "2022-10-29T22:00:12.320Z"
   },
   {
    "duration": 11,
    "start_time": "2022-10-29T22:00:12.326Z"
   },
   {
    "duration": 19,
    "start_time": "2022-10-29T22:00:12.338Z"
   },
   {
    "duration": 53,
    "start_time": "2022-10-29T22:00:12.359Z"
   },
   {
    "duration": 10,
    "start_time": "2022-10-29T22:00:12.414Z"
   },
   {
    "duration": 11,
    "start_time": "2022-10-29T22:00:12.426Z"
   },
   {
    "duration": 114,
    "start_time": "2022-10-29T22:00:12.439Z"
   },
   {
    "duration": 0,
    "start_time": "2022-10-29T22:00:12.555Z"
   },
   {
    "duration": 0,
    "start_time": "2022-10-29T22:00:12.556Z"
   },
   {
    "duration": 0,
    "start_time": "2022-10-29T22:00:12.557Z"
   },
   {
    "duration": 0,
    "start_time": "2022-10-29T22:00:12.558Z"
   },
   {
    "duration": 0,
    "start_time": "2022-10-29T22:00:12.559Z"
   },
   {
    "duration": 0,
    "start_time": "2022-10-29T22:00:12.560Z"
   },
   {
    "duration": 0,
    "start_time": "2022-10-29T22:00:12.561Z"
   },
   {
    "duration": 0,
    "start_time": "2022-10-29T22:00:12.562Z"
   },
   {
    "duration": 0,
    "start_time": "2022-10-29T22:00:12.562Z"
   },
   {
    "duration": 0,
    "start_time": "2022-10-29T22:00:12.564Z"
   },
   {
    "duration": 0,
    "start_time": "2022-10-29T22:00:12.564Z"
   },
   {
    "duration": 0,
    "start_time": "2022-10-29T22:00:12.565Z"
   },
   {
    "duration": 0,
    "start_time": "2022-10-29T22:00:12.569Z"
   },
   {
    "duration": 0,
    "start_time": "2022-10-29T22:00:12.570Z"
   },
   {
    "duration": 0,
    "start_time": "2022-10-29T22:00:12.571Z"
   },
   {
    "duration": 0,
    "start_time": "2022-10-29T22:00:12.571Z"
   },
   {
    "duration": 0,
    "start_time": "2022-10-29T22:00:12.572Z"
   },
   {
    "duration": 0,
    "start_time": "2022-10-29T22:00:12.573Z"
   },
   {
    "duration": 1282,
    "start_time": "2022-10-29T22:00:32.753Z"
   },
   {
    "duration": 47,
    "start_time": "2022-10-29T22:00:34.037Z"
   },
   {
    "duration": 16,
    "start_time": "2022-10-29T22:00:34.085Z"
   },
   {
    "duration": 6,
    "start_time": "2022-10-29T22:00:34.103Z"
   },
   {
    "duration": 14,
    "start_time": "2022-10-29T22:00:34.111Z"
   },
   {
    "duration": 4,
    "start_time": "2022-10-29T22:00:34.127Z"
   },
   {
    "duration": 11,
    "start_time": "2022-10-29T22:00:34.132Z"
   },
   {
    "duration": 8,
    "start_time": "2022-10-29T22:00:34.144Z"
   },
   {
    "duration": 14,
    "start_time": "2022-10-29T22:00:34.154Z"
   },
   {
    "duration": 44,
    "start_time": "2022-10-29T22:00:34.171Z"
   },
   {
    "duration": 360,
    "start_time": "2022-10-29T22:00:34.217Z"
   },
   {
    "duration": 8,
    "start_time": "2022-10-29T22:00:34.579Z"
   },
   {
    "duration": 4,
    "start_time": "2022-10-29T22:00:34.589Z"
   },
   {
    "duration": 7,
    "start_time": "2022-10-29T22:00:34.605Z"
   },
   {
    "duration": 13,
    "start_time": "2022-10-29T22:00:34.613Z"
   },
   {
    "duration": 26,
    "start_time": "2022-10-29T22:00:34.628Z"
   },
   {
    "duration": 10,
    "start_time": "2022-10-29T22:00:34.656Z"
   },
   {
    "duration": 14,
    "start_time": "2022-10-29T22:00:34.668Z"
   },
   {
    "duration": 523,
    "start_time": "2022-10-29T22:00:34.683Z"
   },
   {
    "duration": 243,
    "start_time": "2022-10-29T22:00:35.208Z"
   },
   {
    "duration": 2858,
    "start_time": "2022-10-29T22:00:35.453Z"
   },
   {
    "duration": 2283,
    "start_time": "2022-10-29T22:00:38.312Z"
   },
   {
    "duration": 11,
    "start_time": "2022-10-29T22:00:40.596Z"
   },
   {
    "duration": 6,
    "start_time": "2022-10-29T22:00:40.609Z"
   },
   {
    "duration": 18,
    "start_time": "2022-10-29T22:00:40.617Z"
   },
   {
    "duration": 6,
    "start_time": "2022-10-29T22:00:40.637Z"
   },
   {
    "duration": 64,
    "start_time": "2022-10-29T22:00:40.645Z"
   },
   {
    "duration": 502,
    "start_time": "2022-10-29T22:00:40.713Z"
   },
   {
    "duration": 4565,
    "start_time": "2022-10-29T22:00:41.217Z"
   },
   {
    "duration": 5686,
    "start_time": "2022-10-29T22:00:45.783Z"
   },
   {
    "duration": 169,
    "start_time": "2022-10-29T22:00:51.471Z"
   },
   {
    "duration": 10,
    "start_time": "2022-10-29T22:00:51.642Z"
   },
   {
    "duration": 70,
    "start_time": "2022-10-29T22:00:51.654Z"
   },
   {
    "duration": 90,
    "start_time": "2022-10-29T22:00:51.726Z"
   },
   {
    "duration": 259,
    "start_time": "2022-10-29T22:00:51.818Z"
   },
   {
    "duration": 13,
    "start_time": "2022-10-29T22:00:52.078Z"
   },
   {
    "duration": 1375,
    "start_time": "2022-10-29T22:02:24.687Z"
   },
   {
    "duration": 48,
    "start_time": "2022-10-29T22:02:26.064Z"
   },
   {
    "duration": 17,
    "start_time": "2022-10-29T22:02:26.114Z"
   },
   {
    "duration": 11,
    "start_time": "2022-10-29T22:02:26.134Z"
   },
   {
    "duration": 11,
    "start_time": "2022-10-29T22:02:26.147Z"
   },
   {
    "duration": 5,
    "start_time": "2022-10-29T22:02:26.159Z"
   },
   {
    "duration": 44,
    "start_time": "2022-10-29T22:02:26.165Z"
   },
   {
    "duration": 7,
    "start_time": "2022-10-29T22:02:26.212Z"
   },
   {
    "duration": 13,
    "start_time": "2022-10-29T22:02:26.221Z"
   },
   {
    "duration": 14,
    "start_time": "2022-10-29T22:02:26.239Z"
   },
   {
    "duration": 382,
    "start_time": "2022-10-29T22:02:26.255Z"
   },
   {
    "duration": 8,
    "start_time": "2022-10-29T22:02:26.639Z"
   },
   {
    "duration": 39,
    "start_time": "2022-10-29T22:02:26.649Z"
   },
   {
    "duration": 7,
    "start_time": "2022-10-29T22:02:26.690Z"
   },
   {
    "duration": 15,
    "start_time": "2022-10-29T22:02:26.698Z"
   },
   {
    "duration": 47,
    "start_time": "2022-10-29T22:02:26.715Z"
   },
   {
    "duration": 14,
    "start_time": "2022-10-29T22:02:26.763Z"
   },
   {
    "duration": 43,
    "start_time": "2022-10-29T22:02:26.778Z"
   },
   {
    "duration": 381,
    "start_time": "2022-10-29T22:02:26.825Z"
   },
   {
    "duration": 387,
    "start_time": "2022-10-29T22:02:27.211Z"
   },
   {
    "duration": 2879,
    "start_time": "2022-10-29T22:02:27.600Z"
   },
   {
    "duration": 2395,
    "start_time": "2022-10-29T22:02:30.481Z"
   },
   {
    "duration": 6,
    "start_time": "2022-10-29T22:02:32.877Z"
   },
   {
    "duration": 7,
    "start_time": "2022-10-29T22:02:32.884Z"
   },
   {
    "duration": 9,
    "start_time": "2022-10-29T22:02:32.906Z"
   },
   {
    "duration": 5,
    "start_time": "2022-10-29T22:02:32.917Z"
   },
   {
    "duration": 91,
    "start_time": "2022-10-29T22:02:32.924Z"
   },
   {
    "duration": 554,
    "start_time": "2022-10-29T22:02:33.021Z"
   },
   {
    "duration": 4645,
    "start_time": "2022-10-29T22:02:33.576Z"
   },
   {
    "duration": 5786,
    "start_time": "2022-10-29T22:02:38.224Z"
   },
   {
    "duration": 169,
    "start_time": "2022-10-29T22:02:44.012Z"
   },
   {
    "duration": 10,
    "start_time": "2022-10-29T22:02:44.183Z"
   },
   {
    "duration": 72,
    "start_time": "2022-10-29T22:02:44.194Z"
   },
   {
    "duration": 47,
    "start_time": "2022-10-29T22:02:44.267Z"
   },
   {
    "duration": 277,
    "start_time": "2022-10-29T22:02:44.316Z"
   },
   {
    "duration": 17,
    "start_time": "2022-10-29T22:02:44.595Z"
   },
   {
    "duration": 4663,
    "start_time": "2022-10-29T22:04:51.090Z"
   },
   {
    "duration": 1407,
    "start_time": "2022-10-29T22:08:04.548Z"
   },
   {
    "duration": 55,
    "start_time": "2022-10-29T22:08:05.958Z"
   },
   {
    "duration": 22,
    "start_time": "2022-10-29T22:08:06.015Z"
   },
   {
    "duration": 8,
    "start_time": "2022-10-29T22:08:06.040Z"
   },
   {
    "duration": 14,
    "start_time": "2022-10-29T22:08:06.050Z"
   },
   {
    "duration": 3,
    "start_time": "2022-10-29T22:08:06.066Z"
   },
   {
    "duration": 41,
    "start_time": "2022-10-29T22:08:06.071Z"
   },
   {
    "duration": 7,
    "start_time": "2022-10-29T22:08:06.114Z"
   },
   {
    "duration": 23,
    "start_time": "2022-10-29T22:08:06.123Z"
   },
   {
    "duration": 16,
    "start_time": "2022-10-29T22:08:06.148Z"
   },
   {
    "duration": 407,
    "start_time": "2022-10-29T22:08:06.166Z"
   },
   {
    "duration": 9,
    "start_time": "2022-10-29T22:08:06.575Z"
   },
   {
    "duration": 51,
    "start_time": "2022-10-29T22:08:06.586Z"
   },
   {
    "duration": 13,
    "start_time": "2022-10-29T22:08:06.639Z"
   },
   {
    "duration": 10,
    "start_time": "2022-10-29T22:08:06.654Z"
   },
   {
    "duration": 26,
    "start_time": "2022-10-29T22:08:06.666Z"
   },
   {
    "duration": 18,
    "start_time": "2022-10-29T22:08:06.694Z"
   },
   {
    "duration": 31,
    "start_time": "2022-10-29T22:08:06.714Z"
   },
   {
    "duration": 74,
    "start_time": "2022-10-29T22:08:06.747Z"
   },
   {
    "duration": 422,
    "start_time": "2022-10-29T22:08:06.824Z"
   },
   {
    "duration": 5100,
    "start_time": "2022-10-29T22:08:07.248Z"
   },
   {
    "duration": 2397,
    "start_time": "2022-10-29T22:08:12.350Z"
   },
   {
    "duration": 6,
    "start_time": "2022-10-29T22:08:14.749Z"
   },
   {
    "duration": 32,
    "start_time": "2022-10-29T22:08:14.757Z"
   },
   {
    "duration": 46,
    "start_time": "2022-10-29T22:08:14.791Z"
   },
   {
    "duration": 14,
    "start_time": "2022-10-29T22:08:14.839Z"
   },
   {
    "duration": 52,
    "start_time": "2022-10-29T22:08:14.854Z"
   },
   {
    "duration": 751,
    "start_time": "2022-10-29T22:08:14.910Z"
   },
   {
    "duration": 4700,
    "start_time": "2022-10-29T22:08:15.662Z"
   },
   {
    "duration": 5807,
    "start_time": "2022-10-29T22:08:20.364Z"
   },
   {
    "duration": 178,
    "start_time": "2022-10-29T22:08:26.172Z"
   },
   {
    "duration": 10,
    "start_time": "2022-10-29T22:08:26.353Z"
   },
   {
    "duration": 62,
    "start_time": "2022-10-29T22:08:26.365Z"
   },
   {
    "duration": 79,
    "start_time": "2022-10-29T22:08:26.429Z"
   },
   {
    "duration": 280,
    "start_time": "2022-10-29T22:08:26.510Z"
   },
   {
    "duration": 18,
    "start_time": "2022-10-29T22:08:26.791Z"
   },
   {
    "duration": 246,
    "start_time": "2022-10-29T22:19:18.597Z"
   },
   {
    "duration": 1331,
    "start_time": "2022-10-29T22:21:48.485Z"
   },
   {
    "duration": 47,
    "start_time": "2022-10-29T22:21:49.818Z"
   },
   {
    "duration": 18,
    "start_time": "2022-10-29T22:21:49.866Z"
   },
   {
    "duration": 9,
    "start_time": "2022-10-29T22:21:49.887Z"
   },
   {
    "duration": 14,
    "start_time": "2022-10-29T22:21:49.898Z"
   },
   {
    "duration": 5,
    "start_time": "2022-10-29T22:21:49.914Z"
   },
   {
    "duration": 10,
    "start_time": "2022-10-29T22:21:49.921Z"
   },
   {
    "duration": 3,
    "start_time": "2022-10-29T22:21:49.933Z"
   },
   {
    "duration": 10,
    "start_time": "2022-10-29T22:21:49.938Z"
   },
   {
    "duration": 12,
    "start_time": "2022-10-29T22:21:49.951Z"
   },
   {
    "duration": 410,
    "start_time": "2022-10-29T22:21:49.965Z"
   },
   {
    "duration": 9,
    "start_time": "2022-10-29T22:21:50.377Z"
   },
   {
    "duration": 18,
    "start_time": "2022-10-29T22:21:50.388Z"
   },
   {
    "duration": 7,
    "start_time": "2022-10-29T22:21:50.407Z"
   },
   {
    "duration": 11,
    "start_time": "2022-10-29T22:21:50.416Z"
   },
   {
    "duration": 31,
    "start_time": "2022-10-29T22:21:50.429Z"
   },
   {
    "duration": 11,
    "start_time": "2022-10-29T22:21:50.462Z"
   },
   {
    "duration": 37,
    "start_time": "2022-10-29T22:21:50.475Z"
   },
   {
    "duration": 16,
    "start_time": "2022-10-29T22:21:50.514Z"
   },
   {
    "duration": 289,
    "start_time": "2022-10-29T22:21:50.604Z"
   },
   {
    "duration": 4399,
    "start_time": "2022-10-29T22:21:50.895Z"
   },
   {
    "duration": 2267,
    "start_time": "2022-10-29T22:21:55.297Z"
   },
   {
    "duration": 6,
    "start_time": "2022-10-29T22:21:57.566Z"
   },
   {
    "duration": 7,
    "start_time": "2022-10-29T22:21:57.574Z"
   },
   {
    "duration": 22,
    "start_time": "2022-10-29T22:21:57.583Z"
   },
   {
    "duration": 5,
    "start_time": "2022-10-29T22:21:57.607Z"
   },
   {
    "duration": 92,
    "start_time": "2022-10-29T22:21:57.614Z"
   },
   {
    "duration": 367,
    "start_time": "2022-10-29T22:21:57.709Z"
   },
   {
    "duration": 4478,
    "start_time": "2022-10-29T22:21:58.078Z"
   },
   {
    "duration": 5672,
    "start_time": "2022-10-29T22:22:02.558Z"
   },
   {
    "duration": 216,
    "start_time": "2022-10-29T22:22:08.232Z"
   },
   {
    "duration": 10,
    "start_time": "2022-10-29T22:22:08.449Z"
   },
   {
    "duration": 65,
    "start_time": "2022-10-29T22:22:08.460Z"
   },
   {
    "duration": 79,
    "start_time": "2022-10-29T22:22:08.526Z"
   },
   {
    "duration": 264,
    "start_time": "2022-10-29T22:22:08.608Z"
   },
   {
    "duration": 9,
    "start_time": "2022-10-29T22:22:08.873Z"
   },
   {
    "duration": 5601,
    "start_time": "2022-10-29T22:24:18.050Z"
   },
   {
    "duration": 1447,
    "start_time": "2022-10-29T22:25:02.416Z"
   },
   {
    "duration": 48,
    "start_time": "2022-10-29T22:25:03.865Z"
   },
   {
    "duration": 21,
    "start_time": "2022-10-29T22:25:03.915Z"
   },
   {
    "duration": 10,
    "start_time": "2022-10-29T22:25:03.937Z"
   },
   {
    "duration": 19,
    "start_time": "2022-10-29T22:25:03.950Z"
   },
   {
    "duration": 14,
    "start_time": "2022-10-29T22:25:03.971Z"
   },
   {
    "duration": 18,
    "start_time": "2022-10-29T22:25:03.986Z"
   },
   {
    "duration": 27,
    "start_time": "2022-10-29T22:25:04.005Z"
   },
   {
    "duration": 16,
    "start_time": "2022-10-29T22:25:04.033Z"
   },
   {
    "duration": 19,
    "start_time": "2022-10-29T22:25:04.051Z"
   },
   {
    "duration": 372,
    "start_time": "2022-10-29T22:25:04.072Z"
   },
   {
    "duration": 8,
    "start_time": "2022-10-29T22:25:04.446Z"
   },
   {
    "duration": 9,
    "start_time": "2022-10-29T22:25:04.456Z"
   },
   {
    "duration": 5,
    "start_time": "2022-10-29T22:25:04.468Z"
   },
   {
    "duration": 30,
    "start_time": "2022-10-29T22:25:04.475Z"
   },
   {
    "duration": 39,
    "start_time": "2022-10-29T22:25:04.507Z"
   },
   {
    "duration": 16,
    "start_time": "2022-10-29T22:25:04.548Z"
   },
   {
    "duration": 20,
    "start_time": "2022-10-29T22:25:04.566Z"
   },
   {
    "duration": 125,
    "start_time": "2022-10-29T22:25:04.587Z"
   },
   {
    "duration": 340,
    "start_time": "2022-10-29T22:25:04.717Z"
   },
   {
    "duration": 4876,
    "start_time": "2022-10-29T22:25:05.059Z"
   },
   {
    "duration": 2331,
    "start_time": "2022-10-29T22:25:09.937Z"
   },
   {
    "duration": 10,
    "start_time": "2022-10-29T22:25:12.273Z"
   },
   {
    "duration": 17,
    "start_time": "2022-10-29T22:25:12.285Z"
   },
   {
    "duration": 38,
    "start_time": "2022-10-29T22:25:12.304Z"
   },
   {
    "duration": 6,
    "start_time": "2022-10-29T22:25:12.344Z"
   },
   {
    "duration": 18,
    "start_time": "2022-10-29T22:25:12.352Z"
   },
   {
    "duration": 415,
    "start_time": "2022-10-29T22:25:12.417Z"
   },
   {
    "duration": 4588,
    "start_time": "2022-10-29T22:25:12.834Z"
   },
   {
    "duration": 5683,
    "start_time": "2022-10-29T22:25:17.424Z"
   },
   {
    "duration": 187,
    "start_time": "2022-10-29T22:25:23.111Z"
   },
   {
    "duration": 14,
    "start_time": "2022-10-29T22:25:23.300Z"
   },
   {
    "duration": 67,
    "start_time": "2022-10-29T22:25:23.315Z"
   },
   {
    "duration": 141,
    "start_time": "2022-10-29T22:25:23.383Z"
   },
   {
    "duration": 218,
    "start_time": "2022-10-29T22:25:23.528Z"
   },
   {
    "duration": 10,
    "start_time": "2022-10-29T22:25:23.748Z"
   },
   {
    "duration": 13,
    "start_time": "2022-10-29T22:37:51.096Z"
   },
   {
    "duration": 61,
    "start_time": "2022-10-29T22:38:25.405Z"
   },
   {
    "duration": 13,
    "start_time": "2022-10-29T22:38:35.103Z"
   },
   {
    "duration": 9,
    "start_time": "2022-10-29T22:44:22.409Z"
   },
   {
    "duration": 154,
    "start_time": "2022-10-29T22:46:20.461Z"
   },
   {
    "duration": 140,
    "start_time": "2022-10-29T22:48:21.299Z"
   },
   {
    "duration": 129,
    "start_time": "2022-10-29T22:48:33.952Z"
   },
   {
    "duration": 163,
    "start_time": "2022-10-29T22:48:50.832Z"
   },
   {
    "duration": 162,
    "start_time": "2022-10-29T22:49:05.932Z"
   },
   {
    "duration": 179,
    "start_time": "2022-10-29T22:49:18.169Z"
   },
   {
    "duration": 10,
    "start_time": "2022-10-29T22:51:37.449Z"
   },
   {
    "duration": 2322,
    "start_time": "2022-10-31T01:04:53.654Z"
   },
   {
    "duration": 91,
    "start_time": "2022-10-31T01:04:55.978Z"
   },
   {
    "duration": 17,
    "start_time": "2022-10-31T01:04:56.070Z"
   },
   {
    "duration": 7,
    "start_time": "2022-10-31T01:04:56.089Z"
   },
   {
    "duration": 11,
    "start_time": "2022-10-31T01:04:56.097Z"
   },
   {
    "duration": 4,
    "start_time": "2022-10-31T01:04:56.109Z"
   },
   {
    "duration": 10,
    "start_time": "2022-10-31T01:04:56.115Z"
   },
   {
    "duration": 4,
    "start_time": "2022-10-31T01:04:56.127Z"
   },
   {
    "duration": 11,
    "start_time": "2022-10-31T01:04:56.133Z"
   },
   {
    "duration": 15,
    "start_time": "2022-10-31T01:04:56.462Z"
   },
   {
    "duration": 389,
    "start_time": "2022-10-31T01:04:56.756Z"
   },
   {
    "duration": 9,
    "start_time": "2022-10-31T01:04:57.406Z"
   },
   {
    "duration": 4,
    "start_time": "2022-10-31T01:04:57.565Z"
   },
   {
    "duration": 6,
    "start_time": "2022-10-31T01:04:58.702Z"
   },
   {
    "duration": 10,
    "start_time": "2022-10-31T01:04:59.038Z"
   },
   {
    "duration": 26,
    "start_time": "2022-10-31T01:04:59.188Z"
   },
   {
    "duration": 12,
    "start_time": "2022-10-31T01:04:59.666Z"
   },
   {
    "duration": 11,
    "start_time": "2022-10-31T01:05:00.008Z"
   },
   {
    "duration": 58,
    "start_time": "2022-10-31T01:05:00.919Z"
   },
   {
    "duration": 191,
    "start_time": "2022-10-31T01:05:04.034Z"
   },
   {
    "duration": 4621,
    "start_time": "2022-10-31T01:05:06.578Z"
   },
   {
    "duration": 2330,
    "start_time": "2022-10-31T01:05:13.917Z"
   },
   {
    "duration": 6,
    "start_time": "2022-10-31T01:05:20.042Z"
   },
   {
    "duration": 4,
    "start_time": "2022-10-31T01:05:20.606Z"
   },
   {
    "duration": 8,
    "start_time": "2022-10-31T01:05:22.269Z"
   },
   {
    "duration": 5,
    "start_time": "2022-10-31T01:05:23.122Z"
   },
   {
    "duration": 19,
    "start_time": "2022-10-31T01:05:25.349Z"
   },
   {
    "duration": 259,
    "start_time": "2022-10-31T01:05:34.330Z"
   },
   {
    "duration": 5,
    "start_time": "2022-10-31T01:05:43.801Z"
   },
   {
    "duration": 3,
    "start_time": "2022-10-31T01:08:27.851Z"
   },
   {
    "duration": 251,
    "start_time": "2022-10-31T01:08:30.744Z"
   },
   {
    "duration": 4,
    "start_time": "2022-10-31T01:08:33.360Z"
   },
   {
    "duration": 5,
    "start_time": "2022-10-31T01:09:29.726Z"
   },
   {
    "duration": 60,
    "start_time": "2022-10-31T19:51:34.397Z"
   },
   {
    "duration": 1593,
    "start_time": "2022-10-31T19:51:41.980Z"
   },
   {
    "duration": 100,
    "start_time": "2022-10-31T19:51:43.575Z"
   },
   {
    "duration": 18,
    "start_time": "2022-10-31T19:51:43.677Z"
   },
   {
    "duration": 8,
    "start_time": "2022-10-31T19:51:43.697Z"
   },
   {
    "duration": 17,
    "start_time": "2022-10-31T19:51:43.707Z"
   },
   {
    "duration": 14,
    "start_time": "2022-10-31T19:51:43.726Z"
   },
   {
    "duration": 20,
    "start_time": "2022-10-31T19:51:43.742Z"
   },
   {
    "duration": 5,
    "start_time": "2022-10-31T19:51:43.763Z"
   },
   {
    "duration": 15,
    "start_time": "2022-10-31T19:51:43.770Z"
   },
   {
    "duration": 14,
    "start_time": "2022-10-31T19:51:43.788Z"
   },
   {
    "duration": 433,
    "start_time": "2022-10-31T19:51:43.804Z"
   },
   {
    "duration": 17,
    "start_time": "2022-10-31T19:51:44.239Z"
   },
   {
    "duration": 7,
    "start_time": "2022-10-31T19:51:44.258Z"
   },
   {
    "duration": 13,
    "start_time": "2022-10-31T19:51:44.267Z"
   },
   {
    "duration": 13,
    "start_time": "2022-10-31T19:51:44.282Z"
   },
   {
    "duration": 55,
    "start_time": "2022-10-31T19:51:44.297Z"
   },
   {
    "duration": 14,
    "start_time": "2022-10-31T19:51:44.354Z"
   },
   {
    "duration": 13,
    "start_time": "2022-10-31T19:51:44.370Z"
   },
   {
    "duration": 163,
    "start_time": "2022-10-31T19:51:44.385Z"
   },
   {
    "duration": 432,
    "start_time": "2022-10-31T19:51:44.552Z"
   },
   {
    "duration": 5522,
    "start_time": "2022-10-31T19:51:44.985Z"
   },
   {
    "duration": 2716,
    "start_time": "2022-10-31T19:51:50.509Z"
   },
   {
    "duration": 14,
    "start_time": "2022-10-31T19:51:53.227Z"
   },
   {
    "duration": 13,
    "start_time": "2022-10-31T19:51:53.243Z"
   },
   {
    "duration": 22,
    "start_time": "2022-10-31T19:51:53.258Z"
   },
   {
    "duration": 5,
    "start_time": "2022-10-31T19:51:53.282Z"
   },
   {
    "duration": 58,
    "start_time": "2022-10-31T19:51:53.288Z"
   },
   {
    "duration": 415,
    "start_time": "2022-10-31T19:51:53.352Z"
   },
   {
    "duration": 5651,
    "start_time": "2022-10-31T19:51:53.768Z"
   },
   {
    "duration": 4407,
    "start_time": "2022-10-31T19:51:59.421Z"
   },
   {
    "duration": 0,
    "start_time": "2022-10-31T19:52:03.829Z"
   },
   {
    "duration": 0,
    "start_time": "2022-10-31T19:52:03.831Z"
   },
   {
    "duration": 0,
    "start_time": "2022-10-31T19:52:03.832Z"
   },
   {
    "duration": 0,
    "start_time": "2022-10-31T19:52:03.833Z"
   },
   {
    "duration": 0,
    "start_time": "2022-10-31T19:52:03.834Z"
   },
   {
    "duration": 0,
    "start_time": "2022-10-31T19:52:03.835Z"
   },
   {
    "duration": 8,
    "start_time": "2022-10-31T19:52:28.311Z"
   },
   {
    "duration": 10,
    "start_time": "2022-10-31T19:52:49.091Z"
   },
   {
    "duration": 12,
    "start_time": "2022-10-31T19:52:54.008Z"
   },
   {
    "duration": 4,
    "start_time": "2022-10-31T19:53:00.389Z"
   },
   {
    "duration": 75,
    "start_time": "2022-10-31T19:56:34.368Z"
   },
   {
    "duration": 44,
    "start_time": "2022-10-31T19:56:45.102Z"
   },
   {
    "duration": 129,
    "start_time": "2022-10-31T19:56:56.931Z"
   },
   {
    "duration": 3,
    "start_time": "2022-10-31T20:01:57.008Z"
   },
   {
    "duration": 2643,
    "start_time": "2022-10-31T20:02:16.178Z"
   },
   {
    "duration": 4,
    "start_time": "2022-10-31T20:03:40.512Z"
   },
   {
    "duration": 8,
    "start_time": "2022-10-31T20:03:54.026Z"
   },
   {
    "duration": 3,
    "start_time": "2022-10-31T20:04:15.477Z"
   },
   {
    "duration": 2,
    "start_time": "2022-10-31T20:04:16.235Z"
   },
   {
    "duration": 13,
    "start_time": "2022-10-31T20:04:17.562Z"
   },
   {
    "duration": 10,
    "start_time": "2022-10-31T20:04:26.065Z"
   },
   {
    "duration": 32,
    "start_time": "2022-10-31T20:04:43.049Z"
   },
   {
    "duration": 14,
    "start_time": "2022-10-31T20:06:15.536Z"
   },
   {
    "duration": 5,
    "start_time": "2022-10-31T20:07:12.884Z"
   },
   {
    "duration": 11,
    "start_time": "2022-10-31T20:07:36.101Z"
   },
   {
    "duration": 5,
    "start_time": "2022-10-31T20:07:42.384Z"
   },
   {
    "duration": 3,
    "start_time": "2022-10-31T20:07:42.833Z"
   },
   {
    "duration": 4,
    "start_time": "2022-10-31T20:07:43.299Z"
   },
   {
    "duration": 23,
    "start_time": "2022-10-31T20:07:43.795Z"
   },
   {
    "duration": 25,
    "start_time": "2022-10-31T20:27:11.583Z"
   },
   {
    "duration": 47,
    "start_time": "2022-10-31T20:31:13.950Z"
   },
   {
    "duration": 23,
    "start_time": "2022-10-31T20:43:47.859Z"
   },
   {
    "duration": 1362,
    "start_time": "2022-10-31T20:44:00.759Z"
   },
   {
    "duration": 47,
    "start_time": "2022-10-31T20:44:02.123Z"
   },
   {
    "duration": 16,
    "start_time": "2022-10-31T20:44:02.172Z"
   },
   {
    "duration": 8,
    "start_time": "2022-10-31T20:44:02.191Z"
   },
   {
    "duration": 17,
    "start_time": "2022-10-31T20:44:02.201Z"
   },
   {
    "duration": 18,
    "start_time": "2022-10-31T20:44:02.220Z"
   },
   {
    "duration": 21,
    "start_time": "2022-10-31T20:44:02.240Z"
   },
   {
    "duration": 12,
    "start_time": "2022-10-31T20:44:02.263Z"
   },
   {
    "duration": 31,
    "start_time": "2022-10-31T20:44:02.277Z"
   },
   {
    "duration": 30,
    "start_time": "2022-10-31T20:44:02.311Z"
   },
   {
    "duration": 395,
    "start_time": "2022-10-31T20:44:02.343Z"
   },
   {
    "duration": 11,
    "start_time": "2022-10-31T20:44:02.740Z"
   },
   {
    "duration": 29,
    "start_time": "2022-10-31T20:44:02.753Z"
   },
   {
    "duration": 9,
    "start_time": "2022-10-31T20:44:02.784Z"
   },
   {
    "duration": 25,
    "start_time": "2022-10-31T20:44:02.794Z"
   },
   {
    "duration": 59,
    "start_time": "2022-10-31T20:44:02.820Z"
   },
   {
    "duration": 13,
    "start_time": "2022-10-31T20:44:02.881Z"
   },
   {
    "duration": 35,
    "start_time": "2022-10-31T20:44:02.895Z"
   },
   {
    "duration": 113,
    "start_time": "2022-10-31T20:44:02.931Z"
   },
   {
    "duration": 417,
    "start_time": "2022-10-31T20:44:03.046Z"
   },
   {
    "duration": 2,
    "start_time": "2022-10-31T20:44:03.465Z"
   },
   {
    "duration": 129,
    "start_time": "2022-10-31T20:44:03.469Z"
   },
   {
    "duration": 0,
    "start_time": "2022-10-31T20:44:03.600Z"
   },
   {
    "duration": 0,
    "start_time": "2022-10-31T20:44:03.601Z"
   },
   {
    "duration": 0,
    "start_time": "2022-10-31T20:44:03.602Z"
   },
   {
    "duration": 0,
    "start_time": "2022-10-31T20:44:03.603Z"
   },
   {
    "duration": 0,
    "start_time": "2022-10-31T20:44:03.604Z"
   },
   {
    "duration": 0,
    "start_time": "2022-10-31T20:44:03.605Z"
   },
   {
    "duration": 0,
    "start_time": "2022-10-31T20:44:03.606Z"
   },
   {
    "duration": 0,
    "start_time": "2022-10-31T20:44:03.607Z"
   },
   {
    "duration": 0,
    "start_time": "2022-10-31T20:44:03.608Z"
   },
   {
    "duration": 0,
    "start_time": "2022-10-31T20:44:03.609Z"
   },
   {
    "duration": 0,
    "start_time": "2022-10-31T20:44:03.610Z"
   },
   {
    "duration": 0,
    "start_time": "2022-10-31T20:44:03.611Z"
   },
   {
    "duration": 0,
    "start_time": "2022-10-31T20:44:03.611Z"
   },
   {
    "duration": 0,
    "start_time": "2022-10-31T20:44:03.612Z"
   },
   {
    "duration": 0,
    "start_time": "2022-10-31T20:44:03.613Z"
   },
   {
    "duration": 0,
    "start_time": "2022-10-31T20:44:03.614Z"
   },
   {
    "duration": 26,
    "start_time": "2022-10-31T20:44:35.517Z"
   },
   {
    "duration": 20,
    "start_time": "2022-10-31T20:44:59.038Z"
   },
   {
    "duration": 7568,
    "start_time": "2022-10-31T20:50:33.205Z"
   },
   {
    "duration": 83254,
    "start_time": "2022-10-31T20:50:58.159Z"
   },
   {
    "duration": 271177,
    "start_time": "2022-10-31T20:52:28.536Z"
   },
   {
    "duration": 128351,
    "start_time": "2022-10-31T21:06:11.301Z"
   },
   {
    "duration": 3230,
    "start_time": "2022-10-31T21:11:17.285Z"
   },
   {
    "duration": 22,
    "start_time": "2022-10-31T21:13:45.251Z"
   },
   {
    "duration": 1480,
    "start_time": "2022-11-01T19:29:15.646Z"
   },
   {
    "duration": 90,
    "start_time": "2022-11-01T19:29:17.129Z"
   },
   {
    "duration": 16,
    "start_time": "2022-11-01T19:29:17.221Z"
   },
   {
    "duration": 8,
    "start_time": "2022-11-01T19:29:17.239Z"
   },
   {
    "duration": 12,
    "start_time": "2022-11-01T19:29:17.248Z"
   },
   {
    "duration": 4,
    "start_time": "2022-11-01T19:29:17.262Z"
   },
   {
    "duration": 8,
    "start_time": "2022-11-01T19:29:17.268Z"
   },
   {
    "duration": 34,
    "start_time": "2022-11-01T19:29:17.277Z"
   },
   {
    "duration": 15,
    "start_time": "2022-11-01T19:29:17.313Z"
   },
   {
    "duration": 17,
    "start_time": "2022-11-01T19:29:17.331Z"
   },
   {
    "duration": 382,
    "start_time": "2022-11-01T19:29:17.350Z"
   },
   {
    "duration": 9,
    "start_time": "2022-11-01T19:29:17.734Z"
   },
   {
    "duration": 4,
    "start_time": "2022-11-01T19:29:17.745Z"
   },
   {
    "duration": 13,
    "start_time": "2022-11-01T19:29:17.750Z"
   },
   {
    "duration": 14,
    "start_time": "2022-11-01T19:29:17.764Z"
   },
   {
    "duration": 44,
    "start_time": "2022-11-01T19:29:17.779Z"
   },
   {
    "duration": 10,
    "start_time": "2022-11-01T19:29:17.825Z"
   },
   {
    "duration": 16,
    "start_time": "2022-11-01T19:29:17.837Z"
   },
   {
    "duration": 158,
    "start_time": "2022-11-01T19:29:17.855Z"
   },
   {
    "duration": 436,
    "start_time": "2022-11-01T19:29:18.015Z"
   },
   {
    "duration": 3,
    "start_time": "2022-11-01T19:29:18.453Z"
   },
   {
    "duration": 157,
    "start_time": "2022-11-01T19:29:18.457Z"
   },
   {
    "duration": 0,
    "start_time": "2022-11-01T19:29:18.617Z"
   },
   {
    "duration": 0,
    "start_time": "2022-11-01T19:29:18.618Z"
   },
   {
    "duration": 0,
    "start_time": "2022-11-01T19:29:18.619Z"
   },
   {
    "duration": 0,
    "start_time": "2022-11-01T19:29:18.620Z"
   },
   {
    "duration": 0,
    "start_time": "2022-11-01T19:29:18.621Z"
   },
   {
    "duration": 0,
    "start_time": "2022-11-01T19:29:18.623Z"
   },
   {
    "duration": 0,
    "start_time": "2022-11-01T19:29:18.624Z"
   },
   {
    "duration": 0,
    "start_time": "2022-11-01T19:29:18.626Z"
   },
   {
    "duration": 0,
    "start_time": "2022-11-01T19:29:18.627Z"
   },
   {
    "duration": 0,
    "start_time": "2022-11-01T19:29:18.628Z"
   },
   {
    "duration": 0,
    "start_time": "2022-11-01T19:29:18.629Z"
   },
   {
    "duration": 0,
    "start_time": "2022-11-01T19:29:18.630Z"
   },
   {
    "duration": 0,
    "start_time": "2022-11-01T19:29:18.632Z"
   },
   {
    "duration": 0,
    "start_time": "2022-11-01T19:29:18.633Z"
   },
   {
    "duration": 0,
    "start_time": "2022-11-01T19:29:18.634Z"
   },
   {
    "duration": 0,
    "start_time": "2022-11-01T19:29:18.635Z"
   },
   {
    "duration": 1330,
    "start_time": "2022-11-01T19:29:53.767Z"
   },
   {
    "duration": 60,
    "start_time": "2022-11-01T19:29:55.100Z"
   },
   {
    "duration": 16,
    "start_time": "2022-11-01T19:29:55.161Z"
   },
   {
    "duration": 9,
    "start_time": "2022-11-01T19:29:55.179Z"
   },
   {
    "duration": 21,
    "start_time": "2022-11-01T19:29:55.190Z"
   },
   {
    "duration": 19,
    "start_time": "2022-11-01T19:29:55.212Z"
   },
   {
    "duration": 13,
    "start_time": "2022-11-01T19:29:55.233Z"
   },
   {
    "duration": 8,
    "start_time": "2022-11-01T19:29:55.247Z"
   },
   {
    "duration": 18,
    "start_time": "2022-11-01T19:29:55.256Z"
   },
   {
    "duration": 13,
    "start_time": "2022-11-01T19:29:55.277Z"
   },
   {
    "duration": 370,
    "start_time": "2022-11-01T19:29:55.292Z"
   },
   {
    "duration": 9,
    "start_time": "2022-11-01T19:29:55.664Z"
   },
   {
    "duration": 30,
    "start_time": "2022-11-01T19:29:55.674Z"
   },
   {
    "duration": 28,
    "start_time": "2022-11-01T19:29:55.706Z"
   },
   {
    "duration": 40,
    "start_time": "2022-11-01T19:29:55.735Z"
   },
   {
    "duration": 41,
    "start_time": "2022-11-01T19:29:55.777Z"
   },
   {
    "duration": 10,
    "start_time": "2022-11-01T19:29:55.820Z"
   },
   {
    "duration": 38,
    "start_time": "2022-11-01T19:29:55.831Z"
   },
   {
    "duration": 45,
    "start_time": "2022-11-01T19:29:55.870Z"
   },
   {
    "duration": 438,
    "start_time": "2022-11-01T19:29:55.916Z"
   },
   {
    "duration": 2,
    "start_time": "2022-11-01T19:29:56.356Z"
   },
   {
    "duration": 21,
    "start_time": "2022-11-01T19:29:56.360Z"
   },
   {
    "duration": 3606,
    "start_time": "2022-11-01T19:29:56.383Z"
   },
   {
    "duration": 2790,
    "start_time": "2022-11-01T19:29:59.991Z"
   },
   {
    "duration": 7,
    "start_time": "2022-11-01T19:30:02.785Z"
   },
   {
    "duration": 43,
    "start_time": "2022-11-01T19:30:02.794Z"
   },
   {
    "duration": 47,
    "start_time": "2022-11-01T19:30:02.839Z"
   },
   {
    "duration": 36,
    "start_time": "2022-11-01T19:30:02.889Z"
   },
   {
    "duration": 55,
    "start_time": "2022-11-01T19:30:02.926Z"
   },
   {
    "duration": 444,
    "start_time": "2022-11-01T19:30:02.983Z"
   },
   {
    "duration": 5545,
    "start_time": "2022-11-01T19:30:03.429Z"
   },
   {
    "duration": 7033,
    "start_time": "2022-11-01T19:30:08.976Z"
   },
   {
    "duration": 212,
    "start_time": "2022-11-01T19:30:16.010Z"
   },
   {
    "duration": 11,
    "start_time": "2022-11-01T19:30:16.224Z"
   },
   {
    "duration": 60,
    "start_time": "2022-11-01T19:30:16.236Z"
   },
   {
    "duration": 13,
    "start_time": "2022-11-01T19:30:16.309Z"
   },
   {
    "duration": 359,
    "start_time": "2022-11-01T19:30:16.323Z"
   },
   {
    "duration": 9,
    "start_time": "2022-11-01T19:30:16.684Z"
   },
   {
    "duration": 131,
    "start_time": "2022-11-01T19:31:06.657Z"
   },
   {
    "duration": 3,
    "start_time": "2022-11-01T19:32:18.588Z"
   },
   {
    "duration": 4928,
    "start_time": "2022-11-01T19:39:35.924Z"
   },
   {
    "duration": 1431,
    "start_time": "2022-11-01T19:39:49.471Z"
   },
   {
    "duration": 2885,
    "start_time": "2022-11-01T19:39:58.369Z"
   },
   {
    "duration": 2855,
    "start_time": "2022-11-01T19:40:52.149Z"
   },
   {
    "duration": 52,
    "start_time": "2022-11-01T19:43:17.653Z"
   },
   {
    "duration": 1269,
    "start_time": "2022-11-01T19:43:50.336Z"
   },
   {
    "duration": 51,
    "start_time": "2022-11-01T19:43:51.607Z"
   },
   {
    "duration": 19,
    "start_time": "2022-11-01T19:43:51.660Z"
   },
   {
    "duration": 10,
    "start_time": "2022-11-01T19:43:51.681Z"
   },
   {
    "duration": 11,
    "start_time": "2022-11-01T19:43:51.692Z"
   },
   {
    "duration": 6,
    "start_time": "2022-11-01T19:43:51.705Z"
   },
   {
    "duration": 8,
    "start_time": "2022-11-01T19:43:51.712Z"
   },
   {
    "duration": 5,
    "start_time": "2022-11-01T19:43:51.721Z"
   },
   {
    "duration": 13,
    "start_time": "2022-11-01T19:43:51.727Z"
   },
   {
    "duration": 14,
    "start_time": "2022-11-01T19:43:51.743Z"
   },
   {
    "duration": 412,
    "start_time": "2022-11-01T19:43:51.758Z"
   },
   {
    "duration": 9,
    "start_time": "2022-11-01T19:43:52.172Z"
   },
   {
    "duration": 8,
    "start_time": "2022-11-01T19:43:52.182Z"
   },
   {
    "duration": 19,
    "start_time": "2022-11-01T19:43:52.191Z"
   },
   {
    "duration": 11,
    "start_time": "2022-11-01T19:43:52.211Z"
   },
   {
    "duration": 29,
    "start_time": "2022-11-01T19:43:52.223Z"
   },
   {
    "duration": 12,
    "start_time": "2022-11-01T19:43:52.253Z"
   },
   {
    "duration": 44,
    "start_time": "2022-11-01T19:43:52.266Z"
   },
   {
    "duration": 1000,
    "start_time": "2022-11-01T19:43:52.312Z"
   },
   {
    "duration": 346,
    "start_time": "2022-11-01T19:43:53.314Z"
   },
   {
    "duration": 2,
    "start_time": "2022-11-01T19:43:53.661Z"
   },
   {
    "duration": 5,
    "start_time": "2022-11-01T19:43:53.665Z"
   },
   {
    "duration": 3048,
    "start_time": "2022-11-01T19:43:53.671Z"
   },
   {
    "duration": 2809,
    "start_time": "2022-11-01T19:43:56.720Z"
   },
   {
    "duration": 6,
    "start_time": "2022-11-01T19:43:59.530Z"
   },
   {
    "duration": 36,
    "start_time": "2022-11-01T19:43:59.538Z"
   },
   {
    "duration": 19,
    "start_time": "2022-11-01T19:43:59.575Z"
   },
   {
    "duration": 16,
    "start_time": "2022-11-01T19:43:59.597Z"
   },
   {
    "duration": 48,
    "start_time": "2022-11-01T19:43:59.615Z"
   },
   {
    "duration": 473,
    "start_time": "2022-11-01T19:43:59.665Z"
   },
   {
    "duration": 5545,
    "start_time": "2022-11-01T19:44:00.140Z"
   },
   {
    "duration": 6963,
    "start_time": "2022-11-01T19:44:05.686Z"
   },
   {
    "duration": 364,
    "start_time": "2022-11-01T19:44:12.652Z"
   },
   {
    "duration": 14,
    "start_time": "2022-11-01T19:44:13.018Z"
   },
   {
    "duration": 80,
    "start_time": "2022-11-01T19:44:13.034Z"
   },
   {
    "duration": 94,
    "start_time": "2022-11-01T19:44:13.117Z"
   },
   {
    "duration": 291,
    "start_time": "2022-11-01T19:44:13.213Z"
   },
   {
    "duration": 10,
    "start_time": "2022-11-01T19:44:13.506Z"
   },
   {
    "duration": 6082,
    "start_time": "2022-11-01T19:45:01.840Z"
   },
   {
    "duration": 7193,
    "start_time": "2022-11-01T19:45:28.154Z"
   },
   {
    "duration": 131797,
    "start_time": "2022-11-01T19:46:43.795Z"
   },
   {
    "duration": 132466,
    "start_time": "2022-11-01T19:51:48.488Z"
   },
   {
    "duration": 2822,
    "start_time": "2022-11-01T20:03:55.810Z"
   },
   {
    "duration": 2748,
    "start_time": "2022-11-01T20:04:19.907Z"
   },
   {
    "duration": 2749,
    "start_time": "2022-11-01T20:04:53.842Z"
   },
   {
    "duration": 1467,
    "start_time": "2022-11-01T20:05:02.325Z"
   },
   {
    "duration": 54,
    "start_time": "2022-11-01T20:05:03.794Z"
   },
   {
    "duration": 16,
    "start_time": "2022-11-01T20:05:03.849Z"
   },
   {
    "duration": 8,
    "start_time": "2022-11-01T20:05:03.867Z"
   },
   {
    "duration": 13,
    "start_time": "2022-11-01T20:05:03.877Z"
   },
   {
    "duration": 19,
    "start_time": "2022-11-01T20:05:03.892Z"
   },
   {
    "duration": 7,
    "start_time": "2022-11-01T20:05:03.913Z"
   },
   {
    "duration": 4,
    "start_time": "2022-11-01T20:05:03.922Z"
   },
   {
    "duration": 15,
    "start_time": "2022-11-01T20:05:03.927Z"
   },
   {
    "duration": 13,
    "start_time": "2022-11-01T20:05:03.944Z"
   },
   {
    "duration": 429,
    "start_time": "2022-11-01T20:05:03.959Z"
   },
   {
    "duration": 10,
    "start_time": "2022-11-01T20:05:04.389Z"
   },
   {
    "duration": 12,
    "start_time": "2022-11-01T20:05:04.400Z"
   },
   {
    "duration": 8,
    "start_time": "2022-11-01T20:05:04.413Z"
   },
   {
    "duration": 11,
    "start_time": "2022-11-01T20:05:04.422Z"
   },
   {
    "duration": 27,
    "start_time": "2022-11-01T20:05:04.435Z"
   },
   {
    "duration": 11,
    "start_time": "2022-11-01T20:05:04.463Z"
   },
   {
    "duration": 40,
    "start_time": "2022-11-01T20:05:04.476Z"
   },
   {
    "duration": 93,
    "start_time": "2022-11-01T20:05:04.517Z"
   },
   {
    "duration": 353,
    "start_time": "2022-11-01T20:05:04.612Z"
   },
   {
    "duration": 3,
    "start_time": "2022-11-01T20:05:04.967Z"
   },
   {
    "duration": 5,
    "start_time": "2022-11-01T20:05:04.971Z"
   },
   {
    "duration": 2865,
    "start_time": "2022-11-01T20:05:04.978Z"
   },
   {
    "duration": 2740,
    "start_time": "2022-11-01T20:05:07.845Z"
   },
   {
    "duration": 7,
    "start_time": "2022-11-01T20:05:10.587Z"
   },
   {
    "duration": 19,
    "start_time": "2022-11-01T20:05:10.595Z"
   },
   {
    "duration": 13,
    "start_time": "2022-11-01T20:05:10.616Z"
   },
   {
    "duration": 11,
    "start_time": "2022-11-01T20:05:10.633Z"
   },
   {
    "duration": 67,
    "start_time": "2022-11-01T20:05:10.646Z"
   },
   {
    "duration": 474,
    "start_time": "2022-11-01T20:05:10.715Z"
   },
   {
    "duration": 5809,
    "start_time": "2022-11-01T20:05:11.190Z"
   },
   {
    "duration": 7554,
    "start_time": "2022-11-01T20:05:17.001Z"
   },
   {
    "duration": 131790,
    "start_time": "2022-11-01T20:05:24.557Z"
   },
   {
    "duration": 217,
    "start_time": "2022-11-01T20:07:36.348Z"
   },
   {
    "duration": 11,
    "start_time": "2022-11-01T20:07:36.566Z"
   },
   {
    "duration": 71,
    "start_time": "2022-11-01T20:07:36.578Z"
   },
   {
    "duration": 275,
    "start_time": "2022-11-01T20:07:36.715Z"
   },
   {
    "duration": 18,
    "start_time": "2022-11-01T20:07:36.991Z"
   },
   {
    "duration": 15,
    "start_time": "2022-11-01T20:07:37.012Z"
   },
   {
    "duration": 39,
    "start_time": "2022-11-01T20:08:36.223Z"
   },
   {
    "duration": 124,
    "start_time": "2022-11-01T20:10:43.566Z"
   },
   {
    "duration": 44,
    "start_time": "2022-11-01T20:10:55.491Z"
   },
   {
    "duration": 1518,
    "start_time": "2022-11-02T00:40:28.470Z"
   },
   {
    "duration": 90,
    "start_time": "2022-11-02T00:40:29.991Z"
   },
   {
    "duration": 15,
    "start_time": "2022-11-02T00:40:30.082Z"
   },
   {
    "duration": 15,
    "start_time": "2022-11-02T00:40:30.099Z"
   },
   {
    "duration": 18,
    "start_time": "2022-11-02T00:40:30.116Z"
   },
   {
    "duration": 5,
    "start_time": "2022-11-02T00:40:30.220Z"
   },
   {
    "duration": 9,
    "start_time": "2022-11-02T00:40:31.949Z"
   },
   {
    "duration": 4,
    "start_time": "2022-11-02T00:40:32.107Z"
   },
   {
    "duration": 11,
    "start_time": "2022-11-02T00:40:32.741Z"
   },
   {
    "duration": 13,
    "start_time": "2022-11-02T00:40:33.295Z"
   },
   {
    "duration": 373,
    "start_time": "2022-11-02T00:40:33.829Z"
   },
   {
    "duration": 12,
    "start_time": "2022-11-02T00:40:34.928Z"
   },
   {
    "duration": 6,
    "start_time": "2022-11-02T00:40:35.157Z"
   },
   {
    "duration": 7,
    "start_time": "2022-11-02T00:40:35.532Z"
   },
   {
    "duration": 9,
    "start_time": "2022-11-02T00:40:39.390Z"
   },
   {
    "duration": 26,
    "start_time": "2022-11-02T00:40:40.251Z"
   },
   {
    "duration": 11,
    "start_time": "2022-11-02T00:40:42.204Z"
   },
   {
    "duration": 12,
    "start_time": "2022-11-02T00:40:42.417Z"
   },
   {
    "duration": 47,
    "start_time": "2022-11-02T00:40:44.536Z"
   },
   {
    "duration": 3,
    "start_time": "2022-11-02T00:40:51.400Z"
   },
   {
    "duration": 199,
    "start_time": "2022-11-02T00:40:53.068Z"
   },
   {
    "duration": 220,
    "start_time": "2022-11-02T00:41:40.233Z"
   },
   {
    "duration": 209,
    "start_time": "2022-11-02T00:51:52.684Z"
   },
   {
    "duration": 341,
    "start_time": "2022-11-02T00:53:03.094Z"
   },
   {
    "duration": 226,
    "start_time": "2022-11-02T00:53:10.350Z"
   },
   {
    "duration": 52,
    "start_time": "2022-11-02T00:54:01.894Z"
   },
   {
    "duration": 221,
    "start_time": "2022-11-02T00:54:09.146Z"
   },
   {
    "duration": 2492,
    "start_time": "2022-11-02T16:02:49.103Z"
   },
   {
    "duration": 119,
    "start_time": "2022-11-02T16:02:51.598Z"
   },
   {
    "duration": 18,
    "start_time": "2022-11-02T16:02:52.914Z"
   },
   {
    "duration": 14,
    "start_time": "2022-11-02T16:02:53.304Z"
   },
   {
    "duration": 13,
    "start_time": "2022-11-02T16:02:53.844Z"
   },
   {
    "duration": 6,
    "start_time": "2022-11-02T16:02:54.756Z"
   },
   {
    "duration": 9,
    "start_time": "2022-11-02T16:02:55.796Z"
   },
   {
    "duration": 5,
    "start_time": "2022-11-02T16:02:55.986Z"
   },
   {
    "duration": 13,
    "start_time": "2022-11-02T16:02:56.525Z"
   },
   {
    "duration": 17,
    "start_time": "2022-11-02T16:02:57.329Z"
   },
   {
    "duration": 428,
    "start_time": "2022-11-02T16:02:57.904Z"
   },
   {
    "duration": 10,
    "start_time": "2022-11-02T16:02:58.836Z"
   },
   {
    "duration": 5,
    "start_time": "2022-11-02T16:02:59.052Z"
   },
   {
    "duration": 8,
    "start_time": "2022-11-02T16:02:59.215Z"
   },
   {
    "duration": 12,
    "start_time": "2022-11-02T16:02:59.586Z"
   },
   {
    "duration": 30,
    "start_time": "2022-11-02T16:02:59.766Z"
   },
   {
    "duration": 15,
    "start_time": "2022-11-02T16:02:59.954Z"
   },
   {
    "duration": 12,
    "start_time": "2022-11-02T16:03:00.152Z"
   },
   {
    "duration": 106,
    "start_time": "2022-11-02T16:03:01.153Z"
   },
   {
    "duration": 242,
    "start_time": "2022-11-02T16:03:02.285Z"
   },
   {
    "duration": 3,
    "start_time": "2022-11-02T16:03:03.247Z"
   },
   {
    "duration": 3,
    "start_time": "2022-11-02T16:03:05.207Z"
   },
   {
    "duration": 251,
    "start_time": "2022-11-02T16:03:07.653Z"
   },
   {
    "duration": 3062,
    "start_time": "2022-11-02T16:03:26.070Z"
   },
   {
    "duration": 2918,
    "start_time": "2022-11-02T16:03:30.976Z"
   },
   {
    "duration": 8,
    "start_time": "2022-11-02T16:03:43.709Z"
   },
   {
    "duration": 4,
    "start_time": "2022-11-02T16:03:50.176Z"
   },
   {
    "duration": 9,
    "start_time": "2022-11-02T16:03:51.198Z"
   },
   {
    "duration": 6,
    "start_time": "2022-11-02T16:03:52.104Z"
   },
   {
    "duration": 21,
    "start_time": "2022-11-02T16:03:54.400Z"
   },
   {
    "duration": 309,
    "start_time": "2022-11-02T16:03:56.905Z"
   },
   {
    "duration": 5697,
    "start_time": "2022-11-02T16:03:59.047Z"
   },
   {
    "duration": 7372,
    "start_time": "2022-11-02T16:04:06.791Z"
   },
   {
    "duration": 137801,
    "start_time": "2022-11-02T16:04:21.584Z"
   },
   {
    "duration": 127,
    "start_time": "2022-11-02T16:06:52.864Z"
   },
   {
    "duration": 13,
    "start_time": "2022-11-02T16:06:56.945Z"
   },
   {
    "duration": 4,
    "start_time": "2022-11-02T16:07:12.636Z"
   },
   {
    "duration": 48,
    "start_time": "2022-11-02T16:13:49.670Z"
   },
   {
    "duration": 4,
    "start_time": "2022-11-02T16:14:34.130Z"
   },
   {
    "duration": 139982,
    "start_time": "2022-11-02T16:17:30.166Z"
   },
   {
    "duration": 6,
    "start_time": "2022-11-02T16:24:52.386Z"
   },
   {
    "duration": 14,
    "start_time": "2022-11-02T16:25:44.874Z"
   },
   {
    "duration": 4,
    "start_time": "2022-11-02T16:25:56.753Z"
   },
   {
    "duration": 58,
    "start_time": "2022-11-02T20:37:22.323Z"
   },
   {
    "duration": 1453,
    "start_time": "2022-11-02T20:37:28.529Z"
   },
   {
    "duration": 88,
    "start_time": "2022-11-02T20:37:29.984Z"
   },
   {
    "duration": 28,
    "start_time": "2022-11-02T20:37:30.073Z"
   },
   {
    "duration": 14,
    "start_time": "2022-11-02T20:37:30.103Z"
   },
   {
    "duration": 54,
    "start_time": "2022-11-02T20:37:30.119Z"
   },
   {
    "duration": 33,
    "start_time": "2022-11-02T20:37:30.174Z"
   },
   {
    "duration": 53,
    "start_time": "2022-11-02T20:37:30.209Z"
   },
   {
    "duration": 28,
    "start_time": "2022-11-02T20:37:30.264Z"
   },
   {
    "duration": 34,
    "start_time": "2022-11-02T20:37:30.294Z"
   },
   {
    "duration": 28,
    "start_time": "2022-11-02T20:37:30.331Z"
   },
   {
    "duration": 393,
    "start_time": "2022-11-02T20:37:30.361Z"
   },
   {
    "duration": 9,
    "start_time": "2022-11-02T20:37:30.755Z"
   },
   {
    "duration": 36,
    "start_time": "2022-11-02T20:37:30.766Z"
   },
   {
    "duration": 22,
    "start_time": "2022-11-02T20:37:30.803Z"
   },
   {
    "duration": 48,
    "start_time": "2022-11-02T20:37:30.826Z"
   },
   {
    "duration": 128,
    "start_time": "2022-11-02T20:37:30.876Z"
   },
   {
    "duration": 11,
    "start_time": "2022-11-02T20:37:31.005Z"
   },
   {
    "duration": 34,
    "start_time": "2022-11-02T20:37:31.018Z"
   },
   {
    "duration": 603,
    "start_time": "2022-11-02T20:37:31.054Z"
   },
   {
    "duration": 0,
    "start_time": "2022-11-02T20:37:31.659Z"
   },
   {
    "duration": 0,
    "start_time": "2022-11-02T20:37:31.660Z"
   },
   {
    "duration": 0,
    "start_time": "2022-11-02T20:37:31.661Z"
   },
   {
    "duration": 0,
    "start_time": "2022-11-02T20:37:31.662Z"
   },
   {
    "duration": 0,
    "start_time": "2022-11-02T20:37:31.663Z"
   },
   {
    "duration": 0,
    "start_time": "2022-11-02T20:37:31.664Z"
   },
   {
    "duration": 0,
    "start_time": "2022-11-02T20:37:31.676Z"
   },
   {
    "duration": 0,
    "start_time": "2022-11-02T20:37:31.677Z"
   },
   {
    "duration": 0,
    "start_time": "2022-11-02T20:37:31.678Z"
   },
   {
    "duration": 0,
    "start_time": "2022-11-02T20:37:31.683Z"
   },
   {
    "duration": 0,
    "start_time": "2022-11-02T20:37:31.685Z"
   },
   {
    "duration": 0,
    "start_time": "2022-11-02T20:37:31.685Z"
   },
   {
    "duration": 0,
    "start_time": "2022-11-02T20:37:31.686Z"
   },
   {
    "duration": 0,
    "start_time": "2022-11-02T20:37:31.687Z"
   },
   {
    "duration": 0,
    "start_time": "2022-11-02T20:37:31.689Z"
   },
   {
    "duration": 0,
    "start_time": "2022-11-02T20:37:31.691Z"
   },
   {
    "duration": 0,
    "start_time": "2022-11-02T20:37:31.692Z"
   },
   {
    "duration": 0,
    "start_time": "2022-11-02T20:37:31.693Z"
   },
   {
    "duration": 0,
    "start_time": "2022-11-02T20:37:31.694Z"
   },
   {
    "duration": 0,
    "start_time": "2022-11-02T20:37:31.695Z"
   },
   {
    "duration": 0,
    "start_time": "2022-11-02T20:37:31.696Z"
   },
   {
    "duration": 0,
    "start_time": "2022-11-02T20:37:31.697Z"
   },
   {
    "duration": 0,
    "start_time": "2022-11-02T20:37:31.698Z"
   },
   {
    "duration": 0,
    "start_time": "2022-11-02T20:37:31.699Z"
   },
   {
    "duration": 0,
    "start_time": "2022-11-02T20:37:31.700Z"
   },
   {
    "duration": 22,
    "start_time": "2022-11-02T20:44:23.847Z"
   },
   {
    "duration": 165,
    "start_time": "2022-11-02T20:44:47.517Z"
   },
   {
    "duration": 136,
    "start_time": "2022-11-02T20:46:51.154Z"
   },
   {
    "duration": 89,
    "start_time": "2022-11-02T20:47:35.597Z"
   },
   {
    "duration": 1397,
    "start_time": "2022-11-02T20:48:43.493Z"
   },
   {
    "duration": 50,
    "start_time": "2022-11-02T20:48:44.892Z"
   },
   {
    "duration": 15,
    "start_time": "2022-11-02T20:48:44.943Z"
   },
   {
    "duration": 7,
    "start_time": "2022-11-02T20:48:44.960Z"
   },
   {
    "duration": 21,
    "start_time": "2022-11-02T20:48:44.968Z"
   },
   {
    "duration": 6,
    "start_time": "2022-11-02T20:48:44.992Z"
   },
   {
    "duration": 25,
    "start_time": "2022-11-02T20:48:45.000Z"
   },
   {
    "duration": 13,
    "start_time": "2022-11-02T20:48:45.028Z"
   },
   {
    "duration": 19,
    "start_time": "2022-11-02T20:48:45.043Z"
   },
   {
    "duration": 19,
    "start_time": "2022-11-02T20:48:45.064Z"
   },
   {
    "duration": 415,
    "start_time": "2022-11-02T20:48:45.091Z"
   },
   {
    "duration": 9,
    "start_time": "2022-11-02T20:48:45.508Z"
   },
   {
    "duration": 16,
    "start_time": "2022-11-02T20:48:45.518Z"
   },
   {
    "duration": 13,
    "start_time": "2022-11-02T20:48:45.536Z"
   },
   {
    "duration": 17,
    "start_time": "2022-11-02T20:48:45.551Z"
   },
   {
    "duration": 37,
    "start_time": "2022-11-02T20:48:45.570Z"
   },
   {
    "duration": 10,
    "start_time": "2022-11-02T20:48:45.609Z"
   },
   {
    "duration": 18,
    "start_time": "2022-11-02T20:48:45.621Z"
   },
   {
    "duration": 142,
    "start_time": "2022-11-02T20:48:45.640Z"
   },
   {
    "duration": 408,
    "start_time": "2022-11-02T20:48:45.783Z"
   },
   {
    "duration": 3,
    "start_time": "2022-11-02T20:48:46.193Z"
   },
   {
    "duration": 9,
    "start_time": "2022-11-02T20:48:46.197Z"
   },
   {
    "duration": 279,
    "start_time": "2022-11-02T20:48:46.207Z"
   },
   {
    "duration": 2967,
    "start_time": "2022-11-02T20:48:46.492Z"
   },
   {
    "duration": 2657,
    "start_time": "2022-11-02T20:48:49.461Z"
   },
   {
    "duration": 5,
    "start_time": "2022-11-02T20:48:52.120Z"
   },
   {
    "duration": 7,
    "start_time": "2022-11-02T20:48:52.127Z"
   },
   {
    "duration": 14,
    "start_time": "2022-11-02T20:48:52.137Z"
   },
   {
    "duration": 4,
    "start_time": "2022-11-02T20:48:52.153Z"
   },
   {
    "duration": 36,
    "start_time": "2022-11-02T20:48:52.159Z"
   },
   {
    "duration": 454,
    "start_time": "2022-11-02T20:48:52.198Z"
   },
   {
    "duration": 5248,
    "start_time": "2022-11-02T20:48:52.654Z"
   },
   {
    "duration": 6899,
    "start_time": "2022-11-02T20:48:57.903Z"
   },
   {
    "duration": 131139,
    "start_time": "2022-11-02T20:49:04.804Z"
   },
   {
    "duration": 122,
    "start_time": "2022-11-02T20:51:15.944Z"
   },
   {
    "duration": 28,
    "start_time": "2022-11-02T20:51:16.068Z"
   },
   {
    "duration": 5,
    "start_time": "2022-11-02T20:51:16.098Z"
   },
   {
    "duration": 46,
    "start_time": "2022-11-02T20:51:16.104Z"
   },
   {
    "duration": 4,
    "start_time": "2022-11-02T20:51:16.151Z"
   },
   {
    "duration": 135049,
    "start_time": "2022-11-02T20:51:16.156Z"
   },
   {
    "duration": 4,
    "start_time": "2022-11-02T20:53:31.206Z"
   },
   {
    "duration": 79,
    "start_time": "2022-11-02T20:53:31.211Z"
   },
   {
    "duration": 251,
    "start_time": "2022-11-02T20:53:31.292Z"
   },
   {
    "duration": 9,
    "start_time": "2022-11-02T20:53:31.544Z"
   },
   {
    "duration": 14374,
    "start_time": "2022-11-02T21:11:35.059Z"
   },
   {
    "duration": 109570,
    "start_time": "2022-11-02T21:11:50.427Z"
   },
   {
    "duration": 134155,
    "start_time": "2022-11-02T21:18:52.709Z"
   },
   {
    "duration": 133198,
    "start_time": "2022-11-02T21:23:40.299Z"
   },
   {
    "duration": 126696,
    "start_time": "2022-11-02T21:31:45.055Z"
   },
   {
    "duration": 108,
    "start_time": "2022-11-02T21:50:19.231Z"
   },
   {
    "duration": 1272,
    "start_time": "2022-11-02T21:54:21.614Z"
   },
   {
    "duration": 45,
    "start_time": "2022-11-02T21:54:22.888Z"
   },
   {
    "duration": 16,
    "start_time": "2022-11-02T21:54:22.935Z"
   },
   {
    "duration": 15,
    "start_time": "2022-11-02T21:54:22.953Z"
   },
   {
    "duration": 16,
    "start_time": "2022-11-02T21:54:22.969Z"
   },
   {
    "duration": 7,
    "start_time": "2022-11-02T21:54:22.986Z"
   },
   {
    "duration": 23,
    "start_time": "2022-11-02T21:54:22.996Z"
   },
   {
    "duration": 14,
    "start_time": "2022-11-02T21:54:23.021Z"
   },
   {
    "duration": 13,
    "start_time": "2022-11-02T21:54:23.036Z"
   },
   {
    "duration": 14,
    "start_time": "2022-11-02T21:54:23.052Z"
   },
   {
    "duration": 353,
    "start_time": "2022-11-02T21:54:23.067Z"
   },
   {
    "duration": 8,
    "start_time": "2022-11-02T21:54:23.422Z"
   },
   {
    "duration": 5,
    "start_time": "2022-11-02T21:54:23.431Z"
   },
   {
    "duration": 7,
    "start_time": "2022-11-02T21:54:23.438Z"
   },
   {
    "duration": 30,
    "start_time": "2022-11-02T21:54:23.447Z"
   },
   {
    "duration": 30,
    "start_time": "2022-11-02T21:54:23.478Z"
   },
   {
    "duration": 11,
    "start_time": "2022-11-02T21:54:23.510Z"
   },
   {
    "duration": 13,
    "start_time": "2022-11-02T21:54:23.522Z"
   },
   {
    "duration": 55,
    "start_time": "2022-11-02T21:54:23.536Z"
   },
   {
    "duration": 331,
    "start_time": "2022-11-02T21:54:23.680Z"
   },
   {
    "duration": 3,
    "start_time": "2022-11-02T21:54:24.013Z"
   },
   {
    "duration": 9,
    "start_time": "2022-11-02T21:54:24.017Z"
   },
   {
    "duration": 246,
    "start_time": "2022-11-02T21:54:24.028Z"
   },
   {
    "duration": 2654,
    "start_time": "2022-11-02T21:54:24.277Z"
   },
   {
    "duration": 2498,
    "start_time": "2022-11-02T21:54:26.933Z"
   },
   {
    "duration": 103467,
    "start_time": "2022-11-02T21:54:29.433Z"
   },
   {
    "duration": 6,
    "start_time": "2022-11-02T21:56:12.901Z"
   },
   {
    "duration": 5,
    "start_time": "2022-11-02T21:56:12.910Z"
   },
   {
    "duration": 12,
    "start_time": "2022-11-02T21:56:12.917Z"
   },
   {
    "duration": 6,
    "start_time": "2022-11-02T21:56:12.930Z"
   },
   {
    "duration": 40,
    "start_time": "2022-11-02T21:56:12.938Z"
   },
   {
    "duration": 401,
    "start_time": "2022-11-02T21:56:12.980Z"
   },
   {
    "duration": 4840,
    "start_time": "2022-11-02T21:56:13.383Z"
   },
   {
    "duration": 6172,
    "start_time": "2022-11-02T21:56:18.225Z"
   },
   {
    "duration": 125823,
    "start_time": "2022-11-02T21:56:24.399Z"
   },
   {
    "duration": 122,
    "start_time": "2022-11-02T21:58:30.223Z"
   },
   {
    "duration": 11,
    "start_time": "2022-11-02T21:58:30.347Z"
   },
   {
    "duration": 39,
    "start_time": "2022-11-02T21:58:30.359Z"
   },
   {
    "duration": 52,
    "start_time": "2022-11-02T21:58:30.400Z"
   },
   {
    "duration": 4,
    "start_time": "2022-11-02T21:58:30.454Z"
   },
   {
    "duration": 132482,
    "start_time": "2022-11-02T21:58:30.459Z"
   },
   {
    "duration": 4,
    "start_time": "2022-11-02T22:00:42.943Z"
   },
   {
    "duration": 36,
    "start_time": "2022-11-02T22:00:42.949Z"
   },
   {
    "duration": 302,
    "start_time": "2022-11-02T22:00:42.986Z"
   },
   {
    "duration": 10,
    "start_time": "2022-11-02T22:00:43.289Z"
   },
   {
    "duration": 1448,
    "start_time": "2022-11-03T23:10:46.953Z"
   },
   {
    "duration": 84,
    "start_time": "2022-11-03T23:10:48.403Z"
   },
   {
    "duration": 15,
    "start_time": "2022-11-03T23:10:48.489Z"
   },
   {
    "duration": 8,
    "start_time": "2022-11-03T23:10:48.506Z"
   },
   {
    "duration": 44,
    "start_time": "2022-11-03T23:10:48.516Z"
   },
   {
    "duration": 6,
    "start_time": "2022-11-03T23:10:48.561Z"
   },
   {
    "duration": 14,
    "start_time": "2022-11-03T23:10:48.568Z"
   },
   {
    "duration": 8,
    "start_time": "2022-11-03T23:10:48.583Z"
   },
   {
    "duration": 12,
    "start_time": "2022-11-03T23:10:48.592Z"
   },
   {
    "duration": 13,
    "start_time": "2022-11-03T23:10:48.606Z"
   },
   {
    "duration": 364,
    "start_time": "2022-11-03T23:10:48.621Z"
   },
   {
    "duration": 9,
    "start_time": "2022-11-03T23:10:48.986Z"
   },
   {
    "duration": 9,
    "start_time": "2022-11-03T23:10:48.996Z"
   },
   {
    "duration": 6,
    "start_time": "2022-11-03T23:10:49.006Z"
   },
   {
    "duration": 10,
    "start_time": "2022-11-03T23:10:49.014Z"
   },
   {
    "duration": 26,
    "start_time": "2022-11-03T23:10:49.026Z"
   },
   {
    "duration": 32,
    "start_time": "2022-11-03T23:10:49.053Z"
   },
   {
    "duration": 14,
    "start_time": "2022-11-03T23:10:49.086Z"
   },
   {
    "duration": 180,
    "start_time": "2022-11-03T23:10:49.101Z"
   },
   {
    "duration": 307,
    "start_time": "2022-11-03T23:10:49.283Z"
   },
   {
    "duration": 3,
    "start_time": "2022-11-03T23:10:49.591Z"
   },
   {
    "duration": 8,
    "start_time": "2022-11-03T23:10:49.596Z"
   },
   {
    "duration": 230,
    "start_time": "2022-11-03T23:10:49.606Z"
   },
   {
    "duration": 2799,
    "start_time": "2022-11-03T23:10:49.837Z"
   },
   {
    "duration": 2663,
    "start_time": "2022-11-03T23:10:52.638Z"
   },
   {
    "duration": 104580,
    "start_time": "2022-11-03T23:10:55.303Z"
   },
   {
    "duration": 6,
    "start_time": "2022-11-03T23:12:39.885Z"
   },
   {
    "duration": 4,
    "start_time": "2022-11-03T23:12:39.896Z"
   },
   {
    "duration": 9,
    "start_time": "2022-11-03T23:12:39.902Z"
   },
   {
    "duration": 5,
    "start_time": "2022-11-03T23:12:39.913Z"
   },
   {
    "duration": 62,
    "start_time": "2022-11-03T23:12:39.920Z"
   },
   {
    "duration": 356,
    "start_time": "2022-11-03T23:12:39.983Z"
   },
   {
    "duration": 4995,
    "start_time": "2022-11-03T23:12:40.340Z"
   },
   {
    "duration": 6444,
    "start_time": "2022-11-03T23:12:45.338Z"
   },
   {
    "duration": 128556,
    "start_time": "2022-11-03T23:12:51.784Z"
   },
   {
    "duration": 123,
    "start_time": "2022-11-03T23:15:00.341Z"
   },
   {
    "duration": 16,
    "start_time": "2022-11-03T23:15:00.466Z"
   },
   {
    "duration": 25,
    "start_time": "2022-11-03T23:15:00.484Z"
   },
   {
    "duration": 69,
    "start_time": "2022-11-03T23:15:00.511Z"
   },
   {
    "duration": 4,
    "start_time": "2022-11-03T23:15:00.582Z"
   },
   {
    "duration": 128399,
    "start_time": "2022-11-03T23:15:00.588Z"
   },
   {
    "duration": 5,
    "start_time": "2022-11-03T23:17:08.988Z"
   },
   {
    "duration": 184,
    "start_time": "2022-11-03T23:17:08.994Z"
   },
   {
    "duration": 186,
    "start_time": "2022-11-03T23:17:09.179Z"
   },
   {
    "duration": 14,
    "start_time": "2022-11-03T23:17:09.366Z"
   },
   {
    "duration": 134,
    "start_time": "2022-11-03T23:22:36.138Z"
   },
   {
    "duration": 3,
    "start_time": "2022-11-03T23:24:20.992Z"
   },
   {
    "duration": 12,
    "start_time": "2022-11-03T23:24:33.898Z"
   },
   {
    "duration": 12,
    "start_time": "2022-11-03T23:24:55.867Z"
   },
   {
    "duration": 5,
    "start_time": "2022-11-03T23:26:46.521Z"
   },
   {
    "duration": 3,
    "start_time": "2022-11-03T23:27:02.696Z"
   },
   {
    "duration": 2,
    "start_time": "2022-11-03T23:27:07.481Z"
   },
   {
    "duration": 2,
    "start_time": "2022-11-03T23:27:08.213Z"
   },
   {
    "duration": 2,
    "start_time": "2022-11-03T23:44:35.713Z"
   },
   {
    "duration": 3,
    "start_time": "2022-11-03T23:44:44.555Z"
   },
   {
    "duration": 3,
    "start_time": "2022-11-03T23:44:54.439Z"
   },
   {
    "duration": 2,
    "start_time": "2022-11-03T23:45:00.760Z"
   },
   {
    "duration": 104170,
    "start_time": "2022-11-03T23:52:30.265Z"
   },
   {
    "duration": 1436,
    "start_time": "2022-11-05T21:25:46.428Z"
   },
   {
    "duration": 95,
    "start_time": "2022-11-05T21:25:47.866Z"
   },
   {
    "duration": 15,
    "start_time": "2022-11-05T21:25:47.963Z"
   },
   {
    "duration": 6,
    "start_time": "2022-11-05T21:25:47.980Z"
   },
   {
    "duration": 13,
    "start_time": "2022-11-05T21:25:47.987Z"
   },
   {
    "duration": 5,
    "start_time": "2022-11-05T21:25:48.001Z"
   },
   {
    "duration": 7,
    "start_time": "2022-11-05T21:25:48.007Z"
   },
   {
    "duration": 4,
    "start_time": "2022-11-05T21:25:48.015Z"
   },
   {
    "duration": 11,
    "start_time": "2022-11-05T21:25:48.020Z"
   },
   {
    "duration": 13,
    "start_time": "2022-11-05T21:25:48.034Z"
   },
   {
    "duration": 358,
    "start_time": "2022-11-05T21:25:48.077Z"
   },
   {
    "duration": 9,
    "start_time": "2022-11-05T21:25:48.436Z"
   },
   {
    "duration": 4,
    "start_time": "2022-11-05T21:25:48.447Z"
   },
   {
    "duration": 24,
    "start_time": "2022-11-05T21:25:48.452Z"
   },
   {
    "duration": 8,
    "start_time": "2022-11-05T21:25:48.478Z"
   },
   {
    "duration": 26,
    "start_time": "2022-11-05T21:25:48.488Z"
   },
   {
    "duration": 11,
    "start_time": "2022-11-05T21:25:48.515Z"
   },
   {
    "duration": 11,
    "start_time": "2022-11-05T21:25:48.528Z"
   },
   {
    "duration": 144,
    "start_time": "2022-11-05T21:25:48.541Z"
   },
   {
    "duration": 3,
    "start_time": "2022-11-05T21:25:48.777Z"
   },
   {
    "duration": 96,
    "start_time": "2022-11-05T21:25:48.782Z"
   },
   {
    "duration": 6,
    "start_time": "2022-11-05T21:25:48.880Z"
   },
   {
    "duration": 4,
    "start_time": "2022-11-05T21:25:48.888Z"
   },
   {
    "duration": 234,
    "start_time": "2022-11-05T21:25:48.894Z"
   },
   {
    "duration": 112,
    "start_time": "2022-11-05T21:25:49.129Z"
   },
   {
    "duration": 0,
    "start_time": "2022-11-05T21:25:49.243Z"
   },
   {
    "duration": 0,
    "start_time": "2022-11-05T21:25:49.244Z"
   },
   {
    "duration": 0,
    "start_time": "2022-11-05T21:25:49.245Z"
   },
   {
    "duration": 0,
    "start_time": "2022-11-05T21:25:49.247Z"
   },
   {
    "duration": 0,
    "start_time": "2022-11-05T21:25:49.248Z"
   },
   {
    "duration": 0,
    "start_time": "2022-11-05T21:25:49.249Z"
   },
   {
    "duration": 0,
    "start_time": "2022-11-05T21:25:49.249Z"
   },
   {
    "duration": 0,
    "start_time": "2022-11-05T21:25:49.250Z"
   },
   {
    "duration": 0,
    "start_time": "2022-11-05T21:25:49.251Z"
   },
   {
    "duration": 0,
    "start_time": "2022-11-05T21:25:49.252Z"
   },
   {
    "duration": 0,
    "start_time": "2022-11-05T21:25:49.253Z"
   },
   {
    "duration": 0,
    "start_time": "2022-11-05T21:25:49.254Z"
   },
   {
    "duration": 0,
    "start_time": "2022-11-05T21:25:49.255Z"
   },
   {
    "duration": 0,
    "start_time": "2022-11-05T21:25:49.256Z"
   },
   {
    "duration": 0,
    "start_time": "2022-11-05T21:25:49.276Z"
   },
   {
    "duration": 0,
    "start_time": "2022-11-05T21:25:49.277Z"
   },
   {
    "duration": 0,
    "start_time": "2022-11-05T21:25:49.278Z"
   },
   {
    "duration": 0,
    "start_time": "2022-11-05T21:25:49.279Z"
   },
   {
    "duration": 0,
    "start_time": "2022-11-05T21:25:49.281Z"
   },
   {
    "duration": 0,
    "start_time": "2022-11-05T21:25:49.282Z"
   },
   {
    "duration": 0,
    "start_time": "2022-11-05T21:25:49.283Z"
   },
   {
    "duration": 0,
    "start_time": "2022-11-05T21:25:49.287Z"
   },
   {
    "duration": 0,
    "start_time": "2022-11-05T21:25:49.289Z"
   },
   {
    "duration": 0,
    "start_time": "2022-11-05T21:25:49.290Z"
   },
   {
    "duration": 0,
    "start_time": "2022-11-05T21:25:49.292Z"
   },
   {
    "duration": 0,
    "start_time": "2022-11-05T21:25:49.293Z"
   },
   {
    "duration": 4,
    "start_time": "2022-11-05T21:27:57.243Z"
   },
   {
    "duration": 1203,
    "start_time": "2022-11-05T21:28:16.433Z"
   },
   {
    "duration": 49,
    "start_time": "2022-11-05T21:28:17.641Z"
   },
   {
    "duration": 17,
    "start_time": "2022-11-05T21:28:17.692Z"
   },
   {
    "duration": 10,
    "start_time": "2022-11-05T21:28:17.711Z"
   },
   {
    "duration": 13,
    "start_time": "2022-11-05T21:28:17.722Z"
   },
   {
    "duration": 4,
    "start_time": "2022-11-05T21:28:17.737Z"
   },
   {
    "duration": 7,
    "start_time": "2022-11-05T21:28:17.743Z"
   },
   {
    "duration": 4,
    "start_time": "2022-11-05T21:28:17.751Z"
   },
   {
    "duration": 11,
    "start_time": "2022-11-05T21:28:17.776Z"
   },
   {
    "duration": 20,
    "start_time": "2022-11-05T21:28:17.789Z"
   },
   {
    "duration": 364,
    "start_time": "2022-11-05T21:28:17.810Z"
   },
   {
    "duration": 10,
    "start_time": "2022-11-05T21:28:18.175Z"
   },
   {
    "duration": 6,
    "start_time": "2022-11-05T21:28:18.186Z"
   },
   {
    "duration": 9,
    "start_time": "2022-11-05T21:28:18.194Z"
   },
   {
    "duration": 10,
    "start_time": "2022-11-05T21:28:18.205Z"
   },
   {
    "duration": 26,
    "start_time": "2022-11-05T21:28:18.217Z"
   },
   {
    "duration": 37,
    "start_time": "2022-11-05T21:28:18.244Z"
   },
   {
    "duration": 10,
    "start_time": "2022-11-05T21:28:18.282Z"
   },
   {
    "duration": 183,
    "start_time": "2022-11-05T21:28:18.294Z"
   },
   {
    "duration": 3,
    "start_time": "2022-11-05T21:28:18.480Z"
   },
   {
    "duration": 98,
    "start_time": "2022-11-05T21:28:18.484Z"
   },
   {
    "duration": 8,
    "start_time": "2022-11-05T21:28:18.584Z"
   },
   {
    "duration": 5,
    "start_time": "2022-11-05T21:28:18.593Z"
   },
   {
    "duration": 236,
    "start_time": "2022-11-05T21:28:18.600Z"
   },
   {
    "duration": 5,
    "start_time": "2022-11-05T21:28:18.838Z"
   },
   {
    "duration": 5,
    "start_time": "2022-11-05T21:28:18.845Z"
   },
   {
    "duration": 4,
    "start_time": "2022-11-05T21:28:18.852Z"
   },
   {
    "duration": 3,
    "start_time": "2022-11-05T21:28:18.876Z"
   },
   {
    "duration": 6,
    "start_time": "2022-11-05T21:28:18.881Z"
   },
   {
    "duration": 104765,
    "start_time": "2022-11-05T21:28:18.888Z"
   },
   {
    "duration": 4,
    "start_time": "2022-11-05T21:30:03.654Z"
   },
   {
    "duration": 28,
    "start_time": "2022-11-05T21:30:03.660Z"
   },
   {
    "duration": 19,
    "start_time": "2022-11-05T21:30:03.690Z"
   },
   {
    "duration": 26,
    "start_time": "2022-11-05T21:30:03.711Z"
   },
   {
    "duration": 22,
    "start_time": "2022-11-05T21:30:03.739Z"
   },
   {
    "duration": 45,
    "start_time": "2022-11-05T21:30:03.763Z"
   },
   {
    "duration": 429,
    "start_time": "2022-11-05T21:30:03.809Z"
   },
   {
    "duration": 4966,
    "start_time": "2022-11-05T21:30:04.240Z"
   },
   {
    "duration": 6249,
    "start_time": "2022-11-05T21:30:09.208Z"
   },
   {
    "duration": 126831,
    "start_time": "2022-11-05T21:30:15.459Z"
   },
   {
    "duration": 115,
    "start_time": "2022-11-05T21:32:22.292Z"
   },
   {
    "duration": 12,
    "start_time": "2022-11-05T21:32:22.409Z"
   },
   {
    "duration": 5,
    "start_time": "2022-11-05T21:32:22.422Z"
   },
   {
    "duration": 60,
    "start_time": "2022-11-05T21:32:22.429Z"
   },
   {
    "duration": 4,
    "start_time": "2022-11-05T21:32:22.491Z"
   },
   {
    "duration": 125986,
    "start_time": "2022-11-05T21:32:22.496Z"
   },
   {
    "duration": 4,
    "start_time": "2022-11-05T21:34:28.483Z"
   },
   {
    "duration": 21,
    "start_time": "2022-11-05T21:34:28.489Z"
   },
   {
    "duration": 70,
    "start_time": "2022-11-05T21:34:28.512Z"
   },
   {
    "duration": 277,
    "start_time": "2022-11-05T21:34:28.583Z"
   },
   {
    "duration": 9,
    "start_time": "2022-11-05T21:34:28.862Z"
   },
   {
    "duration": 4,
    "start_time": "2022-11-05T21:34:28.878Z"
   },
   {
    "duration": 1309,
    "start_time": "2022-11-05T22:11:20.841Z"
   },
   {
    "duration": 49,
    "start_time": "2022-11-05T22:11:22.152Z"
   },
   {
    "duration": 15,
    "start_time": "2022-11-05T22:11:22.202Z"
   },
   {
    "duration": 5,
    "start_time": "2022-11-05T22:11:22.219Z"
   },
   {
    "duration": 10,
    "start_time": "2022-11-05T22:11:22.226Z"
   },
   {
    "duration": 4,
    "start_time": "2022-11-05T22:11:22.237Z"
   },
   {
    "duration": 9,
    "start_time": "2022-11-05T22:11:22.242Z"
   },
   {
    "duration": 24,
    "start_time": "2022-11-05T22:11:22.252Z"
   },
   {
    "duration": 12,
    "start_time": "2022-11-05T22:11:22.278Z"
   },
   {
    "duration": 14,
    "start_time": "2022-11-05T22:11:22.292Z"
   },
   {
    "duration": 376,
    "start_time": "2022-11-05T22:11:22.307Z"
   },
   {
    "duration": 9,
    "start_time": "2022-11-05T22:11:22.685Z"
   },
   {
    "duration": 5,
    "start_time": "2022-11-05T22:11:22.696Z"
   },
   {
    "duration": 6,
    "start_time": "2022-11-05T22:11:22.702Z"
   },
   {
    "duration": 16,
    "start_time": "2022-11-05T22:11:22.710Z"
   },
   {
    "duration": 53,
    "start_time": "2022-11-05T22:11:22.727Z"
   },
   {
    "duration": 13,
    "start_time": "2022-11-05T22:11:22.782Z"
   },
   {
    "duration": 12,
    "start_time": "2022-11-05T22:11:22.797Z"
   },
   {
    "duration": 170,
    "start_time": "2022-11-05T22:11:22.810Z"
   },
   {
    "duration": 96,
    "start_time": "2022-11-05T22:11:22.982Z"
   },
   {
    "duration": 10,
    "start_time": "2022-11-05T22:11:23.079Z"
   },
   {
    "duration": 5,
    "start_time": "2022-11-05T22:11:23.090Z"
   },
   {
    "duration": 7,
    "start_time": "2022-11-05T22:11:23.096Z"
   },
   {
    "duration": 221,
    "start_time": "2022-11-05T22:11:23.104Z"
   },
   {
    "duration": 4,
    "start_time": "2022-11-05T22:11:23.327Z"
   },
   {
    "duration": 5,
    "start_time": "2022-11-05T22:11:23.332Z"
   },
   {
    "duration": 5,
    "start_time": "2022-11-05T22:11:23.338Z"
   },
   {
    "duration": 3,
    "start_time": "2022-11-05T22:11:23.346Z"
   },
   {
    "duration": 5,
    "start_time": "2022-11-05T22:11:23.350Z"
   },
   {
    "duration": 102857,
    "start_time": "2022-11-05T22:11:23.356Z"
   },
   {
    "duration": 4,
    "start_time": "2022-11-05T22:13:06.214Z"
   },
   {
    "duration": 8,
    "start_time": "2022-11-05T22:13:06.219Z"
   },
   {
    "duration": 5,
    "start_time": "2022-11-05T22:13:06.228Z"
   },
   {
    "duration": 9,
    "start_time": "2022-11-05T22:13:06.235Z"
   },
   {
    "duration": 4,
    "start_time": "2022-11-05T22:13:06.245Z"
   },
   {
    "duration": 42,
    "start_time": "2022-11-05T22:13:06.250Z"
   },
   {
    "duration": 452,
    "start_time": "2022-11-05T22:13:06.293Z"
   },
   {
    "duration": 3,
    "start_time": "2022-11-05T22:13:06.747Z"
   },
   {
    "duration": 10,
    "start_time": "2022-11-05T22:13:06.751Z"
   },
   {
    "duration": 14,
    "start_time": "2022-11-05T22:13:06.763Z"
   },
   {
    "duration": 125488,
    "start_time": "2022-11-05T22:13:06.779Z"
   },
   {
    "duration": 108,
    "start_time": "2022-11-05T22:15:12.268Z"
   },
   {
    "duration": 10,
    "start_time": "2022-11-05T22:15:12.378Z"
   },
   {
    "duration": 4,
    "start_time": "2022-11-05T22:15:12.390Z"
   },
   {
    "duration": 47,
    "start_time": "2022-11-05T22:15:12.395Z"
   },
   {
    "duration": 4,
    "start_time": "2022-11-05T22:15:12.443Z"
   },
   {
    "duration": 126433,
    "start_time": "2022-11-05T22:15:12.449Z"
   },
   {
    "duration": 5,
    "start_time": "2022-11-05T22:17:18.884Z"
   },
   {
    "duration": 10,
    "start_time": "2022-11-05T22:17:18.890Z"
   },
   {
    "duration": 79,
    "start_time": "2022-11-05T22:17:18.901Z"
   },
   {
    "duration": 282,
    "start_time": "2022-11-05T22:17:18.982Z"
   },
   {
    "duration": 15,
    "start_time": "2022-11-05T22:17:19.266Z"
   },
   {
    "duration": 4,
    "start_time": "2022-11-05T22:25:40.762Z"
   },
   {
    "duration": 238,
    "start_time": "2022-11-05T22:27:51.766Z"
   },
   {
    "duration": 3,
    "start_time": "2022-11-05T22:32:21.177Z"
   },
   {
    "duration": 4,
    "start_time": "2022-11-05T22:32:29.996Z"
   },
   {
    "duration": 99,
    "start_time": "2022-11-05T22:33:07.127Z"
   },
   {
    "duration": 14,
    "start_time": "2022-11-05T22:37:13.832Z"
   },
   {
    "duration": 3,
    "start_time": "2022-11-05T22:37:14.717Z"
   },
   {
    "duration": 13,
    "start_time": "2022-11-05T22:37:20.164Z"
   },
   {
    "duration": 10,
    "start_time": "2022-11-05T22:45:54.001Z"
   }
  ],
  "kernelspec": {
   "display_name": "Python 3 (ipykernel)",
   "language": "python",
   "name": "python3"
  },
  "language_info": {
   "codemirror_mode": {
    "name": "ipython",
    "version": 3
   },
   "file_extension": ".py",
   "mimetype": "text/x-python",
   "name": "python",
   "nbconvert_exporter": "python",
   "pygments_lexer": "ipython3",
   "version": "3.9.12"
  },
  "toc": {
   "base_numbering": 1,
   "nav_menu": {},
   "number_sections": true,
   "sideBar": true,
   "skip_h1_title": true,
   "title_cell": "Содержание",
   "title_sidebar": "Contents",
   "toc_cell": true,
   "toc_position": {},
   "toc_section_display": true,
   "toc_window_display": true
  }
 },
 "nbformat": 4,
 "nbformat_minor": 2
}
