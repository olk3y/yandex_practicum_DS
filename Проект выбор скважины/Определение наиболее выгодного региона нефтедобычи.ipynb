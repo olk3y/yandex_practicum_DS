{
 "cells": [
  {
   "cell_type": "markdown",
   "metadata": {},
   "source": [
    "# Выбор локации для скважины"
   ]
  },
  {
   "cell_type": "markdown",
   "metadata": {},
   "source": [
    "Представим, что мы работаем в добывающей компании «ГлавРосГосНефть». Нужно решить, где бурить новую скважину.\n",
    "\n",
    "Нам предоставлены пробы нефти в трёх регионах: в каждом 10 000 месторождений, где измерили качество нефти и объём её запасов. Построим модель машинного обучения, которая поможет определить регион, где добыча принесёт наибольшую прибыль. Проанализируем возможную прибыль и риски техникой *Bootstrap.*\n",
    "\n",
    "Шаги для выбора локации:\n",
    "\n",
    "- В избранном регионе ищут месторождения, для каждого определяют значения признаков;\n",
    "- Строят модель и оценивают объём запасов;\n",
    "- Выбирают месторождения с самым высокими оценками значений. Количество месторождений зависит от бюджета компании и стоимости разработки одной скважины;\n",
    "- Прибыль равна суммарной прибыли отобранных месторождений."
   ]
  },
  {
   "cell_type": "markdown",
   "metadata": {},
   "source": [
    "## Загрузка и подготовка данных"
   ]
  },
  {
   "cell_type": "code",
   "execution_count": 1,
   "metadata": {},
   "outputs": [],
   "source": [
    "import pandas as pd\n",
    "import numpy as np\n",
    "import matplotlib.pyplot as plt\n",
    "from sklearn.model_selection import train_test_split\n",
    "from sklearn.linear_model import LinearRegression\n",
    "from sklearn.metrics import mean_squared_error\n",
    "import warnings\n",
    "warnings.filterwarnings(\"ignore\")\n",
    "from scipy import stats\n",
    "import seaborn as sns"
   ]
  },
  {
   "cell_type": "code",
   "execution_count": 2,
   "metadata": {},
   "outputs": [],
   "source": [
    "df0 = pd.read_csv('https://code.s3.yandex.net/datasets/geo_data_0.csv')\n",
    "df1 = pd.read_csv('https://code.s3.yandex.net/datasets/geo_data_1.csv')\n",
    "df2 = pd.read_csv('https://code.s3.yandex.net/datasets/geo_data_2.csv')"
   ]
  },
  {
   "cell_type": "code",
   "execution_count": 3,
   "metadata": {},
   "outputs": [
    {
     "data": {
      "text/html": [
       "<div>\n",
       "<style scoped>\n",
       "    .dataframe tbody tr th:only-of-type {\n",
       "        vertical-align: middle;\n",
       "    }\n",
       "\n",
       "    .dataframe tbody tr th {\n",
       "        vertical-align: top;\n",
       "    }\n",
       "\n",
       "    .dataframe thead th {\n",
       "        text-align: right;\n",
       "    }\n",
       "</style>\n",
       "<table border=\"1\" class=\"dataframe\">\n",
       "  <thead>\n",
       "    <tr style=\"text-align: right;\">\n",
       "      <th></th>\n",
       "      <th>id</th>\n",
       "      <th>f0</th>\n",
       "      <th>f1</th>\n",
       "      <th>f2</th>\n",
       "      <th>product</th>\n",
       "    </tr>\n",
       "  </thead>\n",
       "  <tbody>\n",
       "    <tr>\n",
       "      <th>0</th>\n",
       "      <td>txEyH</td>\n",
       "      <td>0.705745</td>\n",
       "      <td>-0.497823</td>\n",
       "      <td>1.221170</td>\n",
       "      <td>105.280062</td>\n",
       "    </tr>\n",
       "    <tr>\n",
       "      <th>1</th>\n",
       "      <td>2acmU</td>\n",
       "      <td>1.334711</td>\n",
       "      <td>-0.340164</td>\n",
       "      <td>4.365080</td>\n",
       "      <td>73.037750</td>\n",
       "    </tr>\n",
       "    <tr>\n",
       "      <th>2</th>\n",
       "      <td>409Wp</td>\n",
       "      <td>1.022732</td>\n",
       "      <td>0.151990</td>\n",
       "      <td>1.419926</td>\n",
       "      <td>85.265647</td>\n",
       "    </tr>\n",
       "    <tr>\n",
       "      <th>3</th>\n",
       "      <td>iJLyR</td>\n",
       "      <td>-0.032172</td>\n",
       "      <td>0.139033</td>\n",
       "      <td>2.978566</td>\n",
       "      <td>168.620776</td>\n",
       "    </tr>\n",
       "    <tr>\n",
       "      <th>4</th>\n",
       "      <td>Xdl7t</td>\n",
       "      <td>1.988431</td>\n",
       "      <td>0.155413</td>\n",
       "      <td>4.751769</td>\n",
       "      <td>154.036647</td>\n",
       "    </tr>\n",
       "  </tbody>\n",
       "</table>\n",
       "</div>"
      ],
      "text/plain": [
       "      id        f0        f1        f2     product\n",
       "0  txEyH  0.705745 -0.497823  1.221170  105.280062\n",
       "1  2acmU  1.334711 -0.340164  4.365080   73.037750\n",
       "2  409Wp  1.022732  0.151990  1.419926   85.265647\n",
       "3  iJLyR -0.032172  0.139033  2.978566  168.620776\n",
       "4  Xdl7t  1.988431  0.155413  4.751769  154.036647"
      ]
     },
     "metadata": {},
     "output_type": "display_data"
    },
    {
     "data": {
      "text/html": [
       "<div>\n",
       "<style scoped>\n",
       "    .dataframe tbody tr th:only-of-type {\n",
       "        vertical-align: middle;\n",
       "    }\n",
       "\n",
       "    .dataframe tbody tr th {\n",
       "        vertical-align: top;\n",
       "    }\n",
       "\n",
       "    .dataframe thead th {\n",
       "        text-align: right;\n",
       "    }\n",
       "</style>\n",
       "<table border=\"1\" class=\"dataframe\">\n",
       "  <thead>\n",
       "    <tr style=\"text-align: right;\">\n",
       "      <th></th>\n",
       "      <th>id</th>\n",
       "      <th>f0</th>\n",
       "      <th>f1</th>\n",
       "      <th>f2</th>\n",
       "      <th>product</th>\n",
       "    </tr>\n",
       "  </thead>\n",
       "  <tbody>\n",
       "    <tr>\n",
       "      <th>0</th>\n",
       "      <td>kBEdx</td>\n",
       "      <td>-15.001348</td>\n",
       "      <td>-8.276000</td>\n",
       "      <td>-0.005876</td>\n",
       "      <td>3.179103</td>\n",
       "    </tr>\n",
       "    <tr>\n",
       "      <th>1</th>\n",
       "      <td>62mP7</td>\n",
       "      <td>14.272088</td>\n",
       "      <td>-3.475083</td>\n",
       "      <td>0.999183</td>\n",
       "      <td>26.953261</td>\n",
       "    </tr>\n",
       "    <tr>\n",
       "      <th>2</th>\n",
       "      <td>vyE1P</td>\n",
       "      <td>6.263187</td>\n",
       "      <td>-5.948386</td>\n",
       "      <td>5.001160</td>\n",
       "      <td>134.766305</td>\n",
       "    </tr>\n",
       "    <tr>\n",
       "      <th>3</th>\n",
       "      <td>KcrkZ</td>\n",
       "      <td>-13.081196</td>\n",
       "      <td>-11.506057</td>\n",
       "      <td>4.999415</td>\n",
       "      <td>137.945408</td>\n",
       "    </tr>\n",
       "    <tr>\n",
       "      <th>4</th>\n",
       "      <td>AHL4O</td>\n",
       "      <td>12.702195</td>\n",
       "      <td>-8.147433</td>\n",
       "      <td>5.004363</td>\n",
       "      <td>134.766305</td>\n",
       "    </tr>\n",
       "  </tbody>\n",
       "</table>\n",
       "</div>"
      ],
      "text/plain": [
       "      id         f0         f1        f2     product\n",
       "0  kBEdx -15.001348  -8.276000 -0.005876    3.179103\n",
       "1  62mP7  14.272088  -3.475083  0.999183   26.953261\n",
       "2  vyE1P   6.263187  -5.948386  5.001160  134.766305\n",
       "3  KcrkZ -13.081196 -11.506057  4.999415  137.945408\n",
       "4  AHL4O  12.702195  -8.147433  5.004363  134.766305"
      ]
     },
     "metadata": {},
     "output_type": "display_data"
    },
    {
     "data": {
      "text/html": [
       "<div>\n",
       "<style scoped>\n",
       "    .dataframe tbody tr th:only-of-type {\n",
       "        vertical-align: middle;\n",
       "    }\n",
       "\n",
       "    .dataframe tbody tr th {\n",
       "        vertical-align: top;\n",
       "    }\n",
       "\n",
       "    .dataframe thead th {\n",
       "        text-align: right;\n",
       "    }\n",
       "</style>\n",
       "<table border=\"1\" class=\"dataframe\">\n",
       "  <thead>\n",
       "    <tr style=\"text-align: right;\">\n",
       "      <th></th>\n",
       "      <th>id</th>\n",
       "      <th>f0</th>\n",
       "      <th>f1</th>\n",
       "      <th>f2</th>\n",
       "      <th>product</th>\n",
       "    </tr>\n",
       "  </thead>\n",
       "  <tbody>\n",
       "    <tr>\n",
       "      <th>0</th>\n",
       "      <td>fwXo0</td>\n",
       "      <td>-1.146987</td>\n",
       "      <td>0.963328</td>\n",
       "      <td>-0.828965</td>\n",
       "      <td>27.758673</td>\n",
       "    </tr>\n",
       "    <tr>\n",
       "      <th>1</th>\n",
       "      <td>WJtFt</td>\n",
       "      <td>0.262778</td>\n",
       "      <td>0.269839</td>\n",
       "      <td>-2.530187</td>\n",
       "      <td>56.069697</td>\n",
       "    </tr>\n",
       "    <tr>\n",
       "      <th>2</th>\n",
       "      <td>ovLUW</td>\n",
       "      <td>0.194587</td>\n",
       "      <td>0.289035</td>\n",
       "      <td>-5.586433</td>\n",
       "      <td>62.871910</td>\n",
       "    </tr>\n",
       "    <tr>\n",
       "      <th>3</th>\n",
       "      <td>q6cA6</td>\n",
       "      <td>2.236060</td>\n",
       "      <td>-0.553760</td>\n",
       "      <td>0.930038</td>\n",
       "      <td>114.572842</td>\n",
       "    </tr>\n",
       "    <tr>\n",
       "      <th>4</th>\n",
       "      <td>WPMUX</td>\n",
       "      <td>-0.515993</td>\n",
       "      <td>1.716266</td>\n",
       "      <td>5.899011</td>\n",
       "      <td>149.600746</td>\n",
       "    </tr>\n",
       "  </tbody>\n",
       "</table>\n",
       "</div>"
      ],
      "text/plain": [
       "      id        f0        f1        f2     product\n",
       "0  fwXo0 -1.146987  0.963328 -0.828965   27.758673\n",
       "1  WJtFt  0.262778  0.269839 -2.530187   56.069697\n",
       "2  ovLUW  0.194587  0.289035 -5.586433   62.871910\n",
       "3  q6cA6  2.236060 -0.553760  0.930038  114.572842\n",
       "4  WPMUX -0.515993  1.716266  5.899011  149.600746"
      ]
     },
     "metadata": {},
     "output_type": "display_data"
    }
   ],
   "source": [
    "display(df0.head())\n",
    "display(df1.head())\n",
    "display(df2.head())"
   ]
  },
  {
   "cell_type": "code",
   "execution_count": 4,
   "metadata": {},
   "outputs": [
    {
     "data": {
      "text/plain": [
       "(100000, 5)"
      ]
     },
     "metadata": {},
     "output_type": "display_data"
    },
    {
     "data": {
      "text/plain": [
       "(100000, 5)"
      ]
     },
     "metadata": {},
     "output_type": "display_data"
    },
    {
     "data": {
      "text/plain": [
       "(100000, 5)"
      ]
     },
     "metadata": {},
     "output_type": "display_data"
    }
   ],
   "source": [
    "display(df0.shape)\n",
    "display(df1.shape)\n",
    "display(df2.shape)"
   ]
  },
  {
   "cell_type": "code",
   "execution_count": 5,
   "metadata": {},
   "outputs": [
    {
     "name": "stdout",
     "output_type": "stream",
     "text": [
      "<class 'pandas.core.frame.DataFrame'>\n",
      "RangeIndex: 100000 entries, 0 to 99999\n",
      "Data columns (total 5 columns):\n",
      " #   Column   Non-Null Count   Dtype  \n",
      "---  ------   --------------   -----  \n",
      " 0   id       100000 non-null  object \n",
      " 1   f0       100000 non-null  float64\n",
      " 2   f1       100000 non-null  float64\n",
      " 3   f2       100000 non-null  float64\n",
      " 4   product  100000 non-null  float64\n",
      "dtypes: float64(4), object(1)\n",
      "memory usage: 3.8+ MB\n"
     ]
    },
    {
     "data": {
      "text/plain": [
       "None"
      ]
     },
     "metadata": {},
     "output_type": "display_data"
    },
    {
     "name": "stdout",
     "output_type": "stream",
     "text": [
      "<class 'pandas.core.frame.DataFrame'>\n",
      "RangeIndex: 100000 entries, 0 to 99999\n",
      "Data columns (total 5 columns):\n",
      " #   Column   Non-Null Count   Dtype  \n",
      "---  ------   --------------   -----  \n",
      " 0   id       100000 non-null  object \n",
      " 1   f0       100000 non-null  float64\n",
      " 2   f1       100000 non-null  float64\n",
      " 3   f2       100000 non-null  float64\n",
      " 4   product  100000 non-null  float64\n",
      "dtypes: float64(4), object(1)\n",
      "memory usage: 3.8+ MB\n"
     ]
    },
    {
     "data": {
      "text/plain": [
       "None"
      ]
     },
     "metadata": {},
     "output_type": "display_data"
    },
    {
     "name": "stdout",
     "output_type": "stream",
     "text": [
      "<class 'pandas.core.frame.DataFrame'>\n",
      "RangeIndex: 100000 entries, 0 to 99999\n",
      "Data columns (total 5 columns):\n",
      " #   Column   Non-Null Count   Dtype  \n",
      "---  ------   --------------   -----  \n",
      " 0   id       100000 non-null  object \n",
      " 1   f0       100000 non-null  float64\n",
      " 2   f1       100000 non-null  float64\n",
      " 3   f2       100000 non-null  float64\n",
      " 4   product  100000 non-null  float64\n",
      "dtypes: float64(4), object(1)\n",
      "memory usage: 3.8+ MB\n"
     ]
    },
    {
     "data": {
      "text/plain": [
       "None"
      ]
     },
     "metadata": {},
     "output_type": "display_data"
    }
   ],
   "source": [
    "display(df0.info())\n",
    "display(df1.info())\n",
    "display(df2.info())"
   ]
  },
  {
   "cell_type": "code",
   "execution_count": 6,
   "metadata": {},
   "outputs": [
    {
     "data": {
      "text/html": [
       "<div>\n",
       "<style scoped>\n",
       "    .dataframe tbody tr th:only-of-type {\n",
       "        vertical-align: middle;\n",
       "    }\n",
       "\n",
       "    .dataframe tbody tr th {\n",
       "        vertical-align: top;\n",
       "    }\n",
       "\n",
       "    .dataframe thead th {\n",
       "        text-align: right;\n",
       "    }\n",
       "</style>\n",
       "<table border=\"1\" class=\"dataframe\">\n",
       "  <thead>\n",
       "    <tr style=\"text-align: right;\">\n",
       "      <th></th>\n",
       "      <th>f0</th>\n",
       "      <th>f1</th>\n",
       "      <th>f2</th>\n",
       "      <th>product</th>\n",
       "    </tr>\n",
       "  </thead>\n",
       "  <tbody>\n",
       "    <tr>\n",
       "      <th>count</th>\n",
       "      <td>100000.000000</td>\n",
       "      <td>100000.000000</td>\n",
       "      <td>100000.000000</td>\n",
       "      <td>100000.000000</td>\n",
       "    </tr>\n",
       "    <tr>\n",
       "      <th>mean</th>\n",
       "      <td>0.500419</td>\n",
       "      <td>0.250143</td>\n",
       "      <td>2.502647</td>\n",
       "      <td>92.500000</td>\n",
       "    </tr>\n",
       "    <tr>\n",
       "      <th>std</th>\n",
       "      <td>0.871832</td>\n",
       "      <td>0.504433</td>\n",
       "      <td>3.248248</td>\n",
       "      <td>44.288691</td>\n",
       "    </tr>\n",
       "    <tr>\n",
       "      <th>min</th>\n",
       "      <td>-1.408605</td>\n",
       "      <td>-0.848218</td>\n",
       "      <td>-12.088328</td>\n",
       "      <td>0.000000</td>\n",
       "    </tr>\n",
       "    <tr>\n",
       "      <th>25%</th>\n",
       "      <td>-0.072580</td>\n",
       "      <td>-0.200881</td>\n",
       "      <td>0.287748</td>\n",
       "      <td>56.497507</td>\n",
       "    </tr>\n",
       "    <tr>\n",
       "      <th>50%</th>\n",
       "      <td>0.502360</td>\n",
       "      <td>0.250252</td>\n",
       "      <td>2.515969</td>\n",
       "      <td>91.849972</td>\n",
       "    </tr>\n",
       "    <tr>\n",
       "      <th>75%</th>\n",
       "      <td>1.073581</td>\n",
       "      <td>0.700646</td>\n",
       "      <td>4.715088</td>\n",
       "      <td>128.564089</td>\n",
       "    </tr>\n",
       "    <tr>\n",
       "      <th>max</th>\n",
       "      <td>2.362331</td>\n",
       "      <td>1.343769</td>\n",
       "      <td>16.003790</td>\n",
       "      <td>185.364347</td>\n",
       "    </tr>\n",
       "  </tbody>\n",
       "</table>\n",
       "</div>"
      ],
      "text/plain": [
       "                  f0             f1             f2        product\n",
       "count  100000.000000  100000.000000  100000.000000  100000.000000\n",
       "mean        0.500419       0.250143       2.502647      92.500000\n",
       "std         0.871832       0.504433       3.248248      44.288691\n",
       "min        -1.408605      -0.848218     -12.088328       0.000000\n",
       "25%        -0.072580      -0.200881       0.287748      56.497507\n",
       "50%         0.502360       0.250252       2.515969      91.849972\n",
       "75%         1.073581       0.700646       4.715088     128.564089\n",
       "max         2.362331       1.343769      16.003790     185.364347"
      ]
     },
     "metadata": {},
     "output_type": "display_data"
    },
    {
     "data": {
      "text/html": [
       "<div>\n",
       "<style scoped>\n",
       "    .dataframe tbody tr th:only-of-type {\n",
       "        vertical-align: middle;\n",
       "    }\n",
       "\n",
       "    .dataframe tbody tr th {\n",
       "        vertical-align: top;\n",
       "    }\n",
       "\n",
       "    .dataframe thead th {\n",
       "        text-align: right;\n",
       "    }\n",
       "</style>\n",
       "<table border=\"1\" class=\"dataframe\">\n",
       "  <thead>\n",
       "    <tr style=\"text-align: right;\">\n",
       "      <th></th>\n",
       "      <th>f0</th>\n",
       "      <th>f1</th>\n",
       "      <th>f2</th>\n",
       "      <th>product</th>\n",
       "    </tr>\n",
       "  </thead>\n",
       "  <tbody>\n",
       "    <tr>\n",
       "      <th>count</th>\n",
       "      <td>100000.000000</td>\n",
       "      <td>100000.000000</td>\n",
       "      <td>100000.000000</td>\n",
       "      <td>100000.000000</td>\n",
       "    </tr>\n",
       "    <tr>\n",
       "      <th>mean</th>\n",
       "      <td>1.141296</td>\n",
       "      <td>-4.796579</td>\n",
       "      <td>2.494541</td>\n",
       "      <td>68.825000</td>\n",
       "    </tr>\n",
       "    <tr>\n",
       "      <th>std</th>\n",
       "      <td>8.965932</td>\n",
       "      <td>5.119872</td>\n",
       "      <td>1.703572</td>\n",
       "      <td>45.944423</td>\n",
       "    </tr>\n",
       "    <tr>\n",
       "      <th>min</th>\n",
       "      <td>-31.609576</td>\n",
       "      <td>-26.358598</td>\n",
       "      <td>-0.018144</td>\n",
       "      <td>0.000000</td>\n",
       "    </tr>\n",
       "    <tr>\n",
       "      <th>25%</th>\n",
       "      <td>-6.298551</td>\n",
       "      <td>-8.267985</td>\n",
       "      <td>1.000021</td>\n",
       "      <td>26.953261</td>\n",
       "    </tr>\n",
       "    <tr>\n",
       "      <th>50%</th>\n",
       "      <td>1.153055</td>\n",
       "      <td>-4.813172</td>\n",
       "      <td>2.011479</td>\n",
       "      <td>57.085625</td>\n",
       "    </tr>\n",
       "    <tr>\n",
       "      <th>75%</th>\n",
       "      <td>8.621015</td>\n",
       "      <td>-1.332816</td>\n",
       "      <td>3.999904</td>\n",
       "      <td>107.813044</td>\n",
       "    </tr>\n",
       "    <tr>\n",
       "      <th>max</th>\n",
       "      <td>29.421755</td>\n",
       "      <td>18.734063</td>\n",
       "      <td>5.019721</td>\n",
       "      <td>137.945408</td>\n",
       "    </tr>\n",
       "  </tbody>\n",
       "</table>\n",
       "</div>"
      ],
      "text/plain": [
       "                  f0             f1             f2        product\n",
       "count  100000.000000  100000.000000  100000.000000  100000.000000\n",
       "mean        1.141296      -4.796579       2.494541      68.825000\n",
       "std         8.965932       5.119872       1.703572      45.944423\n",
       "min       -31.609576     -26.358598      -0.018144       0.000000\n",
       "25%        -6.298551      -8.267985       1.000021      26.953261\n",
       "50%         1.153055      -4.813172       2.011479      57.085625\n",
       "75%         8.621015      -1.332816       3.999904     107.813044\n",
       "max        29.421755      18.734063       5.019721     137.945408"
      ]
     },
     "metadata": {},
     "output_type": "display_data"
    },
    {
     "data": {
      "text/html": [
       "<div>\n",
       "<style scoped>\n",
       "    .dataframe tbody tr th:only-of-type {\n",
       "        vertical-align: middle;\n",
       "    }\n",
       "\n",
       "    .dataframe tbody tr th {\n",
       "        vertical-align: top;\n",
       "    }\n",
       "\n",
       "    .dataframe thead th {\n",
       "        text-align: right;\n",
       "    }\n",
       "</style>\n",
       "<table border=\"1\" class=\"dataframe\">\n",
       "  <thead>\n",
       "    <tr style=\"text-align: right;\">\n",
       "      <th></th>\n",
       "      <th>f0</th>\n",
       "      <th>f1</th>\n",
       "      <th>f2</th>\n",
       "      <th>product</th>\n",
       "    </tr>\n",
       "  </thead>\n",
       "  <tbody>\n",
       "    <tr>\n",
       "      <th>count</th>\n",
       "      <td>100000.000000</td>\n",
       "      <td>100000.000000</td>\n",
       "      <td>100000.000000</td>\n",
       "      <td>100000.000000</td>\n",
       "    </tr>\n",
       "    <tr>\n",
       "      <th>mean</th>\n",
       "      <td>0.002023</td>\n",
       "      <td>-0.002081</td>\n",
       "      <td>2.495128</td>\n",
       "      <td>95.000000</td>\n",
       "    </tr>\n",
       "    <tr>\n",
       "      <th>std</th>\n",
       "      <td>1.732045</td>\n",
       "      <td>1.730417</td>\n",
       "      <td>3.473445</td>\n",
       "      <td>44.749921</td>\n",
       "    </tr>\n",
       "    <tr>\n",
       "      <th>min</th>\n",
       "      <td>-8.760004</td>\n",
       "      <td>-7.084020</td>\n",
       "      <td>-11.970335</td>\n",
       "      <td>0.000000</td>\n",
       "    </tr>\n",
       "    <tr>\n",
       "      <th>25%</th>\n",
       "      <td>-1.162288</td>\n",
       "      <td>-1.174820</td>\n",
       "      <td>0.130359</td>\n",
       "      <td>59.450441</td>\n",
       "    </tr>\n",
       "    <tr>\n",
       "      <th>50%</th>\n",
       "      <td>0.009424</td>\n",
       "      <td>-0.009482</td>\n",
       "      <td>2.484236</td>\n",
       "      <td>94.925613</td>\n",
       "    </tr>\n",
       "    <tr>\n",
       "      <th>75%</th>\n",
       "      <td>1.158535</td>\n",
       "      <td>1.163678</td>\n",
       "      <td>4.858794</td>\n",
       "      <td>130.595027</td>\n",
       "    </tr>\n",
       "    <tr>\n",
       "      <th>max</th>\n",
       "      <td>7.238262</td>\n",
       "      <td>7.844801</td>\n",
       "      <td>16.739402</td>\n",
       "      <td>190.029838</td>\n",
       "    </tr>\n",
       "  </tbody>\n",
       "</table>\n",
       "</div>"
      ],
      "text/plain": [
       "                  f0             f1             f2        product\n",
       "count  100000.000000  100000.000000  100000.000000  100000.000000\n",
       "mean        0.002023      -0.002081       2.495128      95.000000\n",
       "std         1.732045       1.730417       3.473445      44.749921\n",
       "min        -8.760004      -7.084020     -11.970335       0.000000\n",
       "25%        -1.162288      -1.174820       0.130359      59.450441\n",
       "50%         0.009424      -0.009482       2.484236      94.925613\n",
       "75%         1.158535       1.163678       4.858794     130.595027\n",
       "max         7.238262       7.844801      16.739402     190.029838"
      ]
     },
     "metadata": {},
     "output_type": "display_data"
    }
   ],
   "source": [
    "display(df0.describe())\n",
    "display(df1.describe())\n",
    "display(df2.describe())"
   ]
  },
  {
   "cell_type": "code",
   "execution_count": 7,
   "metadata": {},
   "outputs": [
    {
     "data": {
      "text/plain": [
       "0"
      ]
     },
     "metadata": {},
     "output_type": "display_data"
    },
    {
     "data": {
      "text/plain": [
       "0"
      ]
     },
     "metadata": {},
     "output_type": "display_data"
    },
    {
     "data": {
      "text/plain": [
       "0"
      ]
     },
     "metadata": {},
     "output_type": "display_data"
    }
   ],
   "source": [
    "display(df0.duplicated().sum())\n",
    "display(df1.duplicated().sum())\n",
    "display(df2.duplicated().sum())"
   ]
  },
  {
   "cell_type": "markdown",
   "metadata": {},
   "source": [
    "Дубликаты в данных не обнаружены"
   ]
  },
  {
   "cell_type": "code",
   "execution_count": 8,
   "metadata": {},
   "outputs": [
    {
     "data": {
      "text/plain": [
       "id         0\n",
       "f0         0\n",
       "f1         0\n",
       "f2         0\n",
       "product    0\n",
       "dtype: int64"
      ]
     },
     "metadata": {},
     "output_type": "display_data"
    },
    {
     "data": {
      "text/plain": [
       "id         0\n",
       "f0         0\n",
       "f1         0\n",
       "f2         0\n",
       "product    0\n",
       "dtype: int64"
      ]
     },
     "metadata": {},
     "output_type": "display_data"
    },
    {
     "data": {
      "text/plain": [
       "id         0\n",
       "f0         0\n",
       "f1         0\n",
       "f2         0\n",
       "product    0\n",
       "dtype: int64"
      ]
     },
     "metadata": {},
     "output_type": "display_data"
    }
   ],
   "source": [
    "display(df0.isnull().sum())\n",
    "display(df1.isnull().sum())\n",
    "display(df2.isnull().sum())"
   ]
  },
  {
   "cell_type": "markdown",
   "metadata": {},
   "source": [
    "В данных пропусков нет"
   ]
  },
  {
   "cell_type": "code",
   "execution_count": 9,
   "metadata": {},
   "outputs": [
    {
     "data": {
      "text/plain": [
       "10"
      ]
     },
     "execution_count": 9,
     "metadata": {},
     "output_type": "execute_result"
    }
   ],
   "source": [
    "df0['id'].duplicated().sum()"
   ]
  },
  {
   "cell_type": "code",
   "execution_count": 10,
   "metadata": {},
   "outputs": [
    {
     "data": {
      "text/plain": [
       "4"
      ]
     },
     "execution_count": 10,
     "metadata": {},
     "output_type": "execute_result"
    }
   ],
   "source": [
    "df1['id'].duplicated().sum()"
   ]
  },
  {
   "cell_type": "code",
   "execution_count": 11,
   "metadata": {},
   "outputs": [
    {
     "data": {
      "text/plain": [
       "4"
      ]
     },
     "execution_count": 11,
     "metadata": {},
     "output_type": "execute_result"
    }
   ],
   "source": [
    "df2['id'].duplicated().sum()"
   ]
  },
  {
   "cell_type": "code",
   "execution_count": 12,
   "metadata": {},
   "outputs": [
    {
     "data": {
      "text/html": [
       "<div>\n",
       "<style scoped>\n",
       "    .dataframe tbody tr th:only-of-type {\n",
       "        vertical-align: middle;\n",
       "    }\n",
       "\n",
       "    .dataframe tbody tr th {\n",
       "        vertical-align: top;\n",
       "    }\n",
       "\n",
       "    .dataframe thead th {\n",
       "        text-align: right;\n",
       "    }\n",
       "</style>\n",
       "<table border=\"1\" class=\"dataframe\">\n",
       "  <thead>\n",
       "    <tr style=\"text-align: right;\">\n",
       "      <th></th>\n",
       "      <th>f0</th>\n",
       "      <th>f1</th>\n",
       "      <th>f2</th>\n",
       "      <th>product</th>\n",
       "    </tr>\n",
       "  </thead>\n",
       "  <tbody>\n",
       "    <tr>\n",
       "      <th>f0</th>\n",
       "      <td>1.000000</td>\n",
       "      <td>-0.440723</td>\n",
       "      <td>-0.003153</td>\n",
       "      <td>0.143536</td>\n",
       "    </tr>\n",
       "    <tr>\n",
       "      <th>f1</th>\n",
       "      <td>-0.440723</td>\n",
       "      <td>1.000000</td>\n",
       "      <td>0.001724</td>\n",
       "      <td>-0.192356</td>\n",
       "    </tr>\n",
       "    <tr>\n",
       "      <th>f2</th>\n",
       "      <td>-0.003153</td>\n",
       "      <td>0.001724</td>\n",
       "      <td>1.000000</td>\n",
       "      <td>0.483663</td>\n",
       "    </tr>\n",
       "    <tr>\n",
       "      <th>product</th>\n",
       "      <td>0.143536</td>\n",
       "      <td>-0.192356</td>\n",
       "      <td>0.483663</td>\n",
       "      <td>1.000000</td>\n",
       "    </tr>\n",
       "  </tbody>\n",
       "</table>\n",
       "</div>"
      ],
      "text/plain": [
       "               f0        f1        f2   product\n",
       "f0       1.000000 -0.440723 -0.003153  0.143536\n",
       "f1      -0.440723  1.000000  0.001724 -0.192356\n",
       "f2      -0.003153  0.001724  1.000000  0.483663\n",
       "product  0.143536 -0.192356  0.483663  1.000000"
      ]
     },
     "execution_count": 12,
     "metadata": {},
     "output_type": "execute_result"
    }
   ],
   "source": [
    "df0.corr()"
   ]
  },
  {
   "cell_type": "markdown",
   "metadata": {},
   "source": [
    "\"f2\" и \"product\" имеют среднюю 0.483663 (если округлить) корреляцию,\n",
    "\n",
    "\"f0\" и \"f1\" имеют слабую -0.440723, но ближе к средней корреляцию"
   ]
  },
  {
   "cell_type": "code",
   "execution_count": 13,
   "metadata": {},
   "outputs": [
    {
     "data": {
      "text/html": [
       "<div>\n",
       "<style scoped>\n",
       "    .dataframe tbody tr th:only-of-type {\n",
       "        vertical-align: middle;\n",
       "    }\n",
       "\n",
       "    .dataframe tbody tr th {\n",
       "        vertical-align: top;\n",
       "    }\n",
       "\n",
       "    .dataframe thead th {\n",
       "        text-align: right;\n",
       "    }\n",
       "</style>\n",
       "<table border=\"1\" class=\"dataframe\">\n",
       "  <thead>\n",
       "    <tr style=\"text-align: right;\">\n",
       "      <th></th>\n",
       "      <th>f0</th>\n",
       "      <th>f1</th>\n",
       "      <th>f2</th>\n",
       "      <th>product</th>\n",
       "    </tr>\n",
       "  </thead>\n",
       "  <tbody>\n",
       "    <tr>\n",
       "      <th>f0</th>\n",
       "      <td>1.000000</td>\n",
       "      <td>0.182287</td>\n",
       "      <td>-0.001777</td>\n",
       "      <td>-0.030491</td>\n",
       "    </tr>\n",
       "    <tr>\n",
       "      <th>f1</th>\n",
       "      <td>0.182287</td>\n",
       "      <td>1.000000</td>\n",
       "      <td>-0.002595</td>\n",
       "      <td>-0.010155</td>\n",
       "    </tr>\n",
       "    <tr>\n",
       "      <th>f2</th>\n",
       "      <td>-0.001777</td>\n",
       "      <td>-0.002595</td>\n",
       "      <td>1.000000</td>\n",
       "      <td>0.999397</td>\n",
       "    </tr>\n",
       "    <tr>\n",
       "      <th>product</th>\n",
       "      <td>-0.030491</td>\n",
       "      <td>-0.010155</td>\n",
       "      <td>0.999397</td>\n",
       "      <td>1.000000</td>\n",
       "    </tr>\n",
       "  </tbody>\n",
       "</table>\n",
       "</div>"
      ],
      "text/plain": [
       "               f0        f1        f2   product\n",
       "f0       1.000000  0.182287 -0.001777 -0.030491\n",
       "f1       0.182287  1.000000 -0.002595 -0.010155\n",
       "f2      -0.001777 -0.002595  1.000000  0.999397\n",
       "product -0.030491 -0.010155  0.999397  1.000000"
      ]
     },
     "execution_count": 13,
     "metadata": {},
     "output_type": "execute_result"
    }
   ],
   "source": [
    "df1.corr()"
   ]
  },
  {
   "cell_type": "markdown",
   "metadata": {},
   "source": [
    "\"f0\" и \"f1\" имеют очень слабую 0.182287 корреляцию\n",
    "\n",
    "\"f2\" и \"product\" имеют очень высокую 0.999397 корреляцию"
   ]
  },
  {
   "cell_type": "code",
   "execution_count": 14,
   "metadata": {},
   "outputs": [
    {
     "data": {
      "text/html": [
       "<div>\n",
       "<style scoped>\n",
       "    .dataframe tbody tr th:only-of-type {\n",
       "        vertical-align: middle;\n",
       "    }\n",
       "\n",
       "    .dataframe tbody tr th {\n",
       "        vertical-align: top;\n",
       "    }\n",
       "\n",
       "    .dataframe thead th {\n",
       "        text-align: right;\n",
       "    }\n",
       "</style>\n",
       "<table border=\"1\" class=\"dataframe\">\n",
       "  <thead>\n",
       "    <tr style=\"text-align: right;\">\n",
       "      <th></th>\n",
       "      <th>f0</th>\n",
       "      <th>f1</th>\n",
       "      <th>f2</th>\n",
       "      <th>product</th>\n",
       "    </tr>\n",
       "  </thead>\n",
       "  <tbody>\n",
       "    <tr>\n",
       "      <th>f0</th>\n",
       "      <td>1.000000</td>\n",
       "      <td>0.000528</td>\n",
       "      <td>-0.000448</td>\n",
       "      <td>-0.001987</td>\n",
       "    </tr>\n",
       "    <tr>\n",
       "      <th>f1</th>\n",
       "      <td>0.000528</td>\n",
       "      <td>1.000000</td>\n",
       "      <td>0.000779</td>\n",
       "      <td>-0.001012</td>\n",
       "    </tr>\n",
       "    <tr>\n",
       "      <th>f2</th>\n",
       "      <td>-0.000448</td>\n",
       "      <td>0.000779</td>\n",
       "      <td>1.000000</td>\n",
       "      <td>0.445871</td>\n",
       "    </tr>\n",
       "    <tr>\n",
       "      <th>product</th>\n",
       "      <td>-0.001987</td>\n",
       "      <td>-0.001012</td>\n",
       "      <td>0.445871</td>\n",
       "      <td>1.000000</td>\n",
       "    </tr>\n",
       "  </tbody>\n",
       "</table>\n",
       "</div>"
      ],
      "text/plain": [
       "               f0        f1        f2   product\n",
       "f0       1.000000  0.000528 -0.000448 -0.001987\n",
       "f1       0.000528  1.000000  0.000779 -0.001012\n",
       "f2      -0.000448  0.000779  1.000000  0.445871\n",
       "product -0.001987 -0.001012  0.445871  1.000000"
      ]
     },
     "execution_count": 14,
     "metadata": {},
     "output_type": "execute_result"
    }
   ],
   "source": [
    "df2.corr()"
   ]
  },
  {
   "cell_type": "markdown",
   "metadata": {},
   "source": [
    "\"f2\" и \"product\" имеют слабую 0.445871 корреляцию (но ближе к средней).\n",
    "\n",
    "У остальных корреляция близка к нулю."
   ]
  },
  {
   "cell_type": "code",
   "execution_count": 15,
   "metadata": {},
   "outputs": [
    {
     "data": {
      "image/png": "[encoded data removed]",
      "text/plain": [
       "<Figure size 576x288 with 2 Axes>"
      ]
     },
     "metadata": {
      "needs_background": "light"
     },
     "output_type": "display_data"
    }
   ],
   "source": [
    "plt.rcParams[\"figure.figsize\"] = (8, 4)\n",
    "sns.heatmap(df0.corr(), annot = True, square=True, fmt='.1%', linewidths=1, linecolor='gray')\n",
    "plt.show()"
   ]
  },
  {
   "cell_type": "code",
   "execution_count": 16,
   "metadata": {},
   "outputs": [
    {
     "data": {
      "image/png": "[encoded data removed]",
      "text/plain": [
       "<Figure size 576x288 with 2 Axes>"
      ]
     },
     "metadata": {
      "needs_background": "light"
     },
     "output_type": "display_data"
    }
   ],
   "source": [
    "plt.rcParams[\"figure.figsize\"] = (8, 4)\n",
    "sns.heatmap(df1.corr(), annot = True, square=True, fmt='.1%', linewidths=1, linecolor='gray')\n",
    "plt.show()"
   ]
  },
  {
   "cell_type": "code",
   "execution_count": 17,
   "metadata": {},
   "outputs": [
    {
     "data": {
      "image/png": "[encoded data removed]",
      "text/plain": [
       "<Figure size 576x288 with 2 Axes>"
      ]
     },
     "metadata": {
      "needs_background": "light"
     },
     "output_type": "display_data"
    }
   ],
   "source": [
    "plt.rcParams[\"figure.figsize\"] = (8, 4)\n",
    "sns.heatmap(df2.corr(), annot = True, square=True, fmt='.1%', linewidths=1, linecolor='gray')\n",
    "plt.show()"
   ]
  },
  {
   "cell_type": "markdown",
   "metadata": {},
   "source": [
    "У всех датасетов мы увидели общий паттерн - высокую взаимосвязь между f2 и product."
   ]
  },
  {
   "cell_type": "markdown",
   "metadata": {},
   "source": [
    "## Обучение и проверка модели"
   ]
  },
  {
   "cell_type": "code",
   "execution_count": 18,
   "metadata": {},
   "outputs": [
    {
     "name": "stdout",
     "output_type": "stream",
     "text": [
      "Первая обучающая выборка: (75000, 3)\n",
      "(75000,)\n",
      "Первая валидационная выборка: (25000, 3)\n",
      "(25000,)\n",
      "\n",
      "Вторая обучающая выборка: (75000, 3)\n",
      "(75000,)\n",
      "Вторая валидационная выборка: (25000, 3)\n",
      "(25000,)\n",
      "\n",
      "Третья обучающая выборка: (75000, 3)\n",
      "(75000,)\n",
      "Третья валидационная выборка: (25000, 3)\n",
      "(25000,)\n"
     ]
    }
   ],
   "source": [
    "#Разбиваем данные на обучающую и валидационную выборку\n",
    "\n",
    "df0_train, df0_valid = train_test_split(df0, test_size=0.25, random_state=12345)\n",
    "df1_train, df1_valid = train_test_split(df1, test_size=0.25, random_state=12345)\n",
    "df2_train, df2_valid = train_test_split(df2, test_size=0.25, random_state=12345)\n",
    "\n",
    "\n",
    "features_train1 = df0_train.drop(['id', 'product'], axis=1)\n",
    "target_train1 = df0_train['product']\n",
    "features_valid1 = df0_valid.drop(['id', 'product'], axis=1)\n",
    "target_valid1 = df0_valid['product']\n",
    "\n",
    "features_train2 = df1_train.drop(['id', 'product'], axis=1)\n",
    "target_train2 = df1_train['product']\n",
    "features_valid2 = df1_valid.drop(['id', 'product'], axis=1)\n",
    "target_valid2 = df1_valid['product']\n",
    "\n",
    "features_train3 = df2_train.drop(['id', 'product'], axis=1)\n",
    "target_train3 = df2_train['product']\n",
    "features_valid3 = df2_valid.drop(['id', 'product'], axis=1)\n",
    "target_valid3 = df2_valid['product']\n",
    "\n",
    "print('Первая обучающая выборка:',features_train1.shape)\n",
    "print(target_train1.shape)\n",
    "print('Первая валидационная выборка:',features_valid1.shape)\n",
    "print(target_valid1.shape)\n",
    "print()\n",
    "print('Вторая обучающая выборка:',features_train2.shape)\n",
    "print(target_train2.shape)\n",
    "print('Вторая валидационная выборка:',features_valid2.shape)\n",
    "print(target_valid2.shape)\n",
    "print()\n",
    "print('Третья обучающая выборка:',features_train3.shape)\n",
    "print(target_train3.shape)\n",
    "print('Третья валидационная выборка:',features_valid3.shape)\n",
    "print(target_valid3.shape)"
   ]
  },
  {
   "cell_type": "markdown",
   "metadata": {},
   "source": [
    "Построение модели по трем регионам с месторождениями, с выведением средних данных и RMSE"
   ]
  },
  {
   "cell_type": "code",
   "execution_count": 35,
   "metadata": {},
   "outputs": [
    {
     "name": "stdout",
     "output_type": "stream",
     "text": [
      "Средний предсказанный запас предсказанного сырья в месторождении 92.59256778438035\n",
      "Средний фактический запас сырья в месторождении 92.07859674082941\n",
      "RMSE модели линейной регрессии на валидационной выборке: 37.5794217150813\n"
     ]
    }
   ],
   "source": [
    "#1\n",
    "\n",
    "model = LinearRegression()\n",
    "model.fit(features_train1,target_train1) # обучение модели на тренировочной выборке\n",
    "predictions_valid = model.predict(features_valid1) # предсказания модели на валидационной выборке\n",
    "df0_pred_mean=predictions_valid.mean()\n",
    "result = mean_squared_error(target_valid1,predictions_valid)**0.5\n",
    "df0_predictions_valid = model.predict(features_valid1)\n",
    "\n",
    "print(\"Средний предсказанный запас предсказанного сырья в месторождении\", df0_pred_mean)\n",
    "print(\"Средний фактический запас сырья в месторождении\", target_valid1.mean())\n",
    "print(\"RMSE модели линейной регрессии на валидационной выборке:\", result)"
   ]
  },
  {
   "cell_type": "code",
   "execution_count": 36,
   "metadata": {},
   "outputs": [
    {
     "name": "stdout",
     "output_type": "stream",
     "text": [
      "Средний предсказанный запас предсказанного сырья в месторождении 68.728546895446\n",
      "Средний фактический запас сырья в месторождении 68.72313602437494\n",
      "RMSE модели линейной регрессии на валидационной выборке: 0.8930992867756167\n"
     ]
    }
   ],
   "source": [
    "#2\n",
    "\n",
    "model = LinearRegression()\n",
    "model.fit(features_train2,target_train2)\n",
    "predictions_valid = model.predict(features_valid2)\n",
    "df1_pred_mean=predictions_valid.mean()\n",
    "result = mean_squared_error(target_valid2,predictions_valid)**0.5\n",
    "df1_predictions_valid = model.predict(features_valid2)\n",
    "\n",
    "print(\"Средний предсказанный запас предсказанного сырья в месторождении\", df1_pred_mean)\n",
    "print(\"Средний фактический запас сырья в месторождении\", target_valid2.mean())\n",
    "print(\"RMSE модели линейной регрессии на валидационной выборке:\", result)"
   ]
  },
  {
   "cell_type": "code",
   "execution_count": 22,
   "metadata": {},
   "outputs": [
    {
     "name": "stdout",
     "output_type": "stream",
     "text": [
      "Средний предсказанный запас предсказанного сырья в месторождении 94.96504596800489\n",
      "Средний фактический запас сырья в месторождении 94.88423280885489\n",
      "RMSE модели линейной регрессии на валидационной выборке: 40.02970873393434\n"
     ]
    }
   ],
   "source": [
    "#3\n",
    "\n",
    "model = LinearRegression()\n",
    "model.fit(features_train3,target_train3)\n",
    "predictions_valid = model.predict(features_valid3)\n",
    "df2_pred_mean=predictions_valid.mean()\n",
    "result = mean_squared_error(target_valid3,predictions_valid)**0.5\n",
    "df2_predictions_valid = model.predict(features_valid3)\n",
    "\n",
    "print(\"Средний предсказанный запас предсказанного сырья в месторождении\", df2_pred_mean)\n",
    "print(\"Средний фактический запас сырья в месторождении\", target_valid3.mean())\n",
    "print(\"RMSE модели линейной регрессии на валидационной выборке:\", result)"
   ]
  },
  {
   "cell_type": "markdown",
   "metadata": {},
   "source": [
    "**Вывод**\n",
    "\n",
    "Средний запас предсказанного сырья практически соответствует средним значениям запасов первоначальных данных;\n",
    "По показателю RMSE, второй регион считается самым прибыльным, но при этом отстает по запасам сырья двух других регионов."
   ]
  },
  {
   "cell_type": "markdown",
   "metadata": {},
   "source": [
    "## Подготовка к расчёту прибыли"
   ]
  },
  {
   "cell_type": "markdown",
   "metadata": {},
   "source": [
    "Рассчитаем достаточный объём сырья для безубыточной разработки новой скважины"
   ]
  },
  {
   "cell_type": "code",
   "execution_count": 37,
   "metadata": {},
   "outputs": [],
   "source": [
    "# бюджет на разработку скважин в регионе 10 000 000 000\n",
    "\n",
    "BUDG = 10_000_000_000"
   ]
  },
  {
   "cell_type": "code",
   "execution_count": 38,
   "metadata": {},
   "outputs": [],
   "source": [
    "# Рыночная цена за один баррель 450 руб., т.к. в данных объем указан в тысячах, умножим на 1000\n",
    "\n",
    "BAR = 450_000"
   ]
  },
  {
   "cell_type": "code",
   "execution_count": 39,
   "metadata": {},
   "outputs": [],
   "source": [
    "# При разведке региона исследуют 500 точек, из которых с помощью машинного обучения выбирают 200 лучших для разработки.\n",
    "\n",
    "SKVAJ = 200"
   ]
  },
  {
   "cell_type": "code",
   "execution_count": 26,
   "metadata": {},
   "outputs": [
    {
     "name": "stdout",
     "output_type": "stream",
     "text": [
      "50000000.0\n"
     ]
    }
   ],
   "source": [
    "# Расчитаем цену одной скважины\n",
    "\n",
    "PRICE_SKVAJ = BUDG / SKVAJ\n",
    "\n",
    "print(PRICE_SKVAJ)"
   ]
  },
  {
   "cell_type": "code",
   "execution_count": 27,
   "metadata": {},
   "outputs": [
    {
     "name": "stdout",
     "output_type": "stream",
     "text": [
      "111.11111111111111\n"
     ]
    }
   ],
   "source": [
    "# Рассчитаем достаточный объём сырья для безубыточной разработки новой скважины.\n",
    "\n",
    "COUNT_BAR = BUDG / SKVAJ / BAR\n",
    "\n",
    "print(COUNT_BAR)"
   ]
  },
  {
   "cell_type": "code",
   "execution_count": 28,
   "metadata": {},
   "outputs": [
    {
     "name": "stdout",
     "output_type": "stream",
     "text": [
      "92.07859674082941\n",
      "68.72313602437494\n",
      "94.88423280885489\n"
     ]
    }
   ],
   "source": [
    "# Сравним полученный объём сырья со средним запасом в каждом регионе.\n",
    "\n",
    "df1_mean = target_valid1.mean()\n",
    "df2_mean = target_valid2.mean()\n",
    "df3_mean = target_valid3.mean()\n",
    "\n",
    "print(df1_mean)\n",
    "print(df2_mean)\n",
    "print(df3_mean)"
   ]
  },
  {
   "cell_type": "markdown",
   "metadata": {},
   "source": [
    "**Вывод**\n",
    "\n",
    "Для получения прибыли, необходимо выбрать скважину с объемом выработки 111.11 тыс.баррелей;\n",
    "Средние запасы каждого из регионов меньше необходимого запаса для безубыточной разработки, по предсказаниям в среднем такого объема нет ни в одном регионе."
   ]
  },
  {
   "cell_type": "markdown",
   "metadata": {},
   "source": [
    "## Расчёт прибыли и рисков "
   ]
  },
  {
   "cell_type": "code",
   "execution_count": 29,
   "metadata": {},
   "outputs": [],
   "source": [
    "# Напишем функцию для расчёта прибыли по выбранным скважинам и предсказаниям модели:\n",
    "\n",
    "\n",
    "def profit(target, predictions, count):\n",
    "    profit=0\n",
    "    probs_sorted = predictions.sort_values(ascending=False).head(200)\n",
    "    selected = target[probs_sorted.index][:count] \n",
    "    for top in selected:\n",
    "        profit+=(top-COUNT_BAR)*450000\n",
    "    return profit"
   ]
  },
  {
   "cell_type": "code",
   "execution_count": 30,
   "metadata": {},
   "outputs": [
    {
     "name": "stdout",
     "output_type": "stream",
     "text": [
      "Прибыльность по первому региону (200 лучших скважин): 3321 млн.\n"
     ]
    }
   ],
   "source": [
    "df0_valid['product_pred']=df0_predictions_valid\n",
    "\n",
    "profit0=profit(df0_valid['product'], df0_valid['product_pred'],200)\n",
    "print(\"Прибыльность по первому региону (200 лучших скважин):\", round(profit0/1000000), \"млн.\")"
   ]
  },
  {
   "cell_type": "code",
   "execution_count": 31,
   "metadata": {},
   "outputs": [
    {
     "name": "stdout",
     "output_type": "stream",
     "text": [
      "Прибыльность по второму региону (200 лучших скважин): 2415 млн.\n"
     ]
    }
   ],
   "source": [
    "df1_valid['product_pred']=df1_predictions_valid\n",
    "\n",
    "profit1=profit(df1_valid['product'], df1_valid['product_pred'],200)\n",
    "print(\"Прибыльность по второму региону (200 лучших скважин):\", round(profit1/1000000), \"млн.\")"
   ]
  },
  {
   "cell_type": "code",
   "execution_count": 32,
   "metadata": {},
   "outputs": [
    {
     "name": "stdout",
     "output_type": "stream",
     "text": [
      "Прибыльность по третьему региону (200 лучших скважин): 2710 млн.\n"
     ]
    }
   ],
   "source": [
    "df2_valid['product_pred']=df2_predictions_valid\n",
    "\n",
    "profit2=profit(df2_valid['product'], df2_valid['product_pred'],200)\n",
    "print(\"Прибыльность по третьему региону (200 лучших скважин):\", round(profit2/1000000), \"млн.\")"
   ]
  },
  {
   "cell_type": "markdown",
   "metadata": {},
   "source": [
    "**Вывод**\n",
    "\n",
    "По валидационным данным - максимальная прибыль у первого региона"
   ]
  },
  {
   "cell_type": "markdown",
   "metadata": {},
   "source": [
    "## Подсчет рисков и прибыли для каждого региона: "
   ]
  },
  {
   "cell_type": "code",
   "execution_count": 33,
   "metadata": {},
   "outputs": [
    {
     "name": "stdout",
     "output_type": "stream",
     "text": [
      "Для первого региона\n",
      "Вероятность убытков: 6.90%\n",
      "Среднее значение бутстрепа 396.1649848023705 млн.\n",
      "Верхняя граница доверительного интервала 909766941.5534233\n",
      "Нижняя граница доверительного интервала -111215545.89049569\n",
      "\n",
      "\n",
      "Для второго региона\n",
      "Вероятность убытков: 1.50%\n",
      "Среднее значение бутстрепа 456.04510578666515 млн.\n",
      "Верхняя граница доверительного интервала 852289453.8660345\n",
      "Нижняя граница доверительного интервала 33820509.398989625\n",
      "\n",
      "\n",
      "Для третьего региона\n",
      "Вероятность убытков: 7.60%\n",
      "Среднее значение бутстрепа 404.4038665683573 млн.\n",
      "Верхняя граница доверительного интервала 950359574.9238007\n",
      "Нижняя граница доверительного интервала -163350413.39560026\n",
      "\n"
     ]
    }
   ],
   "source": [
    "# Воспользуемся методом Bootstrap, создадим функцию для подсчета\n",
    "\n",
    "def bootstrap (target, predictions):\n",
    "    state = np.random.RandomState(12345)\n",
    "    values = []\n",
    "    counter=0\n",
    "    for i in range(1000):\n",
    "        target_subsample = target.sample(n=500, replace=True, random_state=state)\n",
    "        preds_subsample = predictions[target_subsample.index]\n",
    "        target_subsample = target_subsample.reset_index(drop=True)\n",
    "        preds_subsample = preds_subsample.reset_index(drop=True)\n",
    "        \n",
    "        values.append(profit(target_subsample, preds_subsample, 500))\n",
    "        \n",
    "    values = pd.Series(values)\n",
    "    lower = values.quantile(0.025)\n",
    "    higher = values.quantile(0.975)\n",
    "    loss = values[values<0]\n",
    "    \n",
    "    print(\"Вероятность убытков: {:.2%}\".format(loss.count()/len(values)))\n",
    "    print(\"Среднее значение бутстрепа\", (values.mean())/1000000, \"млн.\")\n",
    "    print(\"Верхняя граница доверительного интервала\", higher)\n",
    "    print(\"Нижняя граница доверительного интервала\", lower)\n",
    "    print()\n",
    "print(\"Для первого региона\")\n",
    "bootstrap(df0_valid['product'], df0_valid['product_pred'])\n",
    "print()\n",
    "print(\"Для второго региона\")\n",
    "bootstrap(df1_valid['product'], df1_valid['product_pred'])\n",
    "print()\n",
    "print(\"Для третьего региона\")\n",
    "bootstrap(df2_valid['product'], df2_valid['product_pred'])\n"
   ]
  },
  {
   "cell_type": "code",
   "execution_count": 34,
   "metadata": {},
   "outputs": [
    {
     "name": "stdout",
     "output_type": "stream",
     "text": [
      "1    2\n",
      "1    2\n",
      "1    2\n",
      "dtype: int64\n",
      "1    2\n",
      "1    2\n",
      "1    2\n",
      "1    2\n",
      "1    2\n",
      "1    2\n",
      "1    2\n",
      "1    2\n",
      "1    2\n",
      "2    5\n",
      "2    6\n",
      "2    3\n",
      "2    5\n",
      "2    6\n",
      "2    3\n",
      "2    5\n",
      "2    6\n",
      "2    3\n",
      "dtype: int64\n",
      "5 mm\n",
      "0    2\n",
      "1    2\n",
      "2    2\n",
      "3    5\n",
      "4    6\n",
      "5    3\n",
      "dtype: int64\n"
     ]
    }
   ],
   "source": [
    "a = pd.Series([2, 2, 2, 5, 6, 3], index = [1, 1, 1, 2, 2, 2])\n",
    "print(a[1])\n",
    "print(a[a.index])\n",
    "a = a.reset_index(drop = True)\n",
    "print(a[3], \"mm\")\n",
    "print(a[a.index])"
   ]
  },
  {
   "cell_type": "markdown",
   "metadata": {},
   "source": [
    "***Вывод***\n",
    "\n",
    "Исходя из проведенного анализа данных, построения модели и проверки методом Bootstrap по трем регионам, можно сделать вывод - больше всего для новых скважин подходит второй регион, т.к. он имеет меньшую вероятность убытков 1.5% и лучший показатель RMSE 0.89"
   ]
  },
  {
   "cell_type": "code",
   "execution_count": null,
   "metadata": {},
   "outputs": [],
   "source": []
  }
 ],
 "metadata": {
  "ExecuteTimeLog": [
   {
    "duration": 1554,
    "start_time": "2022-11-08T21:31:52.834Z"
   },
   {
    "duration": 1483,
    "start_time": "2022-11-08T22:37:01.308Z"
   },
   {
    "duration": 107,
    "start_time": "2022-11-08T22:37:35.290Z"
   },
   {
    "duration": 24,
    "start_time": "2022-11-08T22:37:48.879Z"
   },
   {
    "duration": 4,
    "start_time": "2022-11-08T22:38:32.189Z"
   },
   {
    "duration": 8,
    "start_time": "2022-11-08T22:38:47.185Z"
   },
   {
    "duration": 35,
    "start_time": "2022-11-08T22:39:21.974Z"
   },
   {
    "duration": 38,
    "start_time": "2022-11-08T22:39:33.061Z"
   },
   {
    "duration": 57,
    "start_time": "2022-11-08T22:39:47.064Z"
   },
   {
    "duration": 108,
    "start_time": "2022-11-08T22:40:27.464Z"
   },
   {
    "duration": 1512,
    "start_time": "2022-11-11T20:04:03.107Z"
   },
   {
    "duration": 1593,
    "start_time": "2022-11-11T20:04:04.621Z"
   },
   {
    "duration": 27,
    "start_time": "2022-11-11T20:04:06.215Z"
   },
   {
    "duration": 5,
    "start_time": "2022-11-11T20:04:06.244Z"
   },
   {
    "duration": 46,
    "start_time": "2022-11-11T20:04:06.251Z"
   },
   {
    "duration": 121,
    "start_time": "2022-11-11T20:04:06.298Z"
   },
   {
    "duration": 39,
    "start_time": "2022-11-11T20:06:46.426Z"
   },
   {
    "duration": 132,
    "start_time": "2022-11-11T20:06:58.840Z"
   },
   {
    "duration": 11,
    "start_time": "2022-11-11T20:07:27.578Z"
   },
   {
    "duration": 22,
    "start_time": "2022-11-11T20:07:38.668Z"
   },
   {
    "duration": 772,
    "start_time": "2022-11-11T20:21:36.151Z"
   },
   {
    "duration": 136,
    "start_time": "2022-11-11T20:21:59.170Z"
   },
   {
    "duration": 18,
    "start_time": "2022-11-11T20:22:09.762Z"
   },
   {
    "duration": 17,
    "start_time": "2022-11-11T20:22:50.437Z"
   },
   {
    "duration": 19,
    "start_time": "2022-11-11T20:22:58.055Z"
   },
   {
    "duration": 62,
    "start_time": "2022-11-11T20:42:29.245Z"
   },
   {
    "duration": 59,
    "start_time": "2022-11-11T20:45:48.601Z"
   },
   {
    "duration": 3,
    "start_time": "2022-11-11T21:07:40.004Z"
   },
   {
    "duration": 26,
    "start_time": "2022-11-11T21:08:28.254Z"
   },
   {
    "duration": 17,
    "start_time": "2022-11-11T21:09:08.311Z"
   },
   {
    "duration": 20,
    "start_time": "2022-11-11T21:10:19.217Z"
   },
   {
    "duration": 18,
    "start_time": "2022-11-11T21:10:45.430Z"
   },
   {
    "duration": 16,
    "start_time": "2022-11-11T21:11:02.794Z"
   },
   {
    "duration": 17,
    "start_time": "2022-11-11T21:11:10.211Z"
   },
   {
    "duration": 16,
    "start_time": "2022-11-11T21:11:30.253Z"
   },
   {
    "duration": 17,
    "start_time": "2022-11-11T21:11:31.285Z"
   },
   {
    "duration": 17,
    "start_time": "2022-11-11T21:11:55.852Z"
   },
   {
    "duration": 17,
    "start_time": "2022-11-11T21:12:18.266Z"
   },
   {
    "duration": 5,
    "start_time": "2022-11-12T20:29:35.188Z"
   },
   {
    "duration": 1428,
    "start_time": "2022-11-12T20:29:40.510Z"
   },
   {
    "duration": 1575,
    "start_time": "2022-11-12T20:29:41.940Z"
   },
   {
    "duration": 33,
    "start_time": "2022-11-12T20:29:43.516Z"
   },
   {
    "duration": 7,
    "start_time": "2022-11-12T20:29:43.552Z"
   },
   {
    "duration": 60,
    "start_time": "2022-11-12T20:29:43.561Z"
   },
   {
    "duration": 121,
    "start_time": "2022-11-12T20:29:43.623Z"
   },
   {
    "duration": 138,
    "start_time": "2022-11-12T20:29:43.746Z"
   },
   {
    "duration": 37,
    "start_time": "2022-11-12T20:29:43.886Z"
   },
   {
    "duration": 21,
    "start_time": "2022-11-12T20:29:43.925Z"
   },
   {
    "duration": 47,
    "start_time": "2022-11-12T20:29:43.948Z"
   },
   {
    "duration": 24,
    "start_time": "2022-11-12T20:29:43.997Z"
   },
   {
    "duration": 83,
    "start_time": "2022-11-12T20:29:44.023Z"
   },
   {
    "duration": 2,
    "start_time": "2022-11-12T20:29:44.108Z"
   },
   {
    "duration": 348,
    "start_time": "2022-11-12T20:29:44.112Z"
   },
   {
    "duration": 0,
    "start_time": "2022-11-12T20:29:44.463Z"
   },
   {
    "duration": 0,
    "start_time": "2022-11-12T20:29:44.464Z"
   },
   {
    "duration": 1291,
    "start_time": "2022-11-12T20:30:50.953Z"
   },
   {
    "duration": 454,
    "start_time": "2022-11-12T20:30:52.246Z"
   },
   {
    "duration": 37,
    "start_time": "2022-11-12T20:30:52.702Z"
   },
   {
    "duration": 24,
    "start_time": "2022-11-12T20:30:52.742Z"
   },
   {
    "duration": 65,
    "start_time": "2022-11-12T20:30:52.768Z"
   },
   {
    "duration": 107,
    "start_time": "2022-11-12T20:30:52.835Z"
   },
   {
    "duration": 136,
    "start_time": "2022-11-12T20:30:52.944Z"
   },
   {
    "duration": 23,
    "start_time": "2022-11-12T20:30:53.082Z"
   },
   {
    "duration": 32,
    "start_time": "2022-11-12T20:30:53.107Z"
   },
   {
    "duration": 37,
    "start_time": "2022-11-12T20:30:53.141Z"
   },
   {
    "duration": 51,
    "start_time": "2022-11-12T20:30:53.180Z"
   },
   {
    "duration": 99,
    "start_time": "2022-11-12T20:30:53.232Z"
   },
   {
    "duration": 4,
    "start_time": "2022-11-12T20:30:53.332Z"
   },
   {
    "duration": 251,
    "start_time": "2022-11-12T20:30:53.337Z"
   },
   {
    "duration": 197,
    "start_time": "2022-11-12T20:30:53.591Z"
   },
   {
    "duration": 188,
    "start_time": "2022-11-12T20:30:53.793Z"
   },
   {
    "duration": 3,
    "start_time": "2022-11-12T20:36:10.481Z"
   },
   {
    "duration": 3,
    "start_time": "2022-11-12T20:44:24.354Z"
   },
   {
    "duration": 3,
    "start_time": "2022-11-12T20:47:03.897Z"
   },
   {
    "duration": 3,
    "start_time": "2022-11-12T20:53:47.845Z"
   },
   {
    "duration": 3,
    "start_time": "2022-11-12T20:54:58.639Z"
   },
   {
    "duration": 103,
    "start_time": "2022-11-12T21:01:26.041Z"
   },
   {
    "duration": 3,
    "start_time": "2022-11-12T21:01:33.750Z"
   },
   {
    "duration": 5,
    "start_time": "2022-11-12T21:29:22.839Z"
   },
   {
    "duration": 4,
    "start_time": "2022-11-12T21:29:34.803Z"
   },
   {
    "duration": 4,
    "start_time": "2022-11-12T21:35:42.453Z"
   },
   {
    "duration": 3,
    "start_time": "2022-11-12T21:37:45.971Z"
   },
   {
    "duration": 19,
    "start_time": "2022-11-12T21:38:51.499Z"
   },
   {
    "duration": 3,
    "start_time": "2022-11-12T21:39:19.897Z"
   },
   {
    "duration": 3,
    "start_time": "2022-11-12T21:39:21.109Z"
   },
   {
    "duration": 9,
    "start_time": "2022-11-12T21:39:21.812Z"
   },
   {
    "duration": 16,
    "start_time": "2022-11-12T21:40:06.202Z"
   },
   {
    "duration": 4,
    "start_time": "2022-11-12T21:40:17.005Z"
   },
   {
    "duration": 18,
    "start_time": "2022-11-12T21:40:18.783Z"
   },
   {
    "duration": 11,
    "start_time": "2022-11-12T21:41:50.378Z"
   },
   {
    "duration": 4,
    "start_time": "2022-11-12T21:42:01.266Z"
   },
   {
    "duration": 10,
    "start_time": "2022-11-12T21:42:03.013Z"
   },
   {
    "duration": 7,
    "start_time": "2022-11-12T21:42:50.376Z"
   },
   {
    "duration": 9,
    "start_time": "2022-11-12T21:42:52.028Z"
   },
   {
    "duration": 3,
    "start_time": "2022-11-12T21:44:05.620Z"
   },
   {
    "duration": 404,
    "start_time": "2022-11-12T21:44:06.711Z"
   },
   {
    "duration": 23,
    "start_time": "2022-11-12T21:44:07.151Z"
   },
   {
    "duration": 7,
    "start_time": "2022-11-12T21:44:07.708Z"
   },
   {
    "duration": 41,
    "start_time": "2022-11-12T21:44:08.148Z"
   },
   {
    "duration": 101,
    "start_time": "2022-11-12T21:44:08.502Z"
   },
   {
    "duration": 116,
    "start_time": "2022-11-12T21:44:08.918Z"
   },
   {
    "duration": 24,
    "start_time": "2022-11-12T21:44:09.905Z"
   },
   {
    "duration": 17,
    "start_time": "2022-11-12T21:44:10.719Z"
   },
   {
    "duration": 18,
    "start_time": "2022-11-12T21:44:11.062Z"
   },
   {
    "duration": 19,
    "start_time": "2022-11-12T21:44:11.471Z"
   },
   {
    "duration": 70,
    "start_time": "2022-11-12T21:44:12.284Z"
   },
   {
    "duration": 2,
    "start_time": "2022-11-12T21:44:12.796Z"
   },
   {
    "duration": 21,
    "start_time": "2022-11-12T21:44:13.425Z"
   },
   {
    "duration": 16,
    "start_time": "2022-11-12T21:44:13.895Z"
   },
   {
    "duration": 18,
    "start_time": "2022-11-12T21:44:14.335Z"
   },
   {
    "duration": 2,
    "start_time": "2022-11-12T21:44:15.846Z"
   },
   {
    "duration": 2,
    "start_time": "2022-11-12T21:44:16.063Z"
   },
   {
    "duration": 3,
    "start_time": "2022-11-12T21:44:16.250Z"
   },
   {
    "duration": 3,
    "start_time": "2022-11-12T21:44:16.481Z"
   },
   {
    "duration": 3,
    "start_time": "2022-11-12T21:44:16.746Z"
   },
   {
    "duration": 4,
    "start_time": "2022-11-12T21:44:17.119Z"
   },
   {
    "duration": 4,
    "start_time": "2022-11-12T21:44:18.784Z"
   },
   {
    "duration": 4,
    "start_time": "2022-11-12T21:44:19.312Z"
   },
   {
    "duration": 9,
    "start_time": "2022-11-12T21:44:20.256Z"
   },
   {
    "duration": 10,
    "start_time": "2022-11-12T21:44:20.986Z"
   },
   {
    "duration": 9,
    "start_time": "2022-11-12T21:44:21.637Z"
   },
   {
    "duration": 3,
    "start_time": "2022-11-12T21:44:28.133Z"
   },
   {
    "duration": 9,
    "start_time": "2022-11-12T21:44:28.608Z"
   },
   {
    "duration": 7,
    "start_time": "2022-11-12T21:44:29.189Z"
   },
   {
    "duration": 9,
    "start_time": "2022-11-12T21:44:30.743Z"
   },
   {
    "duration": 9,
    "start_time": "2022-11-12T21:45:16.624Z"
   },
   {
    "duration": 9,
    "start_time": "2022-11-12T21:45:18.186Z"
   },
   {
    "duration": 1364,
    "start_time": "2022-11-12T21:45:25.384Z"
   },
   {
    "duration": 391,
    "start_time": "2022-11-12T21:45:26.750Z"
   },
   {
    "duration": 37,
    "start_time": "2022-11-12T21:45:27.143Z"
   },
   {
    "duration": 8,
    "start_time": "2022-11-12T21:45:27.183Z"
   },
   {
    "duration": 45,
    "start_time": "2022-11-12T21:45:27.193Z"
   },
   {
    "duration": 141,
    "start_time": "2022-11-12T21:45:27.239Z"
   },
   {
    "duration": 128,
    "start_time": "2022-11-12T21:45:27.382Z"
   },
   {
    "duration": 22,
    "start_time": "2022-11-12T21:45:27.512Z"
   },
   {
    "duration": 18,
    "start_time": "2022-11-12T21:45:27.536Z"
   },
   {
    "duration": 18,
    "start_time": "2022-11-12T21:45:27.580Z"
   },
   {
    "duration": 26,
    "start_time": "2022-11-12T21:45:27.599Z"
   },
   {
    "duration": 67,
    "start_time": "2022-11-12T21:45:27.627Z"
   },
   {
    "duration": 2,
    "start_time": "2022-11-12T21:45:27.695Z"
   },
   {
    "duration": 81,
    "start_time": "2022-11-12T21:45:27.699Z"
   },
   {
    "duration": 116,
    "start_time": "2022-11-12T21:45:27.782Z"
   },
   {
    "duration": 195,
    "start_time": "2022-11-12T21:45:27.899Z"
   },
   {
    "duration": 89,
    "start_time": "2022-11-12T21:45:28.096Z"
   },
   {
    "duration": 97,
    "start_time": "2022-11-12T21:45:28.190Z"
   },
   {
    "duration": 9,
    "start_time": "2022-11-12T21:45:28.289Z"
   },
   {
    "duration": 10,
    "start_time": "2022-11-12T21:45:28.300Z"
   },
   {
    "duration": 15,
    "start_time": "2022-11-12T21:45:28.312Z"
   },
   {
    "duration": 16,
    "start_time": "2022-11-12T21:45:28.328Z"
   },
   {
    "duration": 9,
    "start_time": "2022-11-12T21:45:28.346Z"
   },
   {
    "duration": 16,
    "start_time": "2022-11-12T21:45:28.356Z"
   },
   {
    "duration": 12,
    "start_time": "2022-11-12T21:45:28.373Z"
   },
   {
    "duration": 9,
    "start_time": "2022-11-12T21:45:28.386Z"
   },
   {
    "duration": 10,
    "start_time": "2022-11-12T21:46:02.434Z"
   },
   {
    "duration": 8,
    "start_time": "2022-11-12T21:46:02.840Z"
   },
   {
    "duration": 7,
    "start_time": "2022-11-12T21:46:03.201Z"
   },
   {
    "duration": 21,
    "start_time": "2022-11-12T21:46:56.793Z"
   },
   {
    "duration": 18,
    "start_time": "2022-11-12T21:46:58.065Z"
   },
   {
    "duration": 1309,
    "start_time": "2022-11-12T21:47:03.356Z"
   },
   {
    "duration": 380,
    "start_time": "2022-11-12T21:47:04.667Z"
   },
   {
    "duration": 31,
    "start_time": "2022-11-12T21:47:05.049Z"
   },
   {
    "duration": 7,
    "start_time": "2022-11-12T21:47:05.082Z"
   },
   {
    "duration": 52,
    "start_time": "2022-11-12T21:47:05.091Z"
   },
   {
    "duration": 118,
    "start_time": "2022-11-12T21:47:05.144Z"
   },
   {
    "duration": 166,
    "start_time": "2022-11-12T21:47:05.263Z"
   },
   {
    "duration": 25,
    "start_time": "2022-11-12T21:47:05.432Z"
   },
   {
    "duration": 31,
    "start_time": "2022-11-12T21:47:05.459Z"
   },
   {
    "duration": 20,
    "start_time": "2022-11-12T21:47:05.493Z"
   },
   {
    "duration": 26,
    "start_time": "2022-11-12T21:47:05.515Z"
   },
   {
    "duration": 71,
    "start_time": "2022-11-12T21:47:05.543Z"
   },
   {
    "duration": 3,
    "start_time": "2022-11-12T21:47:05.615Z"
   },
   {
    "duration": 65,
    "start_time": "2022-11-12T21:47:05.619Z"
   },
   {
    "duration": 195,
    "start_time": "2022-11-12T21:47:05.685Z"
   },
   {
    "duration": 117,
    "start_time": "2022-11-12T21:47:05.883Z"
   },
   {
    "duration": 85,
    "start_time": "2022-11-12T21:47:06.003Z"
   },
   {
    "duration": 6,
    "start_time": "2022-11-12T21:47:06.180Z"
   },
   {
    "duration": 29,
    "start_time": "2022-11-12T21:47:06.188Z"
   },
   {
    "duration": 19,
    "start_time": "2022-11-12T21:47:06.219Z"
   },
   {
    "duration": 17,
    "start_time": "2022-11-12T21:47:06.240Z"
   },
   {
    "duration": 8,
    "start_time": "2022-11-12T21:47:06.258Z"
   },
   {
    "duration": 5,
    "start_time": "2022-11-12T21:47:06.268Z"
   },
   {
    "duration": 15,
    "start_time": "2022-11-12T21:47:06.275Z"
   },
   {
    "duration": 9,
    "start_time": "2022-11-12T21:47:06.293Z"
   },
   {
    "duration": 8,
    "start_time": "2022-11-12T21:47:06.304Z"
   },
   {
    "duration": 8,
    "start_time": "2022-11-12T21:48:13.636Z"
   },
   {
    "duration": 8,
    "start_time": "2022-11-12T21:48:28.878Z"
   },
   {
    "duration": 8,
    "start_time": "2022-11-12T21:48:37.358Z"
   },
   {
    "duration": 8,
    "start_time": "2022-11-12T21:48:44.203Z"
   },
   {
    "duration": 10,
    "start_time": "2022-11-12T21:48:54.489Z"
   },
   {
    "duration": 8,
    "start_time": "2022-11-12T21:48:54.870Z"
   },
   {
    "duration": 9,
    "start_time": "2022-11-12T21:48:55.211Z"
   },
   {
    "duration": 8,
    "start_time": "2022-11-12T21:49:06.533Z"
   },
   {
    "duration": 9,
    "start_time": "2022-11-12T21:49:06.932Z"
   },
   {
    "duration": 8,
    "start_time": "2022-11-12T21:49:07.264Z"
   },
   {
    "duration": 5,
    "start_time": "2022-11-12T22:01:19.394Z"
   },
   {
    "duration": 1245,
    "start_time": "2022-11-12T22:03:51.725Z"
   },
   {
    "duration": 4,
    "start_time": "2022-11-12T22:04:22.272Z"
   },
   {
    "duration": 1321,
    "start_time": "2022-11-12T22:04:28.955Z"
   },
   {
    "duration": 389,
    "start_time": "2022-11-12T22:04:30.278Z"
   },
   {
    "duration": 28,
    "start_time": "2022-11-12T22:04:30.668Z"
   },
   {
    "duration": 34,
    "start_time": "2022-11-12T22:04:30.698Z"
   },
   {
    "duration": 81,
    "start_time": "2022-11-12T22:04:30.733Z"
   },
   {
    "duration": 112,
    "start_time": "2022-11-12T22:04:30.815Z"
   },
   {
    "duration": 121,
    "start_time": "2022-11-12T22:04:30.929Z"
   },
   {
    "duration": 35,
    "start_time": "2022-11-12T22:04:31.052Z"
   },
   {
    "duration": 17,
    "start_time": "2022-11-12T22:04:31.089Z"
   },
   {
    "duration": 21,
    "start_time": "2022-11-12T22:04:31.108Z"
   },
   {
    "duration": 25,
    "start_time": "2022-11-12T22:04:31.130Z"
   },
   {
    "duration": 72,
    "start_time": "2022-11-12T22:04:31.157Z"
   },
   {
    "duration": 3,
    "start_time": "2022-11-12T22:04:31.231Z"
   },
   {
    "duration": 253,
    "start_time": "2022-11-12T22:04:31.236Z"
   },
   {
    "duration": 1,
    "start_time": "2022-11-12T22:04:31.491Z"
   },
   {
    "duration": 0,
    "start_time": "2022-11-12T22:04:31.494Z"
   },
   {
    "duration": 0,
    "start_time": "2022-11-12T22:04:31.495Z"
   },
   {
    "duration": 0,
    "start_time": "2022-11-12T22:04:31.497Z"
   },
   {
    "duration": 0,
    "start_time": "2022-11-12T22:04:31.498Z"
   },
   {
    "duration": 0,
    "start_time": "2022-11-12T22:04:31.499Z"
   },
   {
    "duration": 0,
    "start_time": "2022-11-12T22:04:31.501Z"
   },
   {
    "duration": 0,
    "start_time": "2022-11-12T22:04:31.502Z"
   },
   {
    "duration": 0,
    "start_time": "2022-11-12T22:04:31.503Z"
   },
   {
    "duration": 0,
    "start_time": "2022-11-12T22:04:31.504Z"
   },
   {
    "duration": 1,
    "start_time": "2022-11-12T22:04:31.505Z"
   },
   {
    "duration": 0,
    "start_time": "2022-11-12T22:04:31.507Z"
   },
   {
    "duration": 0,
    "start_time": "2022-11-12T22:04:31.509Z"
   },
   {
    "duration": 1287,
    "start_time": "2022-11-12T22:04:55.752Z"
   },
   {
    "duration": 399,
    "start_time": "2022-11-12T22:04:57.041Z"
   },
   {
    "duration": 28,
    "start_time": "2022-11-12T22:04:57.442Z"
   },
   {
    "duration": 9,
    "start_time": "2022-11-12T22:04:57.480Z"
   },
   {
    "duration": 52,
    "start_time": "2022-11-12T22:04:57.491Z"
   },
   {
    "duration": 125,
    "start_time": "2022-11-12T22:04:57.545Z"
   },
   {
    "duration": 123,
    "start_time": "2022-11-12T22:04:57.680Z"
   },
   {
    "duration": 23,
    "start_time": "2022-11-12T22:04:57.805Z"
   },
   {
    "duration": 18,
    "start_time": "2022-11-12T22:04:57.830Z"
   },
   {
    "duration": 38,
    "start_time": "2022-11-12T22:04:57.851Z"
   },
   {
    "duration": 23,
    "start_time": "2022-11-12T22:04:57.891Z"
   },
   {
    "duration": 67,
    "start_time": "2022-11-12T22:04:57.916Z"
   },
   {
    "duration": 3,
    "start_time": "2022-11-12T22:04:57.984Z"
   },
   {
    "duration": 92,
    "start_time": "2022-11-12T22:04:57.988Z"
   },
   {
    "duration": 117,
    "start_time": "2022-11-12T22:04:58.082Z"
   },
   {
    "duration": 189,
    "start_time": "2022-11-12T22:04:58.202Z"
   },
   {
    "duration": 187,
    "start_time": "2022-11-12T22:04:58.393Z"
   },
   {
    "duration": 8,
    "start_time": "2022-11-12T22:04:58.582Z"
   },
   {
    "duration": 14,
    "start_time": "2022-11-12T22:04:58.591Z"
   },
   {
    "duration": 12,
    "start_time": "2022-11-12T22:04:58.607Z"
   },
   {
    "duration": 10,
    "start_time": "2022-11-12T22:04:58.621Z"
   },
   {
    "duration": 15,
    "start_time": "2022-11-12T22:04:58.633Z"
   },
   {
    "duration": 5,
    "start_time": "2022-11-12T22:04:58.650Z"
   },
   {
    "duration": 23,
    "start_time": "2022-11-12T22:04:58.657Z"
   },
   {
    "duration": 14,
    "start_time": "2022-11-12T22:04:58.681Z"
   },
   {
    "duration": 9,
    "start_time": "2022-11-12T22:04:58.696Z"
   },
   {
    "duration": 3155,
    "start_time": "2022-11-12T22:04:58.706Z"
   },
   {
    "duration": 3282,
    "start_time": "2022-11-12T22:06:48.314Z"
   },
   {
    "duration": 1168,
    "start_time": "2022-11-12T22:08:37.952Z"
   },
   {
    "duration": 3081,
    "start_time": "2022-11-12T22:09:15.936Z"
   },
   {
    "duration": 3384,
    "start_time": "2022-11-12T22:09:30.908Z"
   },
   {
    "duration": 3320,
    "start_time": "2022-11-12T22:12:07.448Z"
   },
   {
    "duration": 1395,
    "start_time": "2022-11-12T22:22:52.571Z"
   },
   {
    "duration": 378,
    "start_time": "2022-11-12T22:22:53.968Z"
   },
   {
    "duration": 34,
    "start_time": "2022-11-12T22:22:54.348Z"
   },
   {
    "duration": 7,
    "start_time": "2022-11-12T22:22:54.383Z"
   },
   {
    "duration": 40,
    "start_time": "2022-11-12T22:22:54.392Z"
   },
   {
    "duration": 133,
    "start_time": "2022-11-12T22:22:54.434Z"
   },
   {
    "duration": 147,
    "start_time": "2022-11-12T22:22:54.568Z"
   },
   {
    "duration": 24,
    "start_time": "2022-11-12T22:22:54.717Z"
   },
   {
    "duration": 38,
    "start_time": "2022-11-12T22:22:54.742Z"
   },
   {
    "duration": 19,
    "start_time": "2022-11-12T22:22:54.782Z"
   },
   {
    "duration": 24,
    "start_time": "2022-11-12T22:22:54.802Z"
   },
   {
    "duration": 77,
    "start_time": "2022-11-12T22:22:54.828Z"
   },
   {
    "duration": 4,
    "start_time": "2022-11-12T22:22:54.907Z"
   },
   {
    "duration": 70,
    "start_time": "2022-11-12T22:22:54.914Z"
   },
   {
    "duration": 198,
    "start_time": "2022-11-12T22:22:54.986Z"
   },
   {
    "duration": 194,
    "start_time": "2022-11-12T22:22:55.186Z"
   },
   {
    "duration": 99,
    "start_time": "2022-11-12T22:22:55.382Z"
   },
   {
    "duration": 6,
    "start_time": "2022-11-12T22:22:55.483Z"
   },
   {
    "duration": 21,
    "start_time": "2022-11-12T22:22:55.491Z"
   },
   {
    "duration": 15,
    "start_time": "2022-11-12T22:22:55.514Z"
   },
   {
    "duration": 11,
    "start_time": "2022-11-12T22:22:55.531Z"
   },
   {
    "duration": 9,
    "start_time": "2022-11-12T22:22:55.543Z"
   },
   {
    "duration": 5,
    "start_time": "2022-11-12T22:22:55.554Z"
   },
   {
    "duration": 14,
    "start_time": "2022-11-12T22:22:55.561Z"
   },
   {
    "duration": 8,
    "start_time": "2022-11-12T22:22:55.577Z"
   },
   {
    "duration": 12,
    "start_time": "2022-11-12T22:22:55.586Z"
   },
   {
    "duration": 3379,
    "start_time": "2022-11-12T22:22:55.600Z"
   },
   {
    "duration": 48,
    "start_time": "2022-11-13T14:19:24.673Z"
   },
   {
    "duration": 1604,
    "start_time": "2022-11-13T14:19:33.505Z"
   },
   {
    "duration": 879,
    "start_time": "2022-11-13T14:19:35.111Z"
   },
   {
    "duration": 29,
    "start_time": "2022-11-13T14:19:35.992Z"
   },
   {
    "duration": 8,
    "start_time": "2022-11-13T14:19:36.023Z"
   },
   {
    "duration": 62,
    "start_time": "2022-11-13T14:19:36.033Z"
   },
   {
    "duration": 136,
    "start_time": "2022-11-13T14:19:36.097Z"
   },
   {
    "duration": 133,
    "start_time": "2022-11-13T14:19:36.234Z"
   },
   {
    "duration": 32,
    "start_time": "2022-11-13T14:19:36.368Z"
   },
   {
    "duration": 20,
    "start_time": "2022-11-13T14:19:36.401Z"
   },
   {
    "duration": 24,
    "start_time": "2022-11-13T14:19:36.423Z"
   },
   {
    "duration": 41,
    "start_time": "2022-11-13T14:19:36.449Z"
   },
   {
    "duration": 18,
    "start_time": "2022-11-13T14:19:36.492Z"
   },
   {
    "duration": 69,
    "start_time": "2022-11-13T14:19:36.511Z"
   },
   {
    "duration": 2,
    "start_time": "2022-11-13T14:19:36.582Z"
   },
   {
    "duration": 93,
    "start_time": "2022-11-13T14:19:36.586Z"
   },
   {
    "duration": 200,
    "start_time": "2022-11-13T14:19:36.681Z"
   },
   {
    "duration": 103,
    "start_time": "2022-11-13T14:19:36.883Z"
   },
   {
    "duration": 193,
    "start_time": "2022-11-13T14:19:36.989Z"
   },
   {
    "duration": 6,
    "start_time": "2022-11-13T14:19:37.184Z"
   },
   {
    "duration": 15,
    "start_time": "2022-11-13T14:19:37.191Z"
   },
   {
    "duration": 11,
    "start_time": "2022-11-13T14:19:37.208Z"
   },
   {
    "duration": 10,
    "start_time": "2022-11-13T14:19:37.222Z"
   },
   {
    "duration": 10,
    "start_time": "2022-11-13T14:19:37.234Z"
   },
   {
    "duration": 5,
    "start_time": "2022-11-13T14:19:37.246Z"
   },
   {
    "duration": 19,
    "start_time": "2022-11-13T14:19:37.253Z"
   },
   {
    "duration": 11,
    "start_time": "2022-11-13T14:19:37.274Z"
   },
   {
    "duration": 9,
    "start_time": "2022-11-13T14:19:37.287Z"
   },
   {
    "duration": 3276,
    "start_time": "2022-11-13T14:19:37.299Z"
   },
   {
    "duration": 20,
    "start_time": "2022-11-13T14:20:04.200Z"
   },
   {
    "duration": 15,
    "start_time": "2022-11-13T14:20:14.842Z"
   },
   {
    "duration": 11,
    "start_time": "2022-11-13T20:42:11.557Z"
   },
   {
    "duration": 3,
    "start_time": "2022-11-13T20:42:11.989Z"
   },
   {
    "duration": 3,
    "start_time": "2022-11-13T20:42:12.549Z"
   },
   {
    "duration": 1633,
    "start_time": "2022-11-13T20:43:23.384Z"
   },
   {
    "duration": 922,
    "start_time": "2022-11-13T20:43:25.020Z"
   },
   {
    "duration": 28,
    "start_time": "2022-11-13T20:43:25.943Z"
   },
   {
    "duration": 9,
    "start_time": "2022-11-13T20:43:25.974Z"
   },
   {
    "duration": 77,
    "start_time": "2022-11-13T20:43:25.985Z"
   },
   {
    "duration": 129,
    "start_time": "2022-11-13T20:43:26.063Z"
   },
   {
    "duration": 141,
    "start_time": "2022-11-13T20:43:26.194Z"
   },
   {
    "duration": 37,
    "start_time": "2022-11-13T20:43:26.337Z"
   },
   {
    "duration": 22,
    "start_time": "2022-11-13T20:43:26.376Z"
   },
   {
    "duration": 50,
    "start_time": "2022-11-13T20:43:26.402Z"
   },
   {
    "duration": 21,
    "start_time": "2022-11-13T20:43:26.454Z"
   },
   {
    "duration": 17,
    "start_time": "2022-11-13T20:43:26.477Z"
   },
   {
    "duration": 15,
    "start_time": "2022-11-13T20:43:26.496Z"
   },
   {
    "duration": 43,
    "start_time": "2022-11-13T20:43:26.513Z"
   },
   {
    "duration": 62,
    "start_time": "2022-11-13T20:43:26.558Z"
   },
   {
    "duration": 3,
    "start_time": "2022-11-13T20:43:26.622Z"
   },
   {
    "duration": 125,
    "start_time": "2022-11-13T20:43:26.626Z"
   },
   {
    "duration": 109,
    "start_time": "2022-11-13T20:43:26.753Z"
   },
   {
    "duration": 192,
    "start_time": "2022-11-13T20:43:26.864Z"
   },
   {
    "duration": 106,
    "start_time": "2022-11-13T20:43:27.058Z"
   },
   {
    "duration": 92,
    "start_time": "2022-11-13T20:43:27.165Z"
   },
   {
    "duration": 5,
    "start_time": "2022-11-13T20:43:27.259Z"
   },
   {
    "duration": 6,
    "start_time": "2022-11-13T20:43:27.265Z"
   },
   {
    "duration": 9,
    "start_time": "2022-11-13T20:43:27.273Z"
   },
   {
    "duration": 13,
    "start_time": "2022-11-13T20:43:27.284Z"
   },
   {
    "duration": 6,
    "start_time": "2022-11-13T20:43:27.299Z"
   },
   {
    "duration": 144,
    "start_time": "2022-11-13T20:43:27.306Z"
   },
   {
    "duration": 0,
    "start_time": "2022-11-13T20:43:27.452Z"
   },
   {
    "duration": 0,
    "start_time": "2022-11-13T20:43:27.453Z"
   },
   {
    "duration": 0,
    "start_time": "2022-11-13T20:43:27.454Z"
   },
   {
    "duration": 4,
    "start_time": "2022-11-13T20:45:51.393Z"
   },
   {
    "duration": 9,
    "start_time": "2022-11-13T20:45:52.654Z"
   },
   {
    "duration": 11,
    "start_time": "2022-11-13T20:45:53.401Z"
   },
   {
    "duration": 9,
    "start_time": "2022-11-13T20:45:54.071Z"
   },
   {
    "duration": 3515,
    "start_time": "2022-11-13T20:45:59.592Z"
   },
   {
    "duration": 9,
    "start_time": "2022-11-13T20:50:40.887Z"
   },
   {
    "duration": 9,
    "start_time": "2022-11-13T20:53:40.267Z"
   },
   {
    "duration": 9,
    "start_time": "2022-11-13T20:53:50.065Z"
   },
   {
    "duration": 19,
    "start_time": "2022-11-13T20:54:03.604Z"
   },
   {
    "duration": 9,
    "start_time": "2022-11-13T20:54:07.945Z"
   },
   {
    "duration": 14,
    "start_time": "2022-11-13T20:54:23.528Z"
   },
   {
    "duration": 14,
    "start_time": "2022-11-13T20:54:40.550Z"
   },
   {
    "duration": 10,
    "start_time": "2022-11-13T20:54:49.448Z"
   },
   {
    "duration": 27,
    "start_time": "2022-11-13T21:01:16.305Z"
   },
   {
    "duration": 27,
    "start_time": "2022-11-13T21:01:47.776Z"
   },
   {
    "duration": 3475,
    "start_time": "2022-11-13T21:02:13.827Z"
   },
   {
    "duration": 36,
    "start_time": "2022-11-13T21:03:59.600Z"
   },
   {
    "duration": 1177,
    "start_time": "2022-11-13T21:05:07.827Z"
   },
   {
    "duration": 3462,
    "start_time": "2022-11-13T21:05:20.277Z"
   },
   {
    "duration": 4,
    "start_time": "2022-11-13T21:09:13.531Z"
   },
   {
    "duration": 24,
    "start_time": "2022-11-13T21:09:15.133Z"
   },
   {
    "duration": 5,
    "start_time": "2022-11-13T21:09:29.745Z"
   },
   {
    "duration": 9,
    "start_time": "2022-11-13T21:09:30.827Z"
   },
   {
    "duration": 9,
    "start_time": "2022-11-13T21:09:31.227Z"
   },
   {
    "duration": 10,
    "start_time": "2022-11-13T21:09:31.668Z"
   },
   {
    "duration": 3434,
    "start_time": "2022-11-13T21:09:33.251Z"
   },
   {
    "duration": 9,
    "start_time": "2022-11-13T21:09:37.011Z"
   },
   {
    "duration": 1417,
    "start_time": "2022-11-13T21:14:19.873Z"
   },
   {
    "duration": 406,
    "start_time": "2022-11-13T21:14:21.292Z"
   },
   {
    "duration": 28,
    "start_time": "2022-11-13T21:14:21.700Z"
   },
   {
    "duration": 23,
    "start_time": "2022-11-13T21:14:21.730Z"
   },
   {
    "duration": 44,
    "start_time": "2022-11-13T21:14:21.755Z"
   },
   {
    "duration": 141,
    "start_time": "2022-11-13T21:14:21.800Z"
   },
   {
    "duration": 141,
    "start_time": "2022-11-13T21:14:21.951Z"
   },
   {
    "duration": 26,
    "start_time": "2022-11-13T21:14:22.094Z"
   },
   {
    "duration": 42,
    "start_time": "2022-11-13T21:14:22.121Z"
   },
   {
    "duration": 24,
    "start_time": "2022-11-13T21:14:22.166Z"
   },
   {
    "duration": 24,
    "start_time": "2022-11-13T21:14:22.192Z"
   },
   {
    "duration": 38,
    "start_time": "2022-11-13T21:14:22.218Z"
   },
   {
    "duration": 16,
    "start_time": "2022-11-13T21:14:22.258Z"
   },
   {
    "duration": 15,
    "start_time": "2022-11-13T21:14:22.276Z"
   },
   {
    "duration": 83,
    "start_time": "2022-11-13T21:14:22.293Z"
   },
   {
    "duration": 2,
    "start_time": "2022-11-13T21:14:22.378Z"
   },
   {
    "duration": 74,
    "start_time": "2022-11-13T21:14:22.382Z"
   },
   {
    "duration": 295,
    "start_time": "2022-11-13T21:14:22.458Z"
   },
   {
    "duration": 115,
    "start_time": "2022-11-13T21:14:22.755Z"
   },
   {
    "duration": 83,
    "start_time": "2022-11-13T21:14:22.872Z"
   },
   {
    "duration": 93,
    "start_time": "2022-11-13T21:14:22.959Z"
   },
   {
    "duration": 8,
    "start_time": "2022-11-13T21:14:23.054Z"
   },
   {
    "duration": 6,
    "start_time": "2022-11-13T21:14:23.064Z"
   },
   {
    "duration": 5,
    "start_time": "2022-11-13T21:14:23.072Z"
   },
   {
    "duration": 8,
    "start_time": "2022-11-13T21:14:23.079Z"
   },
   {
    "duration": 8,
    "start_time": "2022-11-13T21:14:23.089Z"
   },
   {
    "duration": 17,
    "start_time": "2022-11-13T21:14:23.098Z"
   },
   {
    "duration": 8,
    "start_time": "2022-11-13T21:14:23.118Z"
   },
   {
    "duration": 9,
    "start_time": "2022-11-13T21:14:23.151Z"
   },
   {
    "duration": 3496,
    "start_time": "2022-11-13T21:14:23.162Z"
   },
   {
    "duration": 9,
    "start_time": "2022-11-13T21:14:26.660Z"
   },
   {
    "duration": 89,
    "start_time": "2022-11-13T21:16:17.859Z"
   },
   {
    "duration": 65,
    "start_time": "2022-11-13T21:16:27.149Z"
   },
   {
    "duration": 56,
    "start_time": "2022-11-13T21:16:38.884Z"
   },
   {
    "duration": 1438,
    "start_time": "2022-11-13T21:17:03.547Z"
   },
   {
    "duration": 437,
    "start_time": "2022-11-13T21:17:04.988Z"
   },
   {
    "duration": 52,
    "start_time": "2022-11-13T21:17:05.428Z"
   },
   {
    "duration": 11,
    "start_time": "2022-11-13T21:17:05.483Z"
   },
   {
    "duration": 88,
    "start_time": "2022-11-13T21:17:05.496Z"
   },
   {
    "duration": 133,
    "start_time": "2022-11-13T21:17:05.587Z"
   },
   {
    "duration": 173,
    "start_time": "2022-11-13T21:17:05.722Z"
   },
   {
    "duration": 31,
    "start_time": "2022-11-13T21:17:05.897Z"
   },
   {
    "duration": 41,
    "start_time": "2022-11-13T21:17:05.930Z"
   },
   {
    "duration": 34,
    "start_time": "2022-11-13T21:17:05.975Z"
   },
   {
    "duration": 60,
    "start_time": "2022-11-13T21:17:06.011Z"
   },
   {
    "duration": 18,
    "start_time": "2022-11-13T21:17:06.073Z"
   },
   {
    "duration": 16,
    "start_time": "2022-11-13T21:17:06.092Z"
   },
   {
    "duration": 49,
    "start_time": "2022-11-13T21:17:06.110Z"
   },
   {
    "duration": 66,
    "start_time": "2022-11-13T21:17:06.161Z"
   },
   {
    "duration": 22,
    "start_time": "2022-11-13T21:17:06.229Z"
   },
   {
    "duration": 103,
    "start_time": "2022-11-13T21:17:06.253Z"
   },
   {
    "duration": 194,
    "start_time": "2022-11-13T21:17:06.358Z"
   },
   {
    "duration": 112,
    "start_time": "2022-11-13T21:17:06.555Z"
   },
   {
    "duration": 84,
    "start_time": "2022-11-13T21:17:06.669Z"
   },
   {
    "duration": 105,
    "start_time": "2022-11-13T21:17:06.754Z"
   },
   {
    "duration": 6,
    "start_time": "2022-11-13T21:17:06.861Z"
   },
   {
    "duration": 5,
    "start_time": "2022-11-13T21:17:06.869Z"
   },
   {
    "duration": 7,
    "start_time": "2022-11-13T21:17:06.877Z"
   },
   {
    "duration": 10,
    "start_time": "2022-11-13T21:17:06.887Z"
   },
   {
    "duration": 5,
    "start_time": "2022-11-13T21:17:06.899Z"
   },
   {
    "duration": 16,
    "start_time": "2022-11-13T21:17:06.905Z"
   },
   {
    "duration": 10,
    "start_time": "2022-11-13T21:17:06.950Z"
   },
   {
    "duration": 11,
    "start_time": "2022-11-13T21:17:06.962Z"
   },
   {
    "duration": 3844,
    "start_time": "2022-11-13T21:17:06.975Z"
   },
   {
    "duration": 11,
    "start_time": "2022-11-13T21:17:10.821Z"
   },
   {
    "duration": 119,
    "start_time": "2022-11-13T21:19:57.481Z"
   },
   {
    "duration": 27,
    "start_time": "2022-11-13T21:20:22.247Z"
   },
   {
    "duration": 39,
    "start_time": "2022-11-13T21:20:32.908Z"
   },
   {
    "duration": 30,
    "start_time": "2022-11-13T21:20:47.608Z"
   },
   {
    "duration": 27,
    "start_time": "2022-11-13T21:22:28.562Z"
   },
   {
    "duration": 26,
    "start_time": "2022-11-13T21:23:00.275Z"
   },
   {
    "duration": 1512,
    "start_time": "2022-11-13T21:23:08.124Z"
   },
   {
    "duration": 463,
    "start_time": "2022-11-13T21:23:09.638Z"
   },
   {
    "duration": 30,
    "start_time": "2022-11-13T21:23:10.102Z"
   },
   {
    "duration": 20,
    "start_time": "2022-11-13T21:23:10.134Z"
   },
   {
    "duration": 59,
    "start_time": "2022-11-13T21:23:10.156Z"
   },
   {
    "duration": 175,
    "start_time": "2022-11-13T21:23:10.217Z"
   },
   {
    "duration": 148,
    "start_time": "2022-11-13T21:23:10.393Z"
   },
   {
    "duration": 27,
    "start_time": "2022-11-13T21:23:10.551Z"
   },
   {
    "duration": 34,
    "start_time": "2022-11-13T21:23:10.580Z"
   },
   {
    "duration": 44,
    "start_time": "2022-11-13T21:23:10.618Z"
   },
   {
    "duration": 38,
    "start_time": "2022-11-13T21:23:10.664Z"
   },
   {
    "duration": 24,
    "start_time": "2022-11-13T21:23:10.704Z"
   },
   {
    "duration": 26,
    "start_time": "2022-11-13T21:23:10.730Z"
   },
   {
    "duration": 16,
    "start_time": "2022-11-13T21:23:10.758Z"
   },
   {
    "duration": 85,
    "start_time": "2022-11-13T21:23:10.776Z"
   },
   {
    "duration": 3,
    "start_time": "2022-11-13T21:23:10.865Z"
   },
   {
    "duration": 80,
    "start_time": "2022-11-13T21:23:10.870Z"
   },
   {
    "duration": 201,
    "start_time": "2022-11-13T21:23:10.952Z"
   },
   {
    "duration": 114,
    "start_time": "2022-11-13T21:23:11.155Z"
   },
   {
    "duration": 4,
    "start_time": "2022-11-13T21:23:11.351Z"
   },
   {
    "duration": 97,
    "start_time": "2022-11-13T21:23:11.358Z"
   },
   {
    "duration": 7,
    "start_time": "2022-11-13T21:23:11.457Z"
   },
   {
    "duration": 8,
    "start_time": "2022-11-13T21:23:11.466Z"
   },
   {
    "duration": 7,
    "start_time": "2022-11-13T21:23:11.476Z"
   },
   {
    "duration": 8,
    "start_time": "2022-11-13T21:23:11.484Z"
   },
   {
    "duration": 5,
    "start_time": "2022-11-13T21:23:11.494Z"
   },
   {
    "duration": 17,
    "start_time": "2022-11-13T21:23:11.501Z"
   },
   {
    "duration": 34,
    "start_time": "2022-11-13T21:23:11.521Z"
   },
   {
    "duration": 9,
    "start_time": "2022-11-13T21:23:11.557Z"
   },
   {
    "duration": 3834,
    "start_time": "2022-11-13T21:23:11.568Z"
   },
   {
    "duration": 10,
    "start_time": "2022-11-13T21:23:15.405Z"
   },
   {
    "duration": 1705,
    "start_time": "2022-11-15T19:20:08.104Z"
   },
   {
    "duration": 887,
    "start_time": "2022-11-15T19:20:09.811Z"
   },
   {
    "duration": 26,
    "start_time": "2022-11-15T19:20:10.702Z"
   },
   {
    "duration": 6,
    "start_time": "2022-11-15T19:20:10.729Z"
   },
   {
    "duration": 60,
    "start_time": "2022-11-15T19:20:10.738Z"
   },
   {
    "duration": 126,
    "start_time": "2022-11-15T19:20:10.821Z"
   },
   {
    "duration": 123,
    "start_time": "2022-11-15T19:20:10.948Z"
   },
   {
    "duration": 24,
    "start_time": "2022-11-15T19:20:11.073Z"
   },
   {
    "duration": 38,
    "start_time": "2022-11-15T19:20:11.099Z"
   },
   {
    "duration": 24,
    "start_time": "2022-11-15T19:20:11.139Z"
   },
   {
    "duration": 21,
    "start_time": "2022-11-15T19:20:11.165Z"
   },
   {
    "duration": 34,
    "start_time": "2022-11-15T19:20:11.188Z"
   },
   {
    "duration": 14,
    "start_time": "2022-11-15T19:20:11.224Z"
   },
   {
    "duration": 14,
    "start_time": "2022-11-15T19:20:11.240Z"
   },
   {
    "duration": 78,
    "start_time": "2022-11-15T19:20:11.256Z"
   },
   {
    "duration": 3,
    "start_time": "2022-11-15T19:20:11.335Z"
   },
   {
    "duration": 86,
    "start_time": "2022-11-15T19:20:11.340Z"
   },
   {
    "duration": 104,
    "start_time": "2022-11-15T19:20:11.428Z"
   },
   {
    "duration": 208,
    "start_time": "2022-11-15T19:20:11.533Z"
   },
   {
    "duration": 81,
    "start_time": "2022-11-15T19:20:11.743Z"
   },
   {
    "duration": 102,
    "start_time": "2022-11-15T19:20:11.826Z"
   },
   {
    "duration": 5,
    "start_time": "2022-11-15T19:20:11.930Z"
   },
   {
    "duration": 6,
    "start_time": "2022-11-15T19:20:11.937Z"
   },
   {
    "duration": 6,
    "start_time": "2022-11-15T19:20:11.945Z"
   },
   {
    "duration": 8,
    "start_time": "2022-11-15T19:20:11.953Z"
   },
   {
    "duration": 11,
    "start_time": "2022-11-15T19:20:11.962Z"
   },
   {
    "duration": 13,
    "start_time": "2022-11-15T19:20:11.974Z"
   },
   {
    "duration": 8,
    "start_time": "2022-11-15T19:20:11.988Z"
   },
   {
    "duration": 31,
    "start_time": "2022-11-15T19:20:11.998Z"
   },
   {
    "duration": 3257,
    "start_time": "2022-11-15T19:20:12.030Z"
   },
   {
    "duration": 3102,
    "start_time": "2022-11-15T19:20:15.289Z"
   },
   {
    "duration": 7,
    "start_time": "2022-11-15T19:20:18.392Z"
   },
   {
    "duration": 1466,
    "start_time": "2022-11-15T21:23:38.658Z"
   },
   {
    "duration": 1644,
    "start_time": "2022-11-15T21:23:40.126Z"
   },
   {
    "duration": 23,
    "start_time": "2022-11-15T21:23:41.771Z"
   },
   {
    "duration": 6,
    "start_time": "2022-11-15T21:23:41.796Z"
   },
   {
    "duration": 35,
    "start_time": "2022-11-15T21:23:41.804Z"
   },
   {
    "duration": 118,
    "start_time": "2022-11-15T21:23:41.841Z"
   },
   {
    "duration": 122,
    "start_time": "2022-11-15T21:23:41.960Z"
   },
   {
    "duration": 22,
    "start_time": "2022-11-15T21:23:42.083Z"
   },
   {
    "duration": 16,
    "start_time": "2022-11-15T21:23:42.106Z"
   },
   {
    "duration": 16,
    "start_time": "2022-11-15T21:23:42.125Z"
   },
   {
    "duration": 42,
    "start_time": "2022-11-15T21:23:42.143Z"
   },
   {
    "duration": 17,
    "start_time": "2022-11-15T21:23:42.186Z"
   },
   {
    "duration": 27,
    "start_time": "2022-11-15T21:23:42.205Z"
   },
   {
    "duration": 13,
    "start_time": "2022-11-15T21:23:42.235Z"
   },
   {
    "duration": 60,
    "start_time": "2022-11-15T21:23:42.250Z"
   },
   {
    "duration": 2,
    "start_time": "2022-11-15T21:23:42.312Z"
   },
   {
    "duration": 64,
    "start_time": "2022-11-15T21:23:42.316Z"
   },
   {
    "duration": 197,
    "start_time": "2022-11-15T21:23:42.383Z"
   },
   {
    "duration": 104,
    "start_time": "2022-11-15T21:23:42.582Z"
   },
   {
    "duration": 90,
    "start_time": "2022-11-15T21:23:42.688Z"
   },
   {
    "duration": 99,
    "start_time": "2022-11-15T21:23:42.784Z"
   },
   {
    "duration": 4,
    "start_time": "2022-11-15T21:23:42.885Z"
   },
   {
    "duration": 11,
    "start_time": "2022-11-15T21:23:42.892Z"
   },
   {
    "duration": 6,
    "start_time": "2022-11-15T21:23:42.904Z"
   },
   {
    "duration": 9,
    "start_time": "2022-11-15T21:23:42.911Z"
   },
   {
    "duration": 4,
    "start_time": "2022-11-15T21:23:42.921Z"
   },
   {
    "duration": 13,
    "start_time": "2022-11-15T21:23:42.926Z"
   },
   {
    "duration": 6,
    "start_time": "2022-11-15T21:23:42.942Z"
   },
   {
    "duration": 6,
    "start_time": "2022-11-15T21:23:42.950Z"
   },
   {
    "duration": 130,
    "start_time": "2022-11-15T21:23:42.958Z"
   },
   {
    "duration": 0,
    "start_time": "2022-11-15T21:23:43.090Z"
   },
   {
    "duration": 53,
    "start_time": "2022-11-15T21:24:15.808Z"
   },
   {
    "duration": 16,
    "start_time": "2022-11-15T21:24:28.349Z"
   },
   {
    "duration": 27,
    "start_time": "2022-11-15T21:28:39.144Z"
   },
   {
    "duration": 22,
    "start_time": "2022-11-15T21:28:58.332Z"
   },
   {
    "duration": 1469,
    "start_time": "2022-11-15T21:30:11.189Z"
   },
   {
    "duration": 360,
    "start_time": "2022-11-15T21:30:12.659Z"
   },
   {
    "duration": 23,
    "start_time": "2022-11-15T21:30:13.020Z"
   },
   {
    "duration": 7,
    "start_time": "2022-11-15T21:30:13.045Z"
   },
   {
    "duration": 55,
    "start_time": "2022-11-15T21:30:13.053Z"
   },
   {
    "duration": 112,
    "start_time": "2022-11-15T21:30:13.109Z"
   },
   {
    "duration": 108,
    "start_time": "2022-11-15T21:30:13.223Z"
   },
   {
    "duration": 21,
    "start_time": "2022-11-15T21:30:13.333Z"
   },
   {
    "duration": 34,
    "start_time": "2022-11-15T21:30:13.355Z"
   },
   {
    "duration": 23,
    "start_time": "2022-11-15T21:30:13.391Z"
   },
   {
    "duration": 17,
    "start_time": "2022-11-15T21:30:13.415Z"
   },
   {
    "duration": 15,
    "start_time": "2022-11-15T21:30:13.434Z"
   },
   {
    "duration": 29,
    "start_time": "2022-11-15T21:30:13.450Z"
   },
   {
    "duration": 13,
    "start_time": "2022-11-15T21:30:13.480Z"
   },
   {
    "duration": 54,
    "start_time": "2022-11-15T21:30:13.494Z"
   },
   {
    "duration": 3,
    "start_time": "2022-11-15T21:30:13.549Z"
   },
   {
    "duration": 41,
    "start_time": "2022-11-15T21:30:13.553Z"
   },
   {
    "duration": 199,
    "start_time": "2022-11-15T21:30:13.595Z"
   },
   {
    "duration": 281,
    "start_time": "2022-11-15T21:30:13.796Z"
   },
   {
    "duration": 109,
    "start_time": "2022-11-15T21:30:14.079Z"
   },
   {
    "duration": 14,
    "start_time": "2022-11-15T21:30:14.189Z"
   },
   {
    "duration": 17,
    "start_time": "2022-11-15T21:30:14.205Z"
   },
   {
    "duration": 7,
    "start_time": "2022-11-15T21:30:14.223Z"
   },
   {
    "duration": 4,
    "start_time": "2022-11-15T21:30:14.232Z"
   },
   {
    "duration": 8,
    "start_time": "2022-11-15T21:30:14.238Z"
   },
   {
    "duration": 4,
    "start_time": "2022-11-15T21:30:14.248Z"
   },
   {
    "duration": 11,
    "start_time": "2022-11-15T21:30:14.253Z"
   },
   {
    "duration": 8,
    "start_time": "2022-11-15T21:30:14.267Z"
   },
   {
    "duration": 13,
    "start_time": "2022-11-15T21:30:14.276Z"
   },
   {
    "duration": 114,
    "start_time": "2022-11-15T21:30:14.290Z"
   },
   {
    "duration": 0,
    "start_time": "2022-11-15T21:30:14.406Z"
   },
   {
    "duration": 23,
    "start_time": "2022-11-15T21:31:45.675Z"
   },
   {
    "duration": 18,
    "start_time": "2022-11-15T21:33:19.603Z"
   },
   {
    "duration": 16,
    "start_time": "2022-11-15T21:33:31.837Z"
   },
   {
    "duration": 3,
    "start_time": "2022-11-15T21:34:25.839Z"
   },
   {
    "duration": 20,
    "start_time": "2022-11-15T21:34:28.296Z"
   },
   {
    "duration": 20,
    "start_time": "2022-11-15T21:35:30.786Z"
   },
   {
    "duration": 8,
    "start_time": "2022-11-15T21:41:15.413Z"
   },
   {
    "duration": 21,
    "start_time": "2022-11-15T21:50:22.358Z"
   },
   {
    "duration": 4,
    "start_time": "2022-11-15T21:54:19.491Z"
   },
   {
    "duration": 21,
    "start_time": "2022-11-15T21:54:28.787Z"
   },
   {
    "duration": 15,
    "start_time": "2022-11-15T21:54:39.750Z"
   },
   {
    "duration": 15,
    "start_time": "2022-11-15T21:54:52.256Z"
   },
   {
    "duration": 13,
    "start_time": "2022-11-15T21:55:03.361Z"
   },
   {
    "duration": 15,
    "start_time": "2022-11-15T21:55:22.053Z"
   },
   {
    "duration": 24,
    "start_time": "2022-11-15T21:57:06.317Z"
   },
   {
    "duration": 3,
    "start_time": "2022-11-15T21:57:27.194Z"
   },
   {
    "duration": 2976,
    "start_time": "2022-11-15T21:57:31.546Z"
   },
   {
    "duration": 1335,
    "start_time": "2022-11-15T21:58:24.242Z"
   },
   {
    "duration": 347,
    "start_time": "2022-11-15T21:58:25.579Z"
   },
   {
    "duration": 27,
    "start_time": "2022-11-15T21:58:25.927Z"
   },
   {
    "duration": 22,
    "start_time": "2022-11-15T21:58:25.956Z"
   },
   {
    "duration": 33,
    "start_time": "2022-11-15T21:58:25.980Z"
   },
   {
    "duration": 105,
    "start_time": "2022-11-15T21:58:26.015Z"
   },
   {
    "duration": 115,
    "start_time": "2022-11-15T21:58:26.121Z"
   },
   {
    "duration": 40,
    "start_time": "2022-11-15T21:58:26.237Z"
   },
   {
    "duration": 17,
    "start_time": "2022-11-15T21:58:26.278Z"
   },
   {
    "duration": 17,
    "start_time": "2022-11-15T21:58:26.297Z"
   },
   {
    "duration": 16,
    "start_time": "2022-11-15T21:58:26.315Z"
   },
   {
    "duration": 33,
    "start_time": "2022-11-15T21:58:26.333Z"
   },
   {
    "duration": 17,
    "start_time": "2022-11-15T21:58:26.368Z"
   },
   {
    "duration": 14,
    "start_time": "2022-11-15T21:58:26.387Z"
   },
   {
    "duration": 56,
    "start_time": "2022-11-15T21:58:26.403Z"
   },
   {
    "duration": 3,
    "start_time": "2022-11-15T21:58:26.477Z"
   },
   {
    "duration": 98,
    "start_time": "2022-11-15T21:58:26.481Z"
   },
   {
    "duration": 108,
    "start_time": "2022-11-15T21:58:26.583Z"
   },
   {
    "duration": 287,
    "start_time": "2022-11-15T21:58:26.693Z"
   },
   {
    "duration": 195,
    "start_time": "2022-11-15T21:58:26.982Z"
   },
   {
    "duration": 6,
    "start_time": "2022-11-15T21:58:27.179Z"
   },
   {
    "duration": 5,
    "start_time": "2022-11-15T21:58:27.186Z"
   },
   {
    "duration": 13,
    "start_time": "2022-11-15T21:58:27.193Z"
   },
   {
    "duration": 11,
    "start_time": "2022-11-15T21:58:27.208Z"
   },
   {
    "duration": 15,
    "start_time": "2022-11-15T21:58:27.220Z"
   },
   {
    "duration": 5,
    "start_time": "2022-11-15T21:58:27.236Z"
   },
   {
    "duration": 13,
    "start_time": "2022-11-15T21:58:27.243Z"
   },
   {
    "duration": 10,
    "start_time": "2022-11-15T21:58:27.259Z"
   },
   {
    "duration": 11,
    "start_time": "2022-11-15T21:58:27.270Z"
   },
   {
    "duration": 2,
    "start_time": "2022-11-15T21:58:27.282Z"
   },
   {
    "duration": 3107,
    "start_time": "2022-11-15T21:58:27.286Z"
   },
   {
    "duration": 7,
    "start_time": "2022-11-15T21:58:30.395Z"
   },
   {
    "duration": 3079,
    "start_time": "2022-11-15T22:00:21.980Z"
   },
   {
    "duration": 107,
    "start_time": "2022-11-15T22:00:48.034Z"
   },
   {
    "duration": 47,
    "start_time": "2022-11-16T21:05:39.381Z"
   },
   {
    "duration": 1519,
    "start_time": "2022-11-16T21:05:47.718Z"
   },
   {
    "duration": 955,
    "start_time": "2022-11-16T21:05:49.240Z"
   },
   {
    "duration": 25,
    "start_time": "2022-11-16T21:05:50.197Z"
   },
   {
    "duration": 6,
    "start_time": "2022-11-16T21:05:50.224Z"
   },
   {
    "duration": 45,
    "start_time": "2022-11-16T21:05:50.232Z"
   },
   {
    "duration": 124,
    "start_time": "2022-11-16T21:05:50.279Z"
   },
   {
    "duration": 137,
    "start_time": "2022-11-16T21:05:50.405Z"
   },
   {
    "duration": 37,
    "start_time": "2022-11-16T21:05:50.544Z"
   },
   {
    "duration": 20,
    "start_time": "2022-11-16T21:05:50.583Z"
   },
   {
    "duration": 51,
    "start_time": "2022-11-16T21:05:50.607Z"
   },
   {
    "duration": 29,
    "start_time": "2022-11-16T21:05:50.660Z"
   },
   {
    "duration": 17,
    "start_time": "2022-11-16T21:05:50.691Z"
   },
   {
    "duration": 22,
    "start_time": "2022-11-16T21:05:50.709Z"
   },
   {
    "duration": 37,
    "start_time": "2022-11-16T21:05:50.733Z"
   },
   {
    "duration": 63,
    "start_time": "2022-11-16T21:05:50.773Z"
   },
   {
    "duration": 3,
    "start_time": "2022-11-16T21:05:50.854Z"
   },
   {
    "duration": 98,
    "start_time": "2022-11-16T21:05:50.860Z"
   },
   {
    "duration": 217,
    "start_time": "2022-11-16T21:05:50.960Z"
   },
   {
    "duration": 111,
    "start_time": "2022-11-16T21:05:51.253Z"
   },
   {
    "duration": 199,
    "start_time": "2022-11-16T21:05:51.366Z"
   },
   {
    "duration": 16,
    "start_time": "2022-11-16T21:05:51.566Z"
   },
   {
    "duration": 5,
    "start_time": "2022-11-16T21:05:51.584Z"
   },
   {
    "duration": 7,
    "start_time": "2022-11-16T21:05:51.591Z"
   },
   {
    "duration": 5,
    "start_time": "2022-11-16T21:05:51.600Z"
   },
   {
    "duration": 21,
    "start_time": "2022-11-16T21:05:51.607Z"
   },
   {
    "duration": 12,
    "start_time": "2022-11-16T21:05:51.630Z"
   },
   {
    "duration": 19,
    "start_time": "2022-11-16T21:05:51.644Z"
   },
   {
    "duration": 11,
    "start_time": "2022-11-16T21:05:51.667Z"
   },
   {
    "duration": 8,
    "start_time": "2022-11-16T21:05:51.679Z"
   },
   {
    "duration": 123,
    "start_time": "2022-11-16T21:05:51.689Z"
   },
   {
    "duration": 0,
    "start_time": "2022-11-16T21:05:51.814Z"
   },
   {
    "duration": 19,
    "start_time": "2022-11-16T21:06:43.012Z"
   },
   {
    "duration": 3447,
    "start_time": "2022-11-16T21:07:15.358Z"
   },
   {
    "duration": 3217,
    "start_time": "2022-11-16T21:07:39.793Z"
   },
   {
    "duration": 3288,
    "start_time": "2022-11-16T21:09:46.759Z"
   },
   {
    "duration": 9,
    "start_time": "2022-11-16T21:13:20.936Z"
   },
   {
    "duration": 73,
    "start_time": "2022-11-16T21:14:05.580Z"
   },
   {
    "duration": 3151,
    "start_time": "2022-11-16T21:14:14.184Z"
   },
   {
    "duration": 11,
    "start_time": "2022-11-16T21:17:52.701Z"
   },
   {
    "duration": 12,
    "start_time": "2022-11-16T21:19:49.011Z"
   },
   {
    "duration": 1498,
    "start_time": "2022-11-16T21:20:23.315Z"
   },
   {
    "duration": 491,
    "start_time": "2022-11-16T21:20:24.815Z"
   },
   {
    "duration": 27,
    "start_time": "2022-11-16T21:20:25.307Z"
   },
   {
    "duration": 17,
    "start_time": "2022-11-16T21:20:25.336Z"
   },
   {
    "duration": 45,
    "start_time": "2022-11-16T21:20:25.355Z"
   },
   {
    "duration": 156,
    "start_time": "2022-11-16T21:20:25.402Z"
   },
   {
    "duration": 157,
    "start_time": "2022-11-16T21:20:25.560Z"
   },
   {
    "duration": 41,
    "start_time": "2022-11-16T21:20:25.719Z"
   },
   {
    "duration": 22,
    "start_time": "2022-11-16T21:20:25.761Z"
   },
   {
    "duration": 21,
    "start_time": "2022-11-16T21:20:25.785Z"
   },
   {
    "duration": 27,
    "start_time": "2022-11-16T21:20:25.807Z"
   },
   {
    "duration": 34,
    "start_time": "2022-11-16T21:20:25.835Z"
   },
   {
    "duration": 16,
    "start_time": "2022-11-16T21:20:25.871Z"
   },
   {
    "duration": 15,
    "start_time": "2022-11-16T21:20:25.889Z"
   },
   {
    "duration": 148,
    "start_time": "2022-11-16T21:20:25.906Z"
   },
   {
    "duration": 0,
    "start_time": "2022-11-16T21:20:26.056Z"
   },
   {
    "duration": 0,
    "start_time": "2022-11-16T21:20:26.058Z"
   },
   {
    "duration": 0,
    "start_time": "2022-11-16T21:20:26.060Z"
   },
   {
    "duration": 0,
    "start_time": "2022-11-16T21:20:26.061Z"
   },
   {
    "duration": 0,
    "start_time": "2022-11-16T21:20:26.063Z"
   },
   {
    "duration": 0,
    "start_time": "2022-11-16T21:20:26.064Z"
   },
   {
    "duration": 0,
    "start_time": "2022-11-16T21:20:26.066Z"
   },
   {
    "duration": 0,
    "start_time": "2022-11-16T21:20:26.067Z"
   },
   {
    "duration": 0,
    "start_time": "2022-11-16T21:20:26.068Z"
   },
   {
    "duration": 0,
    "start_time": "2022-11-16T21:20:26.069Z"
   },
   {
    "duration": 0,
    "start_time": "2022-11-16T21:20:26.070Z"
   },
   {
    "duration": 0,
    "start_time": "2022-11-16T21:20:26.072Z"
   },
   {
    "duration": 0,
    "start_time": "2022-11-16T21:20:26.073Z"
   },
   {
    "duration": 0,
    "start_time": "2022-11-16T21:20:26.075Z"
   },
   {
    "duration": 0,
    "start_time": "2022-11-16T21:20:26.076Z"
   },
   {
    "duration": 0,
    "start_time": "2022-11-16T21:20:26.078Z"
   },
   {
    "duration": 0,
    "start_time": "2022-11-16T21:20:26.079Z"
   },
   {
    "duration": 9,
    "start_time": "2022-11-16T21:20:52.316Z"
   },
   {
    "duration": 364,
    "start_time": "2022-11-16T21:21:00.331Z"
   },
   {
    "duration": 318,
    "start_time": "2022-11-16T21:22:21.735Z"
   },
   {
    "duration": 333,
    "start_time": "2022-11-16T21:22:28.528Z"
   },
   {
    "duration": 1569,
    "start_time": "2022-11-17T00:18:45.309Z"
   },
   {
    "duration": 854,
    "start_time": "2022-11-17T00:18:46.880Z"
   },
   {
    "duration": 22,
    "start_time": "2022-11-17T00:18:47.736Z"
   },
   {
    "duration": 5,
    "start_time": "2022-11-17T00:18:47.760Z"
   },
   {
    "duration": 39,
    "start_time": "2022-11-17T00:18:47.766Z"
   },
   {
    "duration": 112,
    "start_time": "2022-11-17T00:18:47.822Z"
   },
   {
    "duration": 132,
    "start_time": "2022-11-17T00:18:47.936Z"
   },
   {
    "duration": 20,
    "start_time": "2022-11-17T00:18:48.069Z"
   },
   {
    "duration": 32,
    "start_time": "2022-11-17T00:18:48.090Z"
   },
   {
    "duration": 17,
    "start_time": "2022-11-17T00:18:48.124Z"
   },
   {
    "duration": 18,
    "start_time": "2022-11-17T00:18:48.143Z"
   },
   {
    "duration": 17,
    "start_time": "2022-11-17T00:18:48.162Z"
   },
   {
    "duration": 13,
    "start_time": "2022-11-17T00:18:48.181Z"
   },
   {
    "duration": 39,
    "start_time": "2022-11-17T00:18:48.196Z"
   },
   {
    "duration": 295,
    "start_time": "2022-11-17T00:18:48.237Z"
   },
   {
    "duration": 277,
    "start_time": "2022-11-17T00:18:48.534Z"
   },
   {
    "duration": 317,
    "start_time": "2022-11-17T00:18:48.812Z"
   },
   {
    "duration": 67,
    "start_time": "2022-11-17T00:18:49.131Z"
   },
   {
    "duration": 2,
    "start_time": "2022-11-17T00:18:49.200Z"
   },
   {
    "duration": 104,
    "start_time": "2022-11-17T00:18:49.222Z"
   },
   {
    "duration": 196,
    "start_time": "2022-11-17T00:18:49.328Z"
   },
   {
    "duration": 108,
    "start_time": "2022-11-17T00:18:49.527Z"
   },
   {
    "duration": 87,
    "start_time": "2022-11-17T00:18:49.637Z"
   },
   {
    "duration": 97,
    "start_time": "2022-11-17T00:18:49.727Z"
   },
   {
    "duration": 4,
    "start_time": "2022-11-17T00:18:49.827Z"
   },
   {
    "duration": 7,
    "start_time": "2022-11-17T00:18:49.833Z"
   },
   {
    "duration": 6,
    "start_time": "2022-11-17T00:18:49.842Z"
   },
   {
    "duration": 7,
    "start_time": "2022-11-17T00:18:49.850Z"
   },
   {
    "duration": 6,
    "start_time": "2022-11-17T00:18:49.859Z"
   },
   {
    "duration": 13,
    "start_time": "2022-11-17T00:18:49.866Z"
   },
   {
    "duration": 8,
    "start_time": "2022-11-17T00:18:49.881Z"
   },
   {
    "duration": 8,
    "start_time": "2022-11-17T00:18:49.890Z"
   },
   {
    "duration": 2921,
    "start_time": "2022-11-17T00:18:49.923Z"
   },
   {
    "duration": 7,
    "start_time": "2022-11-17T00:18:52.846Z"
   }
  ],
  "kernelspec": {
   "display_name": "Python 3 (ipykernel)",
   "language": "python",
   "name": "python3"
  },
  "language_info": {
   "codemirror_mode": {
    "name": "ipython",
    "version": 3
   },
   "file_extension": ".py",
   "mimetype": "text/x-python",
   "name": "python",
   "nbconvert_exporter": "python",
   "pygments_lexer": "ipython3",
   "version": "3.9.12"
  },
  "toc": {
   "base_numbering": 1,
   "nav_menu": {},
   "number_sections": true,
   "sideBar": true,
   "skip_h1_title": true,
   "title_cell": "Table of Contents",
   "title_sidebar": "Contents",
   "toc_cell": false,
   "toc_position": {},
   "toc_section_display": true,
   "toc_window_display": false
  }
 },
 "nbformat": 4,
 "nbformat_minor": 2
}
